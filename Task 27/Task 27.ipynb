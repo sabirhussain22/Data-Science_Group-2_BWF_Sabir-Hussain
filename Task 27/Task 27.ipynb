{
 "cells": [
  {
   "cell_type": "markdown",
   "id": "f34819e2-3b11-44ef-950d-ce20611ded26",
   "metadata": {},
   "source": [
    "# <b><p style=\"background-color: #ff6200; font-family:calibri; color:white; font-size:100%; font-family:Verdana; text-align:center; border-radius:15px 50px;\">Task 27-> Evaluation Techniques for classification models</p>"
   ]
  },
  {
   "cell_type": "markdown",
   "id": "2f6cd6be-c40c-4e6c-a904-b2c93fed75f3",
   "metadata": {},
   "source": [
    "Evaluation techniques are crucial in assessing the performance of models. They help determine how well the model predicts the dependent variable based on the independent variables. Proper evaluation ensures that the model is reliable and can generalize well to new, unseen data. Here, we discuss the key evaluation metrics used in Classification analysis and their importance."
   ]
  },
  {
   "cell_type": "markdown",
   "id": "4e665277-d6bc-4146-8c4a-0b07c6fda85c",
   "metadata": {},
   "source": [
    "### Techniques Implemented\n",
    "1. [Confusion Matrix](#1)\n",
    "2. [Accuracy](#2)\n",
    "3. [Precision](#3)\n",
    "4. [Recall (Sensitivity)](#4)\n",
    "5. [F1 Score](#5)\n",
    "6. [ROC Curve](#6)\n",
    "7. [AUC (Area Under the Curve)](#7)\n",
    "8. [Cross-Validation](#8)\n",
    "9. [Classification Report](#9)"
   ]
  },
  {
   "cell_type": "code",
   "execution_count": 1,
   "id": "45850a4a-7412-4d30-92cc-af162dd677ae",
   "metadata": {},
   "outputs": [],
   "source": [
    "import pandas as pd\n",
    "import numpy as np\n",
    "\n",
    "import matplotlib.pyplot as plt\n",
    "import seaborn as sns"
   ]
  },
  {
   "cell_type": "code",
   "execution_count": 2,
   "id": "7069aae8-30be-4762-b048-f3cd27dd66c7",
   "metadata": {},
   "outputs": [
    {
     "data": {
      "text/html": [
       "<div>\n",
       "<style scoped>\n",
       "    .dataframe tbody tr th:only-of-type {\n",
       "        vertical-align: middle;\n",
       "    }\n",
       "\n",
       "    .dataframe tbody tr th {\n",
       "        vertical-align: top;\n",
       "    }\n",
       "\n",
       "    .dataframe thead th {\n",
       "        text-align: right;\n",
       "    }\n",
       "</style>\n",
       "<table border=\"1\" class=\"dataframe\">\n",
       "  <thead>\n",
       "    <tr style=\"text-align: right;\">\n",
       "      <th></th>\n",
       "      <th>Gender</th>\n",
       "      <th>Age</th>\n",
       "      <th>EstimatedSalary</th>\n",
       "      <th>Purchased</th>\n",
       "    </tr>\n",
       "  </thead>\n",
       "  <tbody>\n",
       "    <tr>\n",
       "      <th>0</th>\n",
       "      <td>0</td>\n",
       "      <td>19</td>\n",
       "      <td>19000</td>\n",
       "      <td>0</td>\n",
       "    </tr>\n",
       "    <tr>\n",
       "      <th>1</th>\n",
       "      <td>0</td>\n",
       "      <td>35</td>\n",
       "      <td>20000</td>\n",
       "      <td>0</td>\n",
       "    </tr>\n",
       "    <tr>\n",
       "      <th>2</th>\n",
       "      <td>1</td>\n",
       "      <td>26</td>\n",
       "      <td>43000</td>\n",
       "      <td>0</td>\n",
       "    </tr>\n",
       "    <tr>\n",
       "      <th>3</th>\n",
       "      <td>1</td>\n",
       "      <td>27</td>\n",
       "      <td>57000</td>\n",
       "      <td>0</td>\n",
       "    </tr>\n",
       "    <tr>\n",
       "      <th>4</th>\n",
       "      <td>0</td>\n",
       "      <td>19</td>\n",
       "      <td>76000</td>\n",
       "      <td>0</td>\n",
       "    </tr>\n",
       "  </tbody>\n",
       "</table>\n",
       "</div>"
      ],
      "text/plain": [
       "   Gender  Age  EstimatedSalary  Purchased\n",
       "0       0   19            19000          0\n",
       "1       0   35            20000          0\n",
       "2       1   26            43000          0\n",
       "3       1   27            57000          0\n",
       "4       0   19            76000          0"
      ]
     },
     "execution_count": 2,
     "metadata": {},
     "output_type": "execute_result"
    }
   ],
   "source": [
    "social = pd.read_csv(\"Social_Network_Ads.csv\", usecols=lambda column: column != 'User ID')\n",
    "social['Gender'] = social['Gender'].map({'Male': 0, 'Female': 1})\n",
    "social.head()"
   ]
  },
  {
   "cell_type": "code",
   "execution_count": 3,
   "id": "0f15c29a-54d6-47ee-b7eb-dd106193a8e9",
   "metadata": {},
   "outputs": [
    {
     "data": {
      "text/plain": [
       "((320, 2), (80, 2), (320,), (80,))"
      ]
     },
     "execution_count": 3,
     "metadata": {},
     "output_type": "execute_result"
    }
   ],
   "source": [
    "from sklearn.model_selection import train_test_split\n",
    "from sklearn.preprocessing import StandardScaler\n",
    "\n",
    "X = social[['Age', 'EstimatedSalary']]\n",
    "y = social['Purchased']\n",
    "\n",
    "scaler = StandardScaler()\n",
    "X_scaled = scaler.fit_transform(X)\n",
    "\n",
    "X_train, X_test, y_train, y_test = train_test_split(X_scaled, y, test_size=0.2, random_state=42)\n",
    "\n",
    "X_train.shape, X_test.shape, y_train.shape, y_test.shape"
   ]
  },
  {
   "cell_type": "code",
   "execution_count": 4,
   "id": "6bfc806a-6f30-4b26-bf44-0d457debfd59",
   "metadata": {},
   "outputs": [],
   "source": [
    "from sklearn.naive_bayes import GaussianNB\n",
    "\n",
    "naive_bayes = GaussianNB()\n",
    "naive_bayes.fit(X_train, y_train)\n",
    "\n",
    "y_pred = naive_bayes.predict(X_test)"
   ]
  },
  {
   "cell_type": "markdown",
   "id": "eb872cd4-7cee-4728-aedb-c1d0a6ba2e73",
   "metadata": {},
   "source": [
    "<a id=1></a>\n",
    "## <b><span style='color:#fcc36d'> Confusion Matrix </span>"
   ]
  },
  {
   "attachments": {
    "db0db594-13b2-4d34-ae52-f505ba9eedcd.png": {
     "image/png": "[encoded data removed]"
    }
   },
   "cell_type": "markdown",
   "id": "5a151782-e176-43c1-a027-c1b0dc6c2309",
   "metadata": {},
   "source": [
    "The confusion matrix is a fundamental tool for evaluating the performance of a classification model. It provides a detailed breakdown of the actual versus predicted classifications made by a model. Here is an in-depth explanation of the confusion matrix and how to interpret it.\n",
    "A confusion matrix is typically structured as a square matrix with the following layout:\n",
    "\n",
    "![image_5baaeac4c0.png](attachment:db0db594-13b2-4d34-ae52-f505ba9eedcd.png)\n",
    "\n",
    "Each cell in the matrix has the following meaning:\n",
    "- True Positive (TP): The number of instances correctly predicted as positive.\n",
    "- True Negative (TN): The number of instances correctly predicted as negative.\n",
    "- False Positive (FP): The number of instances incorrectly predicted as positive (Type I error).\n",
    "- False Negative (FN): The number of instances incorrectly predicted as negative (Type II error)."
   ]
  },
  {
   "cell_type": "code",
   "execution_count": 5,
   "id": "194d8bf5-e984-4e34-b1f2-ab61ab6d3210",
   "metadata": {},
   "outputs": [
    {
     "data": {
      "image/png": "[encoded data removed]",
      "text/plain": [
       "<Figure size 640x480 with 2 Axes>"
      ]
     },
     "metadata": {},
     "output_type": "display_data"
    }
   ],
   "source": [
    "from sklearn.metrics import confusion_matrix\n",
    "cm = confusion_matrix(y_test, y_pred)\n",
    "\n",
    "sns.heatmap(cm, annot=True, fmt='d')\n",
    "plt.title(f\"Confusion Matrix\")\n",
    "plt.xlabel('Predicted')\n",
    "plt.ylabel('True')\n",
    "plt.show()"
   ]
  },
  {
   "cell_type": "markdown",
   "id": "d1c864d8-dae4-4495-bf2d-c7b921bdfcf5",
   "metadata": {},
   "source": [
    "<a id=2></a>\n",
    "## <b><span style='color:#fcc36d'> Accuracy </span>"
   ]
  },
  {
   "attachments": {
    "ead94563-1fca-4dfc-a4d5-2654ba92206c.png": {
     "image/png": "[encoded data removed]"
    }
   },
   "cell_type": "markdown",
   "id": "ba81b49f-fae3-4d2e-a04e-2ce724e2951c",
   "metadata": {},
   "source": [
    "Accuracy is one of the simplest and most commonly used metrics for evaluating classification models. It measures the proportion of correctly classified instances out of the total instances. Accuracy provides a general sense of how often the model is correct.\n",
    "Described as:\n",
    "\n",
    "![image.png](attachment:ead94563-1fca-4dfc-a4d5-2654ba92206c.png)\n",
    "\n",
    "Where: \n",
    "- 𝑇𝑃(True Positives) are the instances correctly predicted as positive.\n",
    "- 𝑇𝑁(True Negatives) are the instances correctly predicted as negative.\n",
    "- 𝐹𝑃(False Positives) are the instances incorrectly predicted as positive.\n",
    "- 𝐹𝑁(False Negatives) are the instances incorrectly predicted as negative.\n",
    "### Interpretation\n",
    "- High Accuracy: Indicates that the model is performing well and making correct predictions most of the time.\n",
    "- Low Accuracy: Indicates that the model is performing poorly and making incorrect predictions frequently."
   ]
  },
  {
   "cell_type": "code",
   "execution_count": 6,
   "id": "debc288f-d523-473e-9895-65482c71389f",
   "metadata": {},
   "outputs": [
    {
     "name": "stdout",
     "output_type": "stream",
     "text": [
      "Accuracy: 0.9375\n"
     ]
    }
   ],
   "source": [
    "from sklearn.metrics import accuracy_score\n",
    "\n",
    "accuracy = accuracy_score(y_test, y_pred)\n",
    "print(f\"Accuracy: {accuracy}\")"
   ]
  },
  {
   "cell_type": "markdown",
   "id": "2ef0c24e-fb18-4780-a0e7-71cfcf4dc15a",
   "metadata": {},
   "source": [
    "<a id=3></a>\n",
    "## <b><span style='color:#fcc36d'> Precision </span>"
   ]
  },
  {
   "attachments": {
    "c9701a80-e2ac-4073-b2fa-e9b5857e382b.png": {
     "image/png": "[encoded data removed]"
    }
   },
   "cell_type": "markdown",
   "id": "dc485e1d-8fc7-4609-a82b-22b37b32f320",
   "metadata": {},
   "source": [
    "Precision is a metric that measures the accuracy of positive predictions made by the model. It indicates the proportion of true positive predictions out of all the positive predictions made by the model. Precision is particularly useful when the cost of false positives is high.\n",
    "The formula for precision is:\n",
    "\n",
    "![image.png](attachment:c9701a80-e2ac-4073-b2fa-e9b5857e382b.png)\n",
    "\n",
    "Where:\n",
    "\n",
    "- 𝑇𝑃(True Positives) are the instances correctly predicted as positive.\n",
    "- 𝐹𝑃(False Positives) are the instances incorrectly predicted as positive.\n",
    "## Interpretation\n",
    "- High Precision: Indicates that the model makes very few false positive predictions. This means that when the model predicts a positive instance, it is usually correct.\n",
    "- Low Precision: Indicates that the model makes many false positive predictions. This means that the model often incorrectly predicts positive instances.\n",
    "## Considerations\n",
    "- Relevance in Imbalanced Datasets: Precision is particularly important in scenarios where false positives are more critical to avoid than false negatives. For example, in spam detection, a false positive (marking a legitimate email as spam) can be more - problematic than a false negative (missing a spam email).\n",
    "- Trade-off with Recall: Precision and recall are often in a trade-off. Increasing precision can lead to a decrease in recall and vice versa. This trade-off is often managed using the F1 score."
   ]
  },
  {
   "cell_type": "code",
   "execution_count": 7,
   "id": "dcfadad2-5481-48af-a9ac-542ed1bd3a88",
   "metadata": {},
   "outputs": [
    {
     "name": "stdout",
     "output_type": "stream",
     "text": [
      "Precision: 0.9259259259259259\n"
     ]
    }
   ],
   "source": [
    "from sklearn.metrics import precision_score\n",
    "\n",
    "precision = precision_score(y_test, y_pred)\n",
    "print(f\"Precision: {precision:}\")"
   ]
  },
  {
   "cell_type": "markdown",
   "id": "3eea539c-cfdb-430b-8206-d38e4ec75eed",
   "metadata": {},
   "source": [
    "<a id=4></a>\n",
    "## <b><span style='color:#fcc36d'> Recall (Sensitivity) </span>"
   ]
  },
  {
   "attachments": {
    "14de4ccb-def6-45b7-8b30-5d6bbe01b497.png": {
     "image/png": "[encoded data removed]"
    }
   },
   "cell_type": "markdown",
   "id": "ad21eb78-0ca8-42df-937d-b92be2c5f2a9",
   "metadata": {},
   "source": [
    "Recall, also known as sensitivity or true positive rate, measures the ability of the model to correctly identify all positive instances. It indicates the proportion of true positive predictions out of all actual positive instances. Recall is particularly useful when the cost of false negatives is high.\n",
    "\n",
    "![image.png](attachment:14de4ccb-def6-45b7-8b30-5d6bbe01b497.png)\n",
    "\n",
    "Where:\n",
    "\n",
    "- 𝑇𝑃(True Positives) are the instances correctly predicted as positive.\n",
    "- 𝐹𝑁(False Negatives) are the instances incorrectly predicted as negative.\n",
    "## Interpretation\n",
    "- High Recall: Indicates that the model correctly identifies most of the actual positive instances. This means the model has a low number of false negatives.\n",
    "- Low Recall: Indicates that the model misses many actual positive instances. This means the model has a high number of false negatives.\n",
    "## Considerations\n",
    "- Relevance in Imbalanced Datasets: Recall is particularly important in scenarios where false negatives are more critical to avoid than false positives. For example, in disease diagnosis, a false negative (missing a disease case) can be more problematic than a false positive (incorrectly diagnosing a healthy person with the disease).\n",
    "- Trade-off with Precision: Recall and precision are often in a trade-off. Increasing recall can lead to a decrease in precision and vice versa. This trade-off is often managed using the F1 score."
   ]
  },
  {
   "cell_type": "code",
   "execution_count": 8,
   "id": "a5cfca37-84a1-4f7d-8df3-e5d08bfeaae9",
   "metadata": {},
   "outputs": [
    {
     "name": "stdout",
     "output_type": "stream",
     "text": [
      "Recall: 0.8928571428571429\n"
     ]
    }
   ],
   "source": [
    "from sklearn.metrics import recall_score\n",
    "\n",
    "recall = recall_score(y_test, y_pred)\n",
    "print(f\"Recall: {recall}\")"
   ]
  },
  {
   "cell_type": "markdown",
   "id": "8c8d3d6a-50a9-4c75-aa72-45b960a8fe1d",
   "metadata": {},
   "source": [
    "<a id=5></a>\n",
    "## <b><span style='color:#fcc36d'> F1 Score </span>"
   ]
  },
  {
   "attachments": {
    "d18fe408-1efc-4556-a51e-6ef46f53884c.png": {
     "image/png": "[encoded data removed]"
    }
   },
   "cell_type": "markdown",
   "id": "2a11c6e0-ea92-420b-9ae7-c704b3bc41cd",
   "metadata": {},
   "source": [
    "The F1 Score is the harmonic mean of precision and recall. It provides a single metric that balances both the concerns of precision and recall, making it especially useful for evaluating models on imbalanced datasets where one class may be more frequent than the other.\n",
    "\n",
    "![image.png](attachment:d18fe408-1efc-4556-a51e-6ef46f53884c.png)\n",
    "\n",
    "Where:\n",
    "- Precision is the ratio of true positives to the sum of true positives and false positives.\n",
    "- Recall is the ratio of true positives to the sum of true positives and false negatives.\n",
    "\n",
    "##Interpretation\n",
    "- High F1 Score: Indicates a balance between precision and recall, with both being high.\n",
    "- Low F1 Score: Indicates that either precision or recall or both are low.\n",
    "## Considerations\n",
    "- Balanced Measure: The F1 Score is useful when you need a balance between precision and recall and there is an uneven class distribution.\n",
    "- Limitations: It may not provide a full picture of model performance on its own. It should be used alongside other metrics like accuracy, precision, and recall for a comprehensive evaluation.\n"
   ]
  },
  {
   "cell_type": "code",
   "execution_count": 9,
   "id": "586f2c87-50e2-4c93-9dc0-24bc83475a53",
   "metadata": {},
   "outputs": [
    {
     "name": "stdout",
     "output_type": "stream",
     "text": [
      "F1 Score: 0.9090909090909091\n"
     ]
    }
   ],
   "source": [
    "from sklearn.metrics import f1_score\n",
    "\n",
    "f1 = f1_score(y_test, y_pred)\n",
    "print(f\"F1 Score: {f1}\")"
   ]
  },
  {
   "cell_type": "markdown",
   "id": "3bd2fc07-c699-4fc1-80a0-bf35c9b6aed2",
   "metadata": {},
   "source": [
    "<a id=6></a>\n",
    "## <b><span style='color:#fcc36d'> ROC Curve (Receiver Operating Characteristic Curve) </span>"
   ]
  },
  {
   "attachments": {
    "43359d34-5b20-412b-927d-1470a406a0b8.png": {
     "image/png": "[encoded data removed]"
    },
    "60526c2c-49a3-43b6-8ce1-86f6b44025b5.png": {
     "image/png": "[encoded data removed]"
    }
   },
   "cell_type": "markdown",
   "id": "dc6f5880-2759-494f-8be8-a80c342e0c54",
   "metadata": {},
   "source": [
    "The ROC Curve is a graphical representation that illustrates the diagnostic ability of a binary classification model. It plots the true positive rate (TPR) against the false positive rate (FPR) at various threshold settings. The area under this curve (AUC) is often used to summarize the model's performance.\n",
    "\n",
    "True Positive Rate (TPR) and False Positive Rate (FPR)\n",
    "- True Positive Rate (TPR): Also known as Recall or Sensitivity, it is the ratio of correctly predicted positive instances to all actual positives.\n",
    "\n",
    "  ![image.png](attachment:60526c2c-49a3-43b6-8ce1-86f6b44025b5.png)\n",
    "  \n",
    "- False Positive Rate (FPR): It is the ratio of incorrectly predicted positive instances to all actual negatives.\n",
    "\n",
    "    ![image.png](attachment:43359d34-5b20-412b-927d-1470a406a0b8.png)\n",
    "\n",
    "  \n",
    "## ROC Curve Interpretation\n",
    "- ROC Curve Position: A model with a good predictive ability will have an ROC curve that hugs the top left corner of the plot.\n",
    "Diagonal Line: A model with no discrimination ability (random guessing) will have an ROC curve that is a 45-degree diagonal line from the bottom left to the top right.\n",
    "- Area Under the Curve (AUC): The AUC provides a single number summary of the ROC curve. AUC ranges from 0 to 1, where 1 indicates a perfect model and 0.5 indicates a model with no discrimination ability."
   ]
  },
  {
   "cell_type": "code",
   "execution_count": 10,
   "id": "c9e97390-9357-4459-9820-76ae117d0bff",
   "metadata": {},
   "outputs": [
    {
     "data": {
      "image/png": "[encoded data removed]",
      "text/plain": [
       "<Figure size 640x480 with 1 Axes>"
      ]
     },
     "metadata": {},
     "output_type": "display_data"
    }
   ],
   "source": [
    "from sklearn.metrics import roc_curve, auc\n",
    "\n",
    "y_prob = naive_bayes.predict_proba(X_test)[:, 1]\n",
    "\n",
    "fpr, tpr, thresholds = roc_curve(y_test, y_prob)\n",
    "\n",
    "plt.figure()\n",
    "plt.plot(fpr, tpr, color='darkorange', lw=2, label='ROC curve')\n",
    "plt.plot([0, 1], [0, 1], color='navy', lw=2, linestyle='--')\n",
    "plt.xlim([0.0, 1.0])\n",
    "plt.ylim([0.0, 1.05])\n",
    "plt.xlabel('False Positive Rate')\n",
    "plt.ylabel('True Positive Rate')\n",
    "plt.title('Receiver Operating Characteristic')\n",
    "plt.legend(loc=\"lower right\")\n",
    "plt.show()"
   ]
  },
  {
   "cell_type": "markdown",
   "id": "313b0393-ad73-46ed-9932-06e84b64921a",
   "metadata": {},
   "source": [
    "<a id=7></a>\n",
    "## <b><span style='color:#fcc36d'> AUC (Area Under the Curve) </span>"
   ]
  },
  {
   "cell_type": "markdown",
   "id": "8aaffca0-75fd-47bf-83e2-612cd80340d4",
   "metadata": {},
   "source": [
    "AUC, or Area Under the ROC Curve, is a single scalar value that summarizes the performance of a binary classification model. It represents the probability that a randomly chosen positive instance is ranked higher than a randomly chosen negative instance by the model.\n",
    "\n",
    "### Interpretation\n",
    "- AUC = 1: Perfect model.\n",
    "- AUC = 0.5: Model has no discrimination ability (equivalent to random guessing).\n",
    "- AUC < 0.5: Model performs worse than random guessing."
   ]
  },
  {
   "cell_type": "code",
   "execution_count": 11,
   "id": "a1b26d36-e264-429b-b3f5-9f3d8e3c6a84",
   "metadata": {},
   "outputs": [
    {
     "name": "stdout",
     "output_type": "stream",
     "text": [
      "AUC: 0.9869505494505495\n"
     ]
    }
   ],
   "source": [
    "from sklearn.metrics import auc\n",
    "\n",
    "roc_auc = auc(fpr, tpr)\n",
    "print(f\"AUC: {roc_auc}\")"
   ]
  },
  {
   "cell_type": "markdown",
   "id": "79e79b52-5a5b-4eb1-8293-cb938ee0bc61",
   "metadata": {},
   "source": [
    "<a id=8></a>\n",
    "## <b><span style='color:#fcc36d'> Cross-Validation </span>"
   ]
  },
  {
   "cell_type": "markdown",
   "id": "d0de7d74-109c-46e4-89b4-64888f884dec",
   "metadata": {},
   "source": [
    "Cross-validation is a statistical method used to estimate the skill of a model on unseen data. It is primarily used to assess how a predictive model will generalize to an independent dataset. This is achieved by partitioning the data into subsets, training the model on some subsets while testing it on the remaining subsets.\n",
    "\n",
    "## Types of Cross-Validation\n",
    "- **K-Fold Cross-Validation:**\n",
    "\n",
    "    - The data is divided into k equally sized folds.\n",
    "    - The model is trained on k-1 folds and tested on the remaining fold.\n",
    "    - This process is repeated k times, each time with a different fold as the test set.\n",
    "    - The results are averaged to provide a single estimation of model performance.\n",
    "\n",
    "- **Stratified K-Fold Cross-Validation:**\n",
    "\n",
    "Similar to K-Fold Cross-Validation, but it ensures that each fold has the same proportion of class labels as the original dataset.\n",
    "This is particularly useful for imbalanced datasets.\n",
    "- **Leave-One-Out Cross-Validation (LOOCV):**\n",
    "\n",
    "A special case of K-Fold Cross-Validation where k is set to the number of data points in the dataset.\n",
    "Each instance is used once as a test set, and the rest as the training set.\n",
    "This method is computationally expensive but useful for small datasets.\n",
    "- **Repeated K-Fold Cross-Validation:**\n",
    "\n",
    "Repeats the K-Fold Cross-Validation process multiple times with different splits.\n",
    "Provides a more robust estimate of model performance by reducing variability.\n",
    "## Benefits\n",
    "- Reduces Overfitting: By training and testing the model on different subsets, cross-validation provides a more realistic estimate of model performance.\n",
    "- Utilizes Data Efficiently: Unlike a single train-test split, cross-validation uses all data points for both training and testing, ensuring that no data is wasted."
   ]
  },
  {
   "cell_type": "code",
   "execution_count": 12,
   "id": "bfd42de3-0d5b-481c-ac3c-6cfd017f056b",
   "metadata": {},
   "outputs": [
    {
     "name": "stdout",
     "output_type": "stream",
     "text": [
      "Cross-Validation Scores: [0.925  0.9    0.8875 0.8375 0.8875]\n",
      "Mean CV Score: 0.8875\n",
      "Standard Deviation of CV Score: 0.028504385627478455\n"
     ]
    }
   ],
   "source": [
    "from sklearn.model_selection import KFold, cross_val_score\n",
    "\n",
    "kf = KFold(n_splits=5, shuffle=True, random_state=42)\n",
    "\n",
    "cv_scores = cross_val_score(naive_bayes, X, y, cv=kf)\n",
    "\n",
    "print(f\"Cross-Validation Scores: {cv_scores}\")\n",
    "print(f\"Mean CV Score: {cv_scores.mean()}\")\n",
    "print(f\"Standard Deviation of CV Score: {cv_scores.std()}\")"
   ]
  },
  {
   "cell_type": "markdown",
   "id": "de838fbb-96d3-4b67-8137-21f6811c0fb3",
   "metadata": {},
   "source": [
    "<a id=9></a>\n",
    "## <b><span style='color:#fcc36d'> Classification Report </span>"
   ]
  },
  {
   "attachments": {
    "94baeecb-45a3-4b98-b975-c11258e97b15.png": {
     "image/png": "[encoded data removed]"
    },
    "9ca1047c-2852-4d8d-8d00-9221d9f57191.png": {
     "image/png": "[encoded data removed]"
    },
    "dfb24669-8990-433e-9d7c-e2f84c1ac229.png": {
     "image/png": "[encoded data removed]"
    }
   },
   "cell_type": "markdown",
   "id": "d839ba21-812e-4e6c-9b89-0cf2f63963c6",
   "metadata": {},
   "source": [
    "A classification report is a detailed performance analysis of a classification model. It provides key metrics, including precision, recall, F1 score, and support for each class. This comprehensive summary helps in understanding the model's strengths and weaknesses across different classes.\n",
    "\n",
    "## Key Metrics\n",
    "- **Precision:** The ratio of true positive predictions to the total predicted positives. It measures the accuracy of positive predictions.\n",
    "\n",
    "    ![image.png](attachment:9ca1047c-2852-4d8d-8d00-9221d9f57191.png)\n",
    "\n",
    "- **Recall (Sensitivity):** The ratio of true positive predictions to the total actual positives. It measures the model's ability to identify positive instances.\n",
    "\n",
    "  ![image.png](attachment:94baeecb-45a3-4b98-b975-c11258e97b15.png)\n",
    "\n",
    "  \n",
    "- **F1 Score:** The harmonic mean of precision and recall. It balances the two metrics, especially useful for imbalanced datasets.\n",
    "\n",
    "  ![image.png](attachment:dfb24669-8990-433e-9d7c-e2f84c1ac229.png)\n",
    "\n",
    "  \n",
    "- **Support:** The number of actual occurrences of each class in the dataset."
   ]
  },
  {
   "cell_type": "code",
   "execution_count": 13,
   "id": "ff803719-21ec-4874-97ec-839855ff4ae9",
   "metadata": {},
   "outputs": [
    {
     "name": "stdout",
     "output_type": "stream",
     "text": [
      "              precision    recall  f1-score   support\n",
      "\n",
      "           0       0.94      0.96      0.95        52\n",
      "           1       0.93      0.89      0.91        28\n",
      "\n",
      "    accuracy                           0.94        80\n",
      "   macro avg       0.93      0.93      0.93        80\n",
      "weighted avg       0.94      0.94      0.94        80\n",
      "\n"
     ]
    }
   ],
   "source": [
    "from sklearn.metrics import classification_report\n",
    "\n",
    "report = classification_report(y_test, y_pred)\n",
    "print(report)"
   ]
  }
 ],
 "metadata": {
  "kernelspec": {
   "display_name": "Python 3 (ipykernel)",
   "language": "python",
   "name": "python3"
  },
  "language_info": {
   "codemirror_mode": {
    "name": "ipython",
    "version": 3
   },
   "file_extension": ".py",
   "mimetype": "text/x-python",
   "name": "python",
   "nbconvert_exporter": "python",
   "pygments_lexer": "ipython3",
   "version": "3.12.1"
  }
 },
 "nbformat": 4,
 "nbformat_minor": 5
}
