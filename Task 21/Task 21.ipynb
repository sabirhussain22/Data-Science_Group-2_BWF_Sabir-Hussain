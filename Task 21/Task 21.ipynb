{
 "cells": [
  {
   "cell_type": "markdown",
   "id": "f5754fcc-0ffb-4431-a7b1-584399a2b23c",
   "metadata": {},
   "source": [
    "# <b><p style=\"background-color: #ff6200; font-family:calibri; color:white; font-size:100%; font-family:Verdana; text-align:center; border-radius:15px 50px;\">Task 21-> Linear algebra and calculus in NumPy</p>"
   ]
  },
  {
   "cell_type": "markdown",
   "id": "0a8ce57a-b71a-442f-81e0-067f552b72ac",
   "metadata": {},
   "source": [
    "Linear Algebra and Calculus are foundational branches of mathematics essential in various fields, including machine learning, physics, engineering, and economics. Each discipline plays a crucial role in modeling and solving real-world problems.\n",
    "\n",
    "### Linear Algebra\n",
    "\n",
    "Linear Algebra deals with linear equations, vectors, matrices, and their properties. Key concepts include:\n",
    "\n",
    "- **Vectors**: Quantities with direction and magnitude.\n",
    "- **Matrices**: Rectangular arrays of numbers.\n",
    "- **Linear Transformations**: Functions that map vectors to new vectors while preserving linearity.\n",
    "\n",
    "### Calculus\n",
    "\n",
    "Calculus focuses on the study of change and motion. It includes:\n",
    "\n",
    "- **Differentiation**: Finding rates of change or slopes of curves.\n",
    "- **Integration**: Calculating areas under curves and solving accumulation problems.\n",
    "- **Limits**: Understanding behavior of functions as inputs approach certain values.\n"
   ]
  },
  {
   "cell_type": "markdown",
   "id": "891a2c7b-bbcb-4258-9b74-a53ac407d22b",
   "metadata": {},
   "source": [
    "### Linear Algebra Tasks\n",
    "\n",
    "1. [Matrix Creation and Manipulation](#1)\n",
    "    - Create various types of matrices (zero matrix, identity matrix, random matrix).\n",
    "    - Perform basic matrix operations (addition, subtraction, multiplication).\n",
    "    - Transpose a matrix and find the determinant and inverse of a matrix.\n",
    "2. [Solving Linear Equations](#2)\n",
    "    - Use NumPy to solve a system of linear equations.\n",
    "    - Implement matrix factorization methods (LU decomposition, QR decomposition).\n",
    "3. [Eigenvalues and Eigenvectors](#3)\n",
    "    - Calculate the eigenvalues and eigenvectors of a given matrix.\n",
    "    - Verify the results by reconstructing the original matrix.\n",
    "4. [Vector Operations](#4)\n",
    "    - Perform basic vector operations (addition, dot product, cross product).\n",
    "    - Normalize a vector and compute vector norms.\n",
    "5. [Matrix Decomposition](#5)\n",
    "    - Understand and implement Principal Component Analysis (PCA) using SVD.\n",
    "\n",
    "### Calculus Tasks\n",
    "1. [Numerical Differentiation](#01)\n",
    "    - Use NumPy to compute the numerical derivative of a given function.\n",
    "    - Implement forward, backward, and central difference methods for differentiation.\n",
    "2. [Numerical Integration](#01)\n",
    "    - Use NumPy to compute the numerical integral of a given function.\n",
    "    - Implement the trapezoidal rule and Simpson's rule for integration.\n",
    "3. [Partial Derivatives](#03)\n",
    "    - Calculate partial derivatives of multivariable functions using NumPy.\n",
    "    - Verify results by comparing with analytical solutions.\n",
    "4. [Optimization](#04)\n",
    "    - Use NumPy to solve optimization problems with constraints.\n"
   ]
  },
  {
   "cell_type": "code",
   "execution_count": 1,
   "id": "7ba1cbc5-f7fd-44d0-8300-53ed3ed34c98",
   "metadata": {},
   "outputs": [],
   "source": [
    "import numpy as np"
   ]
  },
  {
   "cell_type": "markdown",
   "id": "4df03413-8821-424b-bc71-c9d711f28da7",
   "metadata": {},
   "source": [
    "# <b><span style='color:#ff6200'> Linear Algerbra Tasks</span>"
   ]
  },
  {
   "cell_type": "markdown",
   "id": "c8271a28-b275-41a5-9904-884ec946b850",
   "metadata": {},
   "source": [
    "<a id=1></a>\n",
    "## <b><span style='color:#fcc36d'>1| Matrix Creation and Manipulation</span>"
   ]
  },
  {
   "cell_type": "markdown",
   "id": "d6186149-1642-4a21-9603-35d2e6995fe3",
   "metadata": {},
   "source": [
    "#### Different matrices"
   ]
  },
  {
   "cell_type": "code",
   "execution_count": 7,
   "id": "062fe8e2-8094-40b8-857d-d6c1eb8e7a61",
   "metadata": {},
   "outputs": [
    {
     "name": "stdout",
     "output_type": "stream",
     "text": [
      "Zero Matrix:\n",
      " [[0. 0. 0.]\n",
      " [0. 0. 0.]\n",
      " [0. 0. 0.]]\n",
      "\n",
      "Ones Matrix:\n",
      " [[1. 1. 1. 1.]\n",
      " [1. 1. 1. 1.]\n",
      " [1. 1. 1. 1.]]\n",
      "\n",
      "Identity Matrix:\n",
      " [[1. 0. 0.]\n",
      " [0. 1. 0.]\n",
      " [0. 0. 1.]]\n",
      "\n",
      "Random Matrix:\n",
      " [[0.02478667 0.82613451 0.99650544]\n",
      " [0.13868779 0.9622598  0.39773977]\n",
      " [0.50888008 0.82742832 0.34333914]]\n"
     ]
    }
   ],
   "source": [
    "zero_matrix = np.zeros((3, 3))\n",
    "print(\"Zero Matrix:\\n\", zero_matrix)\n",
    "\n",
    "ones_matrix = np.ones((3, 4))\n",
    "print(\"\\nOnes Matrix:\\n\", ones_matrix)\n",
    "\n",
    "identity_matrix = np.eye(3)\n",
    "print(\"\\nIdentity Matrix:\\n\", identity_matrix)\n",
    "\n",
    "random_matrix = np.random.rand(3, 3)\n",
    "print(\"\\nRandom Matrix:\\n\", random_matrix)"
   ]
  },
  {
   "cell_type": "markdown",
   "id": "dba4f35e-12f1-4d6d-883e-05cce1b92a14",
   "metadata": {},
   "source": [
    "#### Basic Matrix Operations"
   ]
  },
  {
   "cell_type": "code",
   "execution_count": 28,
   "id": "82caf028-f51b-4a2a-a0ad-ce23d1c77176",
   "metadata": {},
   "outputs": [
    {
     "name": "stdout",
     "output_type": "stream",
     "text": [
      "\n",
      "Matrix Addition:\n",
      " [[ 4 10 10]\n",
      " [10 11 10]\n",
      " [15 10 18]]\n"
     ]
    }
   ],
   "source": [
    "matrix_a = np.array([[1, 2, 3], [4, 5, 6], [7, 8, 9]])\n",
    "matrix_b = np.array([[3, 8, 7], [6, 6, 4], [8, 2, 9]])\n",
    "\n",
    "matrix_addition = matrix_a + matrix_b\n",
    "print(\"\\nMatrix Addition:\\n\", matrix_addition)"
   ]
  },
  {
   "cell_type": "code",
   "execution_count": 29,
   "id": "c1b9d12c-471d-4b18-9095-b7c5d446023d",
   "metadata": {},
   "outputs": [
    {
     "name": "stdout",
     "output_type": "stream",
     "text": [
      "\n",
      "Matrix Subtraction:\n",
      " [[-2 -6 -4]\n",
      " [-2 -1  2]\n",
      " [-1  6  0]]\n"
     ]
    }
   ],
   "source": [
    "matrix_subtraction = matrix_a - matrix_b\n",
    "print(\"\\nMatrix Subtraction:\\n\", matrix_subtraction)"
   ]
  },
  {
   "cell_type": "code",
   "execution_count": 30,
   "id": "30166b93-3d15-4574-a51d-3ee8d708677f",
   "metadata": {},
   "outputs": [
    {
     "name": "stdout",
     "output_type": "stream",
     "text": [
      "\n",
      "Matrix Multiplication:\n",
      " [[ 39  26  42]\n",
      " [ 90  74 102]\n",
      " [141 122 162]]\n"
     ]
    }
   ],
   "source": [
    "matrix_multiplication = np.dot(matrix_a, matrix_b)\n",
    "print(\"\\nMatrix Multiplication:\\n\", matrix_multiplication)"
   ]
  },
  {
   "cell_type": "markdown",
   "id": "4a1cbbbc-4cd6-4baa-9690-315aca8fe438",
   "metadata": {},
   "source": [
    "#### Transpose"
   ]
  },
  {
   "cell_type": "code",
   "execution_count": 31,
   "id": "e39b3f9d-a770-40cd-a9f4-784fbca023bd",
   "metadata": {},
   "outputs": [
    {
     "name": "stdout",
     "output_type": "stream",
     "text": [
      "\n",
      "Transpose of Matrix A:\n",
      " [[1 4 7]\n",
      " [2 5 8]\n",
      " [3 6 9]]\n"
     ]
    }
   ],
   "source": [
    "matrix_transpose = np.transpose(matrix_a)\n",
    "print(\"\\nTranspose of Matrix A:\\n\", matrix_transpose)"
   ]
  },
  {
   "cell_type": "code",
   "execution_count": 32,
   "id": "25bfd7d1-7598-4470-9e0a-328c5cfca8ce",
   "metadata": {},
   "outputs": [
    {
     "name": "stdout",
     "output_type": "stream",
     "text": [
      "\n",
      "Transpose of Matrix A:\n",
      " [[1 4 7]\n",
      " [2 5 8]\n",
      " [3 6 9]]\n"
     ]
    }
   ],
   "source": [
    "matrix_transpose = matrix_a.T\n",
    "print(\"\\nTranspose of Matrix A:\\n\", matrix_transpose)"
   ]
  },
  {
   "cell_type": "markdown",
   "id": "2e02ae8c-41ad-4e66-9684-a2609c87bf75",
   "metadata": {},
   "source": [
    "#### Determinant"
   ]
  },
  {
   "cell_type": "code",
   "execution_count": 33,
   "id": "e934075f-4ad3-43cc-85cf-e07c4129787e",
   "metadata": {},
   "outputs": [
    {
     "name": "stdout",
     "output_type": "stream",
     "text": [
      "\n",
      "Determinant of Matrix C:\n",
      " -289.99999999999994\n"
     ]
    }
   ],
   "source": [
    "matrix_determinant = np.linalg.det(matrix_b)\n",
    "print(\"\\nDeterminant of Matrix C:\\n\", matrix_determinant)"
   ]
  },
  {
   "cell_type": "markdown",
   "id": "faa0dcca-f063-4c38-bca3-90638c281c8c",
   "metadata": {},
   "source": [
    "#### Inverse of matrix"
   ]
  },
  {
   "cell_type": "code",
   "execution_count": 37,
   "id": "b3cc5d0f-42f2-4158-a2f9-ab09817c1cad",
   "metadata": {},
   "outputs": [
    {
     "name": "stdout",
     "output_type": "stream",
     "text": [
      "\n",
      "Inverse of Matrix b:\n",
      " [[-0.15862069  0.2         0.03448276]\n",
      " [ 0.07586207  0.1        -0.10344828]\n",
      " [ 0.12413793 -0.2         0.10344828]]\n"
     ]
    }
   ],
   "source": [
    "try:\n",
    "    matrix_inverse = np.linalg.inv(matrix_b)\n",
    "    print(\"\\nInverse of Matrix b:\\n\", matrix_inverse)\n",
    "except np.linalg.LinAlgError:\n",
    "    print(\"\\nMatrix is singular and cannot be inverted.\")"
   ]
  },
  {
   "cell_type": "markdown",
   "id": "381ff8ee-f606-4b48-9566-c342896fbe6f",
   "metadata": {},
   "source": [
    "<a id=2></a>\n",
    "## <b><span style='color:#fcc36d'>2| Solving Linear Equations</span>"
   ]
  },
  {
   "cell_type": "code",
   "execution_count": 47,
   "id": "15f2d401-a4d4-4a09-b7c6-05f1ac0f5b78",
   "metadata": {},
   "outputs": [],
   "source": [
    "# Solving a System of Linear Equations\n",
    "# Example: 2x + 3y = 8\n",
    "#          3x + 4y = 11\n",
    "\n",
    "A = np.array([[4, 5], [8, 3]])\n",
    "B = np.array([8, 11])"
   ]
  },
  {
   "cell_type": "markdown",
   "id": "96093b0c-d065-48c5-9daa-c21691c08433",
   "metadata": {},
   "source": [
    "#### Using np to solve system of equations"
   ]
  },
  {
   "cell_type": "code",
   "execution_count": 48,
   "id": "5235a647-559d-41c5-876b-fe84008f7c71",
   "metadata": {},
   "outputs": [
    {
     "name": "stdout",
     "output_type": "stream",
     "text": [
      "Solution to the system of linear equations:\n",
      " [1.10714286 0.71428571]\n"
     ]
    }
   ],
   "source": [
    "solution = np.linalg.solve(A, B)\n",
    "print(\"Solution to the system of linear equations:\\n\", solution)"
   ]
  },
  {
   "cell_type": "markdown",
   "id": "0ff9d7b7-849a-4e28-9053-852ef0ecd38d",
   "metadata": {},
   "source": [
    "#### LU Decomposition"
   ]
  },
  {
   "cell_type": "code",
   "execution_count": 49,
   "id": "721ae1bb-9c0e-4196-83bc-22df10e12876",
   "metadata": {},
   "outputs": [
    {
     "name": "stdout",
     "output_type": "stream",
     "text": [
      "\n",
      "LU Decomposition:\n",
      "P (Permutation Matrix):\n",
      " [[0. 1.]\n",
      " [1. 0.]]\n",
      "L (Lower Triangular Matrix):\n",
      " [[1.  0. ]\n",
      " [0.5 1. ]]\n",
      "U (Upper Triangular Matrix):\n",
      " [[8.  3. ]\n",
      " [0.  3.5]]\n"
     ]
    }
   ],
   "source": [
    "from scipy.linalg import lu, qr\n",
    "\n",
    "P, L, U = lu(A)\n",
    "print(\"\\nLU Decomposition:\")\n",
    "print(\"P (Permutation Matrix):\\n\", P)\n",
    "print(\"L (Lower Triangular Matrix):\\n\", L)\n",
    "print(\"U (Upper Triangular Matrix):\\n\", U)"
   ]
  },
  {
   "cell_type": "markdown",
   "id": "f990222f-c209-4261-b92e-3c3b586b1b72",
   "metadata": {},
   "source": [
    "#### QR Decomposition"
   ]
  },
  {
   "cell_type": "code",
   "execution_count": 53,
   "id": "16e08afd-994f-47e9-9284-5845525cbd83",
   "metadata": {},
   "outputs": [
    {
     "name": "stdout",
     "output_type": "stream",
     "text": [
      "Q (Orthogonal Matrix):\n",
      " [[-0.4472136  -0.89442719]\n",
      " [-0.89442719  0.4472136 ]]\n",
      "\n",
      "R (Upper Triangular Matrix):\n",
      " [[-8.94427191 -4.91934955]\n",
      " [ 0.         -3.13049517]]\n"
     ]
    }
   ],
   "source": [
    "Q, R = qr(A)\n",
    "print(\"Q (Orthogonal Matrix):\\n\", Q)\n",
    "print(\"\\nR (Upper Triangular Matrix):\\n\", R)"
   ]
  },
  {
   "cell_type": "markdown",
   "id": "bf4592e5-d3de-4f90-b6d9-86e79ba8e39c",
   "metadata": {},
   "source": [
    "<a id=3></a>\n",
    "## <b><span style='color:#fcc36d'>3| Eigenvalues and Eigenvectors</span>"
   ]
  },
  {
   "cell_type": "markdown",
   "id": "2ce232b4-814e-4179-a1ec-6b3172e31d16",
   "metadata": {},
   "source": [
    "Eigenvalues and eigenvectors are fundamental concepts in linear algebra, playing a crucial role in various applications such as stability analysis, vibration analysis, facial recognition, and more. Eigenvalues represent the factors by which the eigenvectors are scaled during a linear transformation represented by a matrix. Eigenvectors, on the other hand, are vectors that, when transformed by the matrix, change only in scale and not in direction. These concepts are not only theoretical but also have practical implications in fields like physics, computer science, and engineering."
   ]
  },
  {
   "cell_type": "code",
   "execution_count": 56,
   "id": "24394a4f-391b-4ca7-872d-1bee86350ab0",
   "metadata": {},
   "outputs": [
    {
     "name": "stdout",
     "output_type": "stream",
     "text": [
      "Eigenvalues:\n",
      " [5. 2.]\n",
      "\n",
      "Eigenvectors:\n",
      " [[ 0.89442719 -0.70710678]\n",
      " [ 0.4472136   0.70710678]]\n"
     ]
    }
   ],
   "source": [
    "A = np.array([[4, 2], [1, 3]])\n",
    "\n",
    "eigenvalues, eigenvectors = np.linalg.eig(A)\n",
    "print(\"Eigenvalues:\\n\", eigenvalues)\n",
    "print(\"\\nEigenvectors:\\n\", eigenvectors)"
   ]
  },
  {
   "cell_type": "markdown",
   "id": "79ac8dbe-3811-4a36-9716-35e7564ee348",
   "metadata": {},
   "source": [
    "#### Reconstruction of oriinal matrix"
   ]
  },
  {
   "cell_type": "code",
   "execution_count": 58,
   "id": "3763b0d4-52dd-45f3-97e8-89a01d4f7deb",
   "metadata": {},
   "outputs": [
    {
     "name": "stdout",
     "output_type": "stream",
     "text": [
      "\n",
      "Reconstructed Matrix:\n",
      " [[4. 2.]\n",
      " [1. 3.]]\n"
     ]
    }
   ],
   "source": [
    "reconstructed_matrix = np.dot(eigenvectors, np.dot(np.diag(eigenvalues), np.linalg.inv(eigenvectors)))\n",
    "print(\"\\nReconstructed Matrix:\\n\", reconstructed_matrix)"
   ]
  },
  {
   "cell_type": "markdown",
   "id": "f7924da9-27f2-4cc6-8680-c153cae21a08",
   "metadata": {},
   "source": [
    "<a id=4></a>\n",
    "## <b><span style='color:#fcc36d'>4| Vector Operations</span>"
   ]
  },
  {
   "cell_type": "code",
   "execution_count": 59,
   "id": "6f921c4b-0f5b-4f9d-a34d-4e39e37c9f48",
   "metadata": {},
   "outputs": [],
   "source": [
    "vector_a = np.array([1, 2, 3])\n",
    "vector_b = np.array([4, 5, 6])"
   ]
  },
  {
   "cell_type": "markdown",
   "id": "d205a249-fb44-4e3b-83e4-6f1733dd73ae",
   "metadata": {},
   "source": [
    "#### Basic Vector Operations"
   ]
  },
  {
   "cell_type": "code",
   "execution_count": 65,
   "id": "378da3a9-174f-403c-acae-c8c4707ccf23",
   "metadata": {},
   "outputs": [
    {
     "name": "stdout",
     "output_type": "stream",
     "text": [
      "Vector Addition:\n",
      " [5 7 9]\n"
     ]
    }
   ],
   "source": [
    "vector_addition = vector_a + vector_b\n",
    "print(\"Vector Addition:\\n\", vector_addition)"
   ]
  },
  {
   "cell_type": "code",
   "execution_count": 66,
   "id": "74711d22-0e35-4537-85ee-5d3c719830f1",
   "metadata": {},
   "outputs": [
    {
     "name": "stdout",
     "output_type": "stream",
     "text": [
      "Dot Product:\n",
      " 32\n"
     ]
    }
   ],
   "source": [
    "dot_product = np.dot(vector_a, vector_b)\n",
    "print(\"Dot Product:\\n\", dot_product)"
   ]
  },
  {
   "cell_type": "code",
   "execution_count": 67,
   "id": "b85b060f-3d78-4668-ab11-3d97499039c1",
   "metadata": {},
   "outputs": [
    {
     "name": "stdout",
     "output_type": "stream",
     "text": [
      "Cross Product:\n",
      " [-3  6 -3]\n"
     ]
    }
   ],
   "source": [
    "cross_product = np.cross(vector_a, vector_b)\n",
    "print(\"Cross Product:\\n\", cross_product)"
   ]
  },
  {
   "cell_type": "markdown",
   "id": "9e7e6a9f-a745-4a5c-a786-940e1441e551",
   "metadata": {},
   "source": [
    "#### Vector Normalization"
   ]
  },
  {
   "cell_type": "code",
   "execution_count": 71,
   "id": "a1d0323c-928c-447f-995a-4776630ea45f",
   "metadata": {},
   "outputs": [
    {
     "name": "stdout",
     "output_type": "stream",
     "text": [
      "\n",
      "Normalized Vector:\n",
      " [0.26726124 0.53452248 0.80178373]\n"
     ]
    }
   ],
   "source": [
    "def normalize(vector):\n",
    "    norm = np.linalg.norm(vector)\n",
    "    return vector / norm\n",
    "\n",
    "normalized_vector = normalize(vector_a)\n",
    "print(\"\\nNormalized Vector:\\n\", normalized_vector)"
   ]
  },
  {
   "cell_type": "markdown",
   "id": "1b6bf01e-a5ef-42bc-906c-767aef6cf8e1",
   "metadata": {},
   "source": [
    "#### computing Norms"
   ]
  },
  {
   "cell_type": "code",
   "execution_count": 73,
   "id": "db29eeff-6326-4b6c-8452-d0ac27b8ca13",
   "metadata": {},
   "outputs": [
    {
     "name": "stdout",
     "output_type": "stream",
     "text": [
      "Euclidean Norm (L2 Norm):\n",
      " 3.7416573867739413\n",
      "\n",
      "Manhattan Norm (L1 Norm):\n",
      " 6.0\n",
      "\n",
      "Infinity Norm (L-infinity Norm):\n",
      " 3.0\n"
     ]
    }
   ],
   "source": [
    "euclidean_norm = np.linalg.norm(vector_a)\n",
    "print(\"Euclidean Norm (L2 Norm):\\n\", euclidean_norm)\n",
    "\n",
    "manhattan_norm = np.linalg.norm(vector_a, ord=1)\n",
    "print(\"\\nManhattan Norm (L1 Norm):\\n\", manhattan_norm)\n",
    "\n",
    "infinity_norm = np.linalg.norm(vector_a, ord=np.inf)\n",
    "print(\"\\nInfinity Norm (L-infinity Norm):\\n\", infinity_norm)"
   ]
  },
  {
   "cell_type": "markdown",
   "id": "b469887b-3551-4bd3-b17e-af432653ef77",
   "metadata": {},
   "source": [
    "<a id=5></a>\n",
    "## <b><span style='color:#fcc36d'>5| Matrix Decomposition</span> "
   ]
  },
  {
   "cell_type": "markdown",
   "id": "2d2a8796-451e-423c-9e56-c4ae03ac2568",
   "metadata": {},
   "source": [
    "#### Principal Component Analysis (PCA)\n",
    "Principal Component Analysis (PCA) is a powerful technique used for dimensionality reduction, data compression, and feature extraction. It helps in transforming a large set of variables into a smaller one that still contains most of the information in the large set. PCA can be implemented using Singular Value Decomposition (SVD), which is a method of decomposing a matrix into three other matrices.\n",
    "\n",
    "#### Principal Component Analysis (PCA) using Singular Value Decomposition (SVD)\n",
    "Steps to Implement PCA using SVD\n",
    "- Standardize the Data: This step ensures that each feature has a mean of 0 and a standard deviation of 1.\n",
    "- Compute the Covariance Matrix: This matrix describes the variance and covariance between different features in the dataset.\n",
    "- Perform SVD: Decompose the covariance matrix using SVD to get the principal components.\n",
    "- Select Principal Components: Choose the top \n",
    "𝑘\n",
    "k principal components that capture the most variance.\n",
    "- Transform the Data: Project the original data onto the selected principal components."
   ]
  },
  {
   "cell_type": "code",
   "execution_count": 74,
   "id": "f2b54ea2-24f7-4149-873f-5494612642bd",
   "metadata": {},
   "outputs": [
    {
     "name": "stdout",
     "output_type": "stream",
     "text": [
      "Transformed Data:\n",
      " [[-1.08643242]\n",
      " [ 2.3089372 ]\n",
      " [-1.24191895]\n",
      " [-0.34078247]\n",
      " [-2.18429003]\n",
      " [-1.16073946]\n",
      " [ 0.09260467]\n",
      " [ 1.48210777]\n",
      " [ 0.56722643]\n",
      " [ 1.56328726]]\n",
      "\n",
      "Principal Components:\n",
      " [[-0.70710678]\n",
      " [-0.70710678]]\n",
      "\n",
      "Explained Variance:\n",
      " [2.13992141 0.08230081]\n"
     ]
    }
   ],
   "source": [
    "from sklearn.preprocessing import StandardScaler\n",
    "\n",
    "def standardize_data(X):\n",
    "    scaler = StandardScaler()\n",
    "    X_standardized = scaler.fit_transform(X)\n",
    "    return X_standardized\n",
    "\n",
    "def compute_covariance_matrix(X):\n",
    "    covariance_matrix = np.cov(X.T)\n",
    "    return covariance_matrix\n",
    "\n",
    "def perform_svd(covariance_matrix):\n",
    "    U, S, Vt = np.linalg.svd(covariance_matrix)\n",
    "    return U, S, Vt\n",
    "\n",
    "def select_principal_components(U, num_components):\n",
    "    principal_components = U[:, :num_components]\n",
    "    return principal_components\n",
    "\n",
    "def transform_data(X, principal_components):\n",
    "    transformed_data = np.dot(X, principal_components)\n",
    "    return transformed_data\n",
    "\n",
    "def pca_using_svd(X, num_components):\n",
    "    X_standardized = standardize_data(X)\n",
    "    covariance_matrix = compute_covariance_matrix(X_standardized)\n",
    "    U, S, Vt = perform_svd(covariance_matrix)\n",
    "    principal_components = select_principal_components(U, num_components)\n",
    "    X_pca = transform_data(X_standardized, principal_components)\n",
    "    return X_pca, principal_components, S\n",
    "\n",
    "X = np.array([[2.5, 2.4],\n",
    "              [0.5, 0.7],\n",
    "              [2.2, 2.9],\n",
    "              [1.9, 2.2],\n",
    "              [3.1, 3.0],\n",
    "              [2.3, 2.7],\n",
    "              [2.0, 1.6],\n",
    "              [1.0, 1.1],\n",
    "              [1.5, 1.6],\n",
    "              [1.1, 0.9]])\n",
    "\n",
    "num_components = 1\n",
    "X_pca, principal_components, explained_variance = pca_using_svd(X, num_components)\n",
    "\n",
    "print(\"Transformed Data:\\n\", X_pca)\n",
    "print(\"\\nPrincipal Components:\\n\", principal_components)\n",
    "print(\"\\nExplained Variance:\\n\", explained_variance)"
   ]
  },
  {
   "cell_type": "markdown",
   "id": "e9c1084c-7d98-48c2-b4ee-1fa40d7d45ba",
   "metadata": {},
   "source": [
    "# <b><span style='color:#ff6200'> Calculus Tasks</span>"
   ]
  },
  {
   "cell_type": "markdown",
   "id": "407ea930-2b35-4e23-bf17-ccf3489d3190",
   "metadata": {},
   "source": [
    "<a id=01></a>\n",
    "## <b><span style='color:#fcc36d'>1| Numerical Differentiation</span>"
   ]
  },
  {
   "cell_type": "markdown",
   "id": "fbdd7656-b893-46f2-ac93-f48ca05dd496",
   "metadata": {},
   "source": [
    "Numerical derivations involve approximating derivatives of functions using numerical methods rather than analytic solutions. Common techniques include finite difference methods like forward, backward, and central differencing."
   ]
  },
  {
   "cell_type": "code",
   "execution_count": 76,
   "id": "fc496856-f0d1-4f90-850a-a868ea2a49b4",
   "metadata": {},
   "outputs": [
    {
     "name": "stdout",
     "output_type": "stream",
     "text": [
      "Forward Difference Approximation: 0.7071032456340552\n",
      "\n",
      "Backward Difference Approximation: 0.7071103167111125\n",
      "\n",
      "Central Difference Approximation: 0.7071067811725839\n"
     ]
    }
   ],
   "source": [
    "f = lambda x: np.sin(x)\n",
    "x = np.pi / 4\n",
    "h = 1e-5\n",
    "\n",
    "forward_diff = (f(x + h) - f(x)) / h\n",
    "print(\"Forward Difference Approximation:\", forward_diff)\n",
    "\n",
    "backward_diff = (f(x) - f(x - h)) / h\n",
    "print(\"\\nBackward Difference Approximation:\", backward_diff)\n",
    "\n",
    "central_diff = (f(x + h) - f(x - h)) / (2 * h)\n",
    "print(\"\\nCentral Difference Approximation:\", central_diff)"
   ]
  },
  {
   "cell_type": "markdown",
   "id": "37e84dfb-7b9c-4c55-a610-8ad41ac15c28",
   "metadata": {},
   "source": [
    "<a id=02></a>\n",
    "## <b><span style='color:#fcc36d'>2| Numerical Integration</span>"
   ]
  },
  {
   "cell_type": "markdown",
   "id": "aae7e953-4a22-4738-ab03-fe2733087c48",
   "metadata": {},
   "source": [
    "Numerical integration, or numerical integration, refers to techniques for approximating definite integrals of functions. Methods include trapezoidal rule, Simpson's rule, and Monte Carlo integration, which compute the area under curves or between points numerically."
   ]
  },
  {
   "cell_type": "code",
   "execution_count": 78,
   "id": "d4a94bec-bd16-4d7b-a6ac-ce232dafe85d",
   "metadata": {},
   "outputs": [
    {
     "name": "stdout",
     "output_type": "stream",
     "text": [
      "Trapezoidal Rule Approximation: 1.9998355038874436\n",
      "Simpson's Rule Approximation: 2.000000010824504\n",
      "Exact Integral: 2.0\n"
     ]
    }
   ],
   "source": [
    "def f(x):\n",
    "    return np.sin(x)\n",
    "\n",
    "def trapezoidal_rule(f, a, b, n):\n",
    "    x = np.linspace(a, b, n+1)\n",
    "    y = f(x)\n",
    "    h = (b - a) / n\n",
    "    integral = (h / 2) * (y[0] + 2 * np.sum(y[1:-1]) + y[-1])\n",
    "    return integral\n",
    "\n",
    "def simpsons_rule(f, a, b, n):\n",
    "    if n % 2 == 1:\n",
    "        n += 1  # Simpson's rule requires an even number of intervals\n",
    "    x = np.linspace(a, b, n+1)\n",
    "    y = f(x)\n",
    "    h = (b - a) / n\n",
    "    integral = (h / 3) * (y[0] + 4 * np.sum(y[1:-1:2]) + 2 * np.sum(y[2:-2:2]) + y[-1])\n",
    "    return integral\n",
    "\n",
    "a = 0  \n",
    "b = np.pi  \n",
    "n = 100  \n",
    "\n",
    "trapezoidal_integral = trapezoidal_rule(f, a, b, n)\n",
    "simpsons_integral = simpsons_rule(f, a, b, n)\n",
    "\n",
    "print(\"Trapezoidal Rule Approximation:\", trapezoidal_integral)\n",
    "print(\"Simpson's Rule Approximation:\", simpsons_integral)\n",
    "\n",
    "exact_integral = -np.cos(b) + np.cos(a)\n",
    "print(\"Exact Integral:\", exact_integral)"
   ]
  },
  {
   "cell_type": "markdown",
   "id": "dcad36f6-cce5-44f9-8c8c-817f735f617c",
   "metadata": {},
   "source": [
    "<a id=03></a>\n",
    "## <b><span style='color:#fcc36d'>3| Partial Derivatives</span>"
   ]
  },
  {
   "cell_type": "markdown",
   "id": "6b6fdc78-3b81-4f55-abe5-4c0701f8025e",
   "metadata": {},
   "source": [
    "Partial integration, also known as integration by parts, is a technique used to evaluate definite or indefinite integrals of products of functions. It involves applying the product rule for differentiation in reverse to simplify the integration process."
   ]
  },
  {
   "cell_type": "code",
   "execution_count": 79,
   "id": "c467946a-378a-45a0-9b74-5d895aaf6633",
   "metadata": {},
   "outputs": [
    {
     "name": "stdout",
     "output_type": "stream",
     "text": [
      "Partial derivative with respect to x (Numeric): 2.00001000001393\n",
      "Partial derivative with respect to x (Exact): 2.0\n",
      "Partial derivative with respect to y (Numeric): 2.0000000000131024\n",
      "Partial derivative with respect to y (Exact): 2\n"
     ]
    }
   ],
   "source": [
    "def f(x, y):\n",
    "    return x**2 + 2 * y\n",
    "\n",
    "def partial_derivative_x(f, x, y, h):\n",
    "    return (f(x + h, y) - f(x, y)) / h\n",
    "\n",
    "def partial_derivative_y(f, x, y, h):\n",
    "    return (f(x, y + h) - f(x, y)) / h\n",
    "\n",
    "x = 1.0 \n",
    "y = 2.0  \n",
    "h = 1e-5  \n",
    "\n",
    "partial_x_numeric = partial_derivative_x(f, x, y, h)\n",
    "partial_y_numeric = partial_derivative_y(f, x, y, h)\n",
    "\n",
    "partial_x_exact = 2 * x\n",
    "partial_y_exact = 2\n",
    "\n",
    "print(\"Partial derivative with respect to x (Numeric):\", partial_x_numeric)\n",
    "print(\"Partial derivative with respect to x (Exact):\", partial_x_exact)\n",
    "print(\"Partial derivative with respect to y (Numeric):\", partial_y_numeric)\n",
    "print(\"Partial derivative with respect to y (Exact):\", partial_y_exact)"
   ]
  },
  {
   "cell_type": "markdown",
   "id": "0e287b18-d0e1-4137-91f7-b4e23969d925",
   "metadata": {},
   "source": [
    "<a id=04></a>\n",
    "## <b><span style='color:#fcc36d'>4| Optimization</span>"
   ]
  },
  {
   "cell_type": "code",
   "execution_count": 81,
   "id": "fbd3ad2d-1ebd-4e27-8d6a-499e6634f3df",
   "metadata": {},
   "outputs": [
    {
     "name": "stdout",
     "output_type": "stream",
     "text": [
      "Optimal solution:\n",
      "x: 0.5\n",
      "y: 0.5\n",
      "Objective value: 0.5\n"
     ]
    }
   ],
   "source": [
    "from scipy.optimize import minimize\n",
    "\n",
    "def objective(x):\n",
    "    return x[0]**2 + x[1]**2\n",
    "\n",
    "def constraint(x):\n",
    "    return x[0] + x[1] - 1\n",
    "\n",
    "x0 = np.array([0.5, 0.5])\n",
    "\n",
    "bounds = ((None, None), (None, None))\n",
    "constraint_eq = {'type': 'eq', 'fun': constraint}\n",
    "\n",
    "result = minimize(objective, x0, bounds=bounds, constraints=constraint_eq)\n",
    "\n",
    "print(\"Optimal solution:\")\n",
    "print(\"x:\", result.x[0])\n",
    "print(\"y:\", result.x[1])\n",
    "print(\"Objective value:\", result.fun)"
   ]
  },
  {
   "cell_type": "code",
   "execution_count": null,
   "id": "a6c01e8b-fbfa-4541-acbc-3716028a4535",
   "metadata": {},
   "outputs": [],
   "source": []
  }
 ],
 "metadata": {
  "kernelspec": {
   "display_name": "Python 3 (ipykernel)",
   "language": "python",
   "name": "python3"
  },
  "language_info": {
   "codemirror_mode": {
    "name": "ipython",
    "version": 3
   },
   "file_extension": ".py",
   "mimetype": "text/x-python",
   "name": "python",
   "nbconvert_exporter": "python",
   "pygments_lexer": "ipython3",
   "version": "3.12.1"
  }
 },
 "nbformat": 4,
 "nbformat_minor": 5
}
