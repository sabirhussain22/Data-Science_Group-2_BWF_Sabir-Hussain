{
 "cells": [
  {
   "cell_type": "markdown",
   "id": "5db1abb4-0ad2-430e-a547-e675f64d380d",
   "metadata": {},
   "source": [
    "# <b><p style=\"background-color: #ff6200; font-family:calibri; color:white; font-size:100%; font-family:Verdana; text-align:center; border-radius:15px 50px;\">Task 24-> Evaluation Techniques for Regression Models</p>"
   ]
  },
  {
   "cell_type": "markdown",
   "id": "b35de746-4609-4516-901e-cdb89f513379",
   "metadata": {},
   "source": [
    "Evaluation techniques are crucial in assessing the performance of regression models. They help determine how well the model predicts the dependent variable based on the independent variables. Proper evaluation ensures that the model is reliable and can generalize well to new, unseen data. Here, we discuss the key evaluation metrics used in regression analysis and their importance."
   ]
  },
  {
   "cell_type": "markdown",
   "id": "3237107a-d872-424a-b69e-987ab577eff0",
   "metadata": {},
   "source": [
    "### Techniques Implemented\n",
    "1. [Mean Absolute Error (MAE)](#1)\n",
    "2. [Mean Squared Error (MSE)](#2)\n",
    "3. [Root Mean Squared Error (RMSE)](#3)\n",
    "4. [R-squared (R²)](#4)\n",
    "5. [Adjusted R-squared](#5)\n",
    "6. [Mean Absolute Percentage Error (MAPE)](#6)\n",
    "7. [Median Absolute Error](#7)"
   ]
  },
  {
   "cell_type": "markdown",
   "id": "06f3b79a-67d5-4c6b-a263-5ddb7fa31647",
   "metadata": {},
   "source": [
    "## Generating Data"
   ]
  },
  {
   "cell_type": "code",
   "execution_count": 21,
   "id": "c2dff249-a55b-4381-8975-fa44c35277c4",
   "metadata": {},
   "outputs": [],
   "source": [
    "import numpy as np\n",
    "from sklearn.datasets import make_regression\n",
    "from sklearn.model_selection import train_test_split\n",
    "\n",
    "X, y = make_regression(n_samples=100, n_features=2, noise=0.1, random_state=42)\n",
    "X_train, X_test, y_train, y_test = train_test_split(X, y, test_size=0.2, random_state=42)"
   ]
  },
  {
   "cell_type": "code",
   "execution_count": 22,
   "id": "cf542e10-783b-4849-bc1d-38ea7a150945",
   "metadata": {},
   "outputs": [
    {
     "data": {
      "text/plain": [
       "((100, 2), (100,))"
      ]
     },
     "execution_count": 22,
     "metadata": {},
     "output_type": "execute_result"
    }
   ],
   "source": [
    "X.shape, y.shape"
   ]
  },
  {
   "cell_type": "markdown",
   "id": "247d5bb8-5b38-4dfd-9e28-a152e4239c8f",
   "metadata": {},
   "source": [
    "## Training and Testing model "
   ]
  },
  {
   "cell_type": "code",
   "execution_count": 23,
   "id": "ad6bd681-037e-4058-9d52-c11bc9f9ea2b",
   "metadata": {},
   "outputs": [
    {
     "data": {
      "text/plain": [
       "array([ -58.20320564,   -0.99412493,   84.42053424,  -19.80868937,\n",
       "         67.78544042,  115.08677163,  195.3800306 , -126.83541741,\n",
       "       -185.65676039,  -55.87134508,   80.26682995, -139.17457332,\n",
       "        116.77784102,  -42.44949517,  112.75540523,   77.47491592,\n",
       "        -27.1998263 ,    2.03152121,  -74.29575855,   43.73414793])"
      ]
     },
     "execution_count": 23,
     "metadata": {},
     "output_type": "execute_result"
    }
   ],
   "source": [
    "from sklearn.linear_model import LinearRegression\n",
    "\n",
    "lr_model = LinearRegression()\n",
    "lr_model.fit(X_train, y_train)\n",
    "\n",
    "y_pred = lr_model.predict(X_test)\n",
    "y_pred"
   ]
  },
  {
   "cell_type": "markdown",
   "id": "14bf9669-0cd1-4cce-a26e-95894719b917",
   "metadata": {},
   "source": [
    "<a id=1></a>\n",
    "## <span style='color:#fcc36d'> Mean Absolute Error (MAE)</span>"
   ]
  },
  {
   "cell_type": "markdown",
   "id": "d3d3cc69-8991-49e2-ab68-f5579213167d",
   "metadata": {},
   "source": [
    "MAE measures the average magnitude of the errors in a set of predictions, without considering their direction. It is the average over the test sample of the absolute differences between prediction and actual observation where all individual differences have equal weight.\n",
    "\n",
    "\\begin{align}\n",
    "\\text{MAE} = \\frac{1}{n} \\sum_{i=1}^{n} \\left| y_i - \\hat{y}_i \\right|\n",
    "\\end{align}\n",
    "\n",
    "### Importance:\n",
    "- MAE is easy to understand and interpret.\n",
    "- It provides a linear score which means all individual differences are weighted equally."
   ]
  },
  {
   "cell_type": "code",
   "execution_count": 24,
   "id": "f684a07e-4c6e-4dfd-909e-808b164246de",
   "metadata": {},
   "outputs": [
    {
     "name": "stdout",
     "output_type": "stream",
     "text": [
      "Implemented MAE: 0.0966780107065582\n",
      "scikit-learn MAE: 0.0966780107065582\n"
     ]
    }
   ],
   "source": [
    "from sklearn.metrics import mean_absolute_error\n",
    "\n",
    "def Mean_Absolute_Error(y_true, y_pred):\n",
    "    return np.mean(np.abs(y_true - y_pred))\n",
    "\n",
    "sklearn_mae = mean_absolute_error(y_test, y_pred)\n",
    "\n",
    "print(f\"Implemented MAE: {Mean_Absolute_Error(y_test, y_pred)}\")\n",
    "print(f\"scikit-learn MAE: {sklearn_mae}\")"
   ]
  },
  {
   "cell_type": "markdown",
   "id": "916075b8-f33f-4f09-abaa-c55621352230",
   "metadata": {},
   "source": [
    "<a id=2></a>\n",
    "## <span style='color:#fcc36d'> Mean Squared Error (MSE)</span>"
   ]
  },
  {
   "cell_type": "markdown",
   "id": "d00503f8-276a-4b88-95d7-53815b6dac09",
   "metadata": {},
   "source": [
    "MSE is the average squared difference between the predicted and actual values. It measures the average squared difference between the predicted and actual values, taking into account the square of the differences. It penalizes larger errors more heavily compared to the Mean Absolute Error (MAE).\n",
    "\n",
    "\\begin{align}\n",
    "\\text{MSE} = \\frac{1}{n} \\sum_{i=1}^{n} (y_i - \\hat{y}_i)^2\n",
    "\\end{align}\n",
    "\n",
    "### Importance:\n",
    "- MSE penalizes larger errors more than smaller errors, making it useful when large errors are particularly undesirable.\n",
    "- It is a key metric used in training many regression models by minimizing the MSE."
   ]
  },
  {
   "cell_type": "code",
   "execution_count": 25,
   "id": "40c38e6c-f074-490b-a64a-8f0c43f4ae1c",
   "metadata": {},
   "outputs": [
    {
     "name": "stdout",
     "output_type": "stream",
     "text": [
      "Implemented MSE: 0.015462772689491205\n",
      "scikit-learn MSE: 0.015462772689491205\n"
     ]
    }
   ],
   "source": [
    "from sklearn.metrics import mean_squared_error\n",
    "\n",
    "def Mean_Squared_Error(y_true, y_pred):\n",
    "    return np.mean((y_true - y_pred) ** 2)\n",
    "\n",
    "sklearn_mse = mean_squared_error(y_test, y_pred)\n",
    "\n",
    "print(f\"Implemented MSE: {Mean_Squared_Error(y_test, y_pred)}\")\n",
    "print(f\"scikit-learn MSE: {sklearn_mse}\")"
   ]
  },
  {
   "cell_type": "markdown",
   "id": "c1d6192e-1023-4456-8e7b-ee920bbae874",
   "metadata": {},
   "source": [
    "<a id=3></a>\n",
    "## <span style='color:#fcc36d'> Root Mean Squared Error (RMSE)</span>"
   ]
  },
  {
   "cell_type": "markdown",
   "id": "c9b091bd-63df-4657-851c-cdf0516c5fe6",
   "metadata": {},
   "source": [
    "RMSE is the square root of the Mean Squared Error. It measures the average difference between the predicted and actual values, taking into account the square root of the differences. It is less sensitive to outliers compared to the Mean Absolute Error (MAE) and the Mean Squared Error (MSE).\n",
    "\n",
    "\\begin{align}\n",
    "\\text{RMSE} = \\sqrt{\\frac{1}{n} \\sum_{i=1}^{n} (y_i - \\hat{y}_i)^2}\n",
    "\\end{align}\n",
    "\n",
    "### Importance:\n",
    "- RMSE is widely used because it provides a good indication of the fit of the model and is easy to interpret.\n",
    "- It is sensitive to outliers, making it useful in situations where large errors are particularly problematic."
   ]
  },
  {
   "cell_type": "code",
   "execution_count": 26,
   "id": "544e2374-20d4-4ec7-8183-10b850042339",
   "metadata": {},
   "outputs": [
    {
     "name": "stdout",
     "output_type": "stream",
     "text": [
      "Manual RMSE: 0.12434939762415902\n"
     ]
    }
   ],
   "source": [
    "def manual_rmse(y_true, y_pred):\n",
    "    return np.sqrt(np.mean((y_true - y_pred) ** 2))\n",
    "\n",
    "print(f\"Manual RMSE: {manual_rmse(y_test, y_pred)}\")"
   ]
  },
  {
   "cell_type": "markdown",
   "id": "c5d4b5a3-545a-4fb6-a601-da4308f9012c",
   "metadata": {},
   "source": [
    "<a id=4></a>\n",
    "## <span style='color:#fcc36d'> R-squared (R²)</span>"
   ]
  },
  {
   "cell_type": "markdown",
   "id": "c6978667-e3e9-469d-9f4d-dfa978845cb4",
   "metadata": {},
   "source": [
    "R-squared is a statistical measure that represents the proportion of the variance for a dependent variable that's explained by an independent variable or variables in a regression model. It ranges from 0 to 1, where 1 indicates that the dependent variable is perfectly explained by the independent variable(s), and 0 indicates that the independent variable(s) do not contribute to explaining the dependent variable at all.\n",
    "\n",
    "\\begin{align}\n",
    "R^2 = 1 - \\frac{\\sum_{i=1}^{n} (y_i - \\hat{y}i)^2}{\\sum{i=1}^{n} (y_i - \\bar{y})^2}\n",
    "\\end{align}\n",
    "\n",
    "### Importance:\n",
    "- R-squared provides a measure of how well the model's predictions fit the actual data.\n",
    "- It helps in comparing the goodness of fit of different models."
   ]
  },
  {
   "cell_type": "code",
   "execution_count": 27,
   "id": "e9a53c8f-6915-4a1c-81b9-31b4d0ee8470",
   "metadata": {},
   "outputs": [
    {
     "name": "stdout",
     "output_type": "stream",
     "text": [
      "Implemented R²: 0.9999983497435199\n",
      "scikit-learn R²: 0.9999983497435199\n"
     ]
    }
   ],
   "source": [
    "from sklearn.metrics import r2_score\n",
    "\n",
    "def manual_r2(y_true, y_pred):\n",
    "    ss_res = np.sum((y_true - y_pred) ** 2)\n",
    "    ss_tot = np.sum((y_true - np.mean(y_true)) ** 2)\n",
    "    return 1 - (ss_res / ss_tot)\n",
    "\n",
    "sklearn_r2 = r2_score(y_test, y_pred)\n",
    "\n",
    "print(f\"Implemented R²: {manual_r2(y_test, y_pred)}\")\n",
    "print(f\"scikit-learn R²: {sklearn_r2}\")"
   ]
  },
  {
   "cell_type": "markdown",
   "id": "234600f8-2242-4cf2-b15d-85ab75c5f79e",
   "metadata": {},
   "source": [
    "<a id=5></a>\n",
    "## <span style='color:#fcc36d'> Adjusted R-squared</span>"
   ]
  },
  {
   "cell_type": "markdown",
   "id": "da4342a8-5f4d-448e-ab7b-0a13fad828a3",
   "metadata": {},
   "source": [
    "Adjusted R-squared is a statistical measure that adjusts the R-squared value for the number of independent variables in a regression model to account for the effects of multiple factors. It is calculated as follows:\n",
    "\n",
    "\n",
    "\\begin{align}\n",
    "\\text{Adjusted } R^2 = 1 - \\frac{(1 - R^2)(n - 1)}{n - k - 1}\n",
    "\\end{align}\n",
    "\n",
    "Where:\n",
    "- R^2 is the R-squared value\n",
    "- n is the number of data points\n",
    "- k is the number of independent variables\n",
    "- Adjusted R^2 is the adjusted R-squared value\n",
    "- \n",
    "### Importance:\n",
    "- Adjusted R-squared provides a more accurate measure of the goodness of fit, especially in models with multiple predictors.\n",
    "- It helps in model selection by providing a balance between model complexity and goodness of fit."
   ]
  },
  {
   "cell_type": "code",
   "execution_count": 28,
   "id": "0020f707-240b-4050-b3c0-a3cc2176edb0",
   "metadata": {},
   "outputs": [
    {
     "name": "stdout",
     "output_type": "stream",
     "text": [
      "Implemented Adjusted R²: 0.9999981555956987\n"
     ]
    }
   ],
   "source": [
    "def manual_adjusted_r2(y_true, y_pred, n, p):\n",
    "    r2 = manual_r2(y_true, y_pred)\n",
    "    return 1 - (1 - r2) * ((n - 1) / (n - p - 1))\n",
    "\n",
    "n = len(y_test)\n",
    "p = X_test.shape[1]\n",
    "\n",
    "print(f\"Implemented Adjusted R²: {manual_adjusted_r2(y_test, y_pred, n, p)}\")"
   ]
  },
  {
   "cell_type": "markdown",
   "id": "070cd39b-3ff6-4899-91c6-a6c4651d1aec",
   "metadata": {},
   "source": [
    "<a id=6></a>\n",
    "## <span style='color:#fcc36d'> Mean Absolute Percentage Error (MAPE)</span>"
   ]
  },
  {
   "cell_type": "markdown",
   "id": "48639a85-8b4e-4bc4-8c69-68270a0c3d35",
   "metadata": {},
   "source": [
    "MAPE measures the accuracy of a forecast system. It is the average of the absolute percentage errors of actual values compared to predicted values.\n",
    "\n",
    "\\begin{align}\n",
    "\\text{MAPE} = \\frac{100%}{n} \\sum_{i=1}^{n} \\left| \\frac{y_i - \\hat{y}_i}{y_i} \\right|\n",
    "\\end{align}\n",
    "\n",
    "### Importance:\n",
    "\n",
    "- MAPE is easy to interpret and understand, representing the percentage error.\n",
    "- It is scale-independent and useful for comparing forecast accuracy across different datasets."
   ]
  },
  {
   "cell_type": "code",
   "execution_count": 29,
   "id": "9ac4a6b4-760a-42dc-b667-45eac1fb9d8d",
   "metadata": {},
   "outputs": [
    {
     "name": "stdout",
     "output_type": "stream",
     "text": [
      "Implemented MAPE: 1.299922552625877\n"
     ]
    }
   ],
   "source": [
    "def manual_mape(y_true, y_pred):\n",
    "    return np.mean(np.abs((y_true - y_pred) / y_true)) * 100\n",
    "\n",
    "print(f\"Implemented MAPE: {manual_mape(y_test, y_pred)}\")"
   ]
  },
  {
   "cell_type": "markdown",
   "id": "96054538-016e-4f50-b1cb-bcb48f19893f",
   "metadata": {},
   "source": [
    "<a id=7></a>\n",
    "## <span style='color:#fcc36d'> Median Absolute Error</span>"
   ]
  },
  {
   "cell_type": "markdown",
   "id": "99b7e67c-a40e-4dff-b238-617c17f9b3f7",
   "metadata": {},
   "source": [
    "Median Absolute Error is a robust metric that measures the median of the absolute differences between the predicted and actual values. Unlike MAE, it is less sensitive to outliers.\n",
    "\n",
    "\\begin{align}\n",
    "\\text{Median Absolute Error} = \\text{median}(|y_i - \\hat{y}_i|)\n",
    "\\end{align}\n",
    "\n",
    "### Importance:\n",
    "\n",
    "- Median Absolute Error is robust to outliers, providing a more accurate measure of central tendency when outliers are present.\n",
    "- It is useful when the data contains anomalies or non-normal distributions.\n"
   ]
  },
  {
   "cell_type": "code",
   "execution_count": 30,
   "id": "e9f0228a-3431-4c61-af6c-b536350661e3",
   "metadata": {},
   "outputs": [
    {
     "name": "stdout",
     "output_type": "stream",
     "text": [
      "Implemented Median Absolute Error: 0.06988051213575375\n",
      "scikit-learn Median Absolute Error: 0.06988051213575375\n"
     ]
    }
   ],
   "source": [
    "from sklearn.metrics import median_absolute_error\n",
    "\n",
    "def manual_median_absolute_error(y_true, y_pred):\n",
    "    return np.median(np.abs(y_true - y_pred))\n",
    "\n",
    "sklearn_median_absolute_error = median_absolute_error(y_test, y_pred)\n",
    "\n",
    "print(f\"Implemented Median Absolute Error: {manual_median_absolute_error(y_test, y_pred)}\")\n",
    "print(f\"scikit-learn Median Absolute Error: {sklearn_median_absolute_error}\")"
   ]
  },
  {
   "cell_type": "code",
   "execution_count": null,
   "id": "1ff94282-4024-4d0a-af96-b9303dae1e0b",
   "metadata": {},
   "outputs": [],
   "source": []
  }
 ],
 "metadata": {
  "kernelspec": {
   "display_name": "Python 3 (ipykernel)",
   "language": "python",
   "name": "python3"
  },
  "language_info": {
   "codemirror_mode": {
    "name": "ipython",
    "version": 3
   },
   "file_extension": ".py",
   "mimetype": "text/x-python",
   "name": "python",
   "nbconvert_exporter": "python",
   "pygments_lexer": "ipython3",
   "version": "3.12.1"
  }
 },
 "nbformat": 4,
 "nbformat_minor": 5
}
