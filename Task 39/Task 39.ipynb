{
 "cells": [
  {
   "cell_type": "markdown",
   "id": "7b0749bd-1d0c-401f-8519-1e1afd1b4c76",
   "metadata": {
    "id": "7b0749bd-1d0c-401f-8519-1e1afd1b4c76"
   },
   "source": [
    "# <b><p style=\"background-color: #ff6200; font-family:calibri; color:white; font-size:100%; font-family:Verdana; text-align:center; border-radius:15px 50px;\">Task 39-> Implement with TensorFlow/Keras (RNN)</p>"
   ]
  },
  {
   "cell_type": "markdown",
   "id": "51b87b15-a159-4f50-8c06-d499376ba8f7",
   "metadata": {
    "id": "51b87b15-a159-4f50-8c06-d499376ba8f7"
   },
   "source": [
    "## <span style='color:#ff6200'> Importing Libraries</span>"
   ]
  },
  {
   "cell_type": "code",
   "execution_count": 1,
   "id": "0ad698f2-dee5-4678-96bf-289d6b00037b",
   "metadata": {
    "executionInfo": {
     "elapsed": 12623,
     "status": "ok",
     "timestamp": 1724496238593,
     "user": {
      "displayName": "Sabir Hussain",
      "userId": "03641735542153877834"
     },
     "user_tz": -300
    },
    "id": "0ad698f2-dee5-4678-96bf-289d6b00037b"
   },
   "outputs": [],
   "source": [
    "import numpy as np\n",
    "import tensorflow as tf\n",
    "from tensorflow.keras.preprocessing.text import Tokenizer\n",
    "from tensorflow.keras.preprocessing.sequence import pad_sequences\n",
    "import requests"
   ]
  },
  {
   "cell_type": "markdown",
   "id": "c000e941-63c6-4a15-bd29-eb8a8166b8e5",
   "metadata": {
    "id": "c000e941-63c6-4a15-bd29-eb8a8166b8e5"
   },
   "source": [
    "## <span style='color:#ff6200'> Sample Data</span>"
   ]
  },
  {
   "cell_type": "code",
   "execution_count": 2,
   "id": "220e6a5a-8ea2-4a16-a3d6-261ed51a3f76",
   "metadata": {
    "colab": {
     "base_uri": "https://localhost:8080/"
    },
    "executionInfo": {
     "elapsed": 460,
     "status": "ok",
     "timestamp": 1724496241092,
     "user": {
      "displayName": "Sabir Hussain",
      "userId": "03641735542153877834"
     },
     "user_tz": -300
    },
    "id": "220e6a5a-8ea2-4a16-a3d6-261ed51a3f76",
    "outputId": "36ccae06-b6dd-433d-c268-d8be25f40baf"
   },
   "outputs": [
    {
     "name": "stdout",
     "output_type": "stream",
     "text": [
      "First Citizen:\n",
      "Before we proceed any further, hear me speak.\n",
      "\n",
      "All:\n",
      "Speak, speak.\n",
      "\n",
      "First Citizen:\n",
      "You are all resolved rather to die than to famish?\n",
      "\n",
      "All:\n",
      "Resolved. resolved.\n",
      "\n",
      "First Citizen:\n",
      "First, you know Caius Marcius is chief enemy to the people.\n",
      "\n",
      "All:\n",
      "We know't, we know't.\n",
      "\n",
      "First Citizen:\n",
      "Let us kill him, and we'll have corn at our own price.\n",
      "Is't a verdict?\n",
      "\n",
      "All:\n",
      "No more talking on't; let it be done: away, away!\n",
      "\n",
      "Second Citizen:\n",
      "One word, good citizens.\n",
      "\n",
      "First Citizen:\n",
      "We are accounted poor\n"
     ]
    }
   ],
   "source": [
    "url = 'https://storage.googleapis.com/download.tensorflow.org/data/shakespeare.txt'\n",
    "response = requests.get(url)\n",
    "text = response.text\n",
    "\n",
    "print(text[:500])"
   ]
  },
  {
   "cell_type": "markdown",
   "id": "66411ca1-e462-4e90-abed-e15ae303e0a1",
   "metadata": {
    "id": "66411ca1-e462-4e90-abed-e15ae303e0a1"
   },
   "source": [
    "## <span style='color:#ff6200'>Pre processing</span>"
   ]
  },
  {
   "cell_type": "code",
   "execution_count": 3,
   "id": "5a1df649-ac97-49bc-a78d-bfdca5b661f3",
   "metadata": {
    "executionInfo": {
     "elapsed": 2228,
     "status": "ok",
     "timestamp": 1724496265824,
     "user": {
      "displayName": "Sabir Hussain",
      "userId": "03641735542153877834"
     },
     "user_tz": -300
    },
    "id": "5a1df649-ac97-49bc-a78d-bfdca5b661f3"
   },
   "outputs": [],
   "source": [
    "sentences = text.split('\\n')\n",
    "\n",
    "max_words = 10000\n",
    "tokenizer = Tokenizer(num_words=max_words)\n",
    "tokenizer.fit_on_texts(sentences)\n",
    "total_words = min(max_words, len(tokenizer.word_index) + 1)\n",
    "\n",
    "sequences = tokenizer.texts_to_sequences(sentences)\n",
    "\n",
    "input_sequences = []\n",
    "for seq in sequences:\n",
    "    for i in range(1, len(seq)):\n",
    "        n_gram_sequence = seq[:i+1]\n",
    "        input_sequences.append(n_gram_sequence)\n",
    "\n",
    "max_sequence_length = 30\n",
    "input_sequences = pad_sequences(input_sequences, maxlen=max_sequence_length, padding='pre')"
   ]
  },
  {
   "cell_type": "code",
   "execution_count": 4,
   "id": "2870a09c-9ff2-4ca5-ae13-77d9e6bbc635",
   "metadata": {
    "executionInfo": {
     "elapsed": 405,
     "status": "ok",
     "timestamp": 1724496276842,
     "user": {
      "displayName": "Sabir Hussain",
      "userId": "03641735542153877834"
     },
     "user_tz": -300
    },
    "id": "2870a09c-9ff2-4ca5-ae13-77d9e6bbc635"
   },
   "outputs": [],
   "source": [
    "X, y = input_sequences[:, :-1], input_sequences[:, -1]\n",
    "\n",
    "y = np.array(y)"
   ]
  },
  {
   "cell_type": "markdown",
   "id": "4242d00f-7141-40bb-8e8c-269913899e66",
   "metadata": {
    "id": "4242d00f-7141-40bb-8e8c-269913899e66"
   },
   "source": [
    "## <span style='color:#ff6200'>Build Model</span>"
   ]
  },
  {
   "cell_type": "code",
   "execution_count": 5,
   "id": "41500e20-a12d-4eb6-9b17-cc448c33f7f4",
   "metadata": {
    "executionInfo": {
     "elapsed": 420,
     "status": "ok",
     "timestamp": 1724496286498,
     "user": {
      "displayName": "Sabir Hussain",
      "userId": "03641735542153877834"
     },
     "user_tz": -300
    },
    "id": "41500e20-a12d-4eb6-9b17-cc448c33f7f4"
   },
   "outputs": [],
   "source": [
    "model = tf.keras.Sequential([\n",
    "    tf.keras.layers.Embedding(total_words, 50),  \n",
    "    tf.keras.layers.SimpleRNN(100, return_sequences=False),\n",
    "    tf.keras.layers.Dense(total_words, activation='softmax')\n",
    "])\n",
    "\n",
    "model.compile(optimizer='adam', loss='sparse_categorical_crossentropy', metrics=['accuracy'])"
   ]
  },
  {
   "cell_type": "code",
   "execution_count": 6,
   "id": "7d8a2576-6007-451c-b3cc-963b3a315bf3",
   "metadata": {
    "colab": {
     "base_uri": "https://localhost:8080/"
    },
    "executionInfo": {
     "elapsed": 21337057,
     "status": "ok",
     "timestamp": 1724517628517,
     "user": {
      "displayName": "Sabir Hussain",
      "userId": "03641735542153877834"
     },
     "user_tz": -300
    },
    "id": "7d8a2576-6007-451c-b3cc-963b3a315bf3",
    "outputId": "6f8faeda-7187-4564-88c9-b0a0d5737e9b"
   },
   "outputs": [
    {
     "name": "stdout",
     "output_type": "stream",
     "text": [
      "Epoch 1/100\n",
      "\u001b[1m5272/5272\u001b[0m \u001b[32m━━━━━━━━━━━━━━━━━━━━\u001b[0m\u001b[37m\u001b[0m \u001b[1m207s\u001b[0m 39ms/step - accuracy: 0.0479 - loss: 6.8024\n",
      "Epoch 2/100\n",
      "\u001b[1m5272/5272\u001b[0m \u001b[32m━━━━━━━━━━━━━━━━━━━━\u001b[0m\u001b[37m\u001b[0m \u001b[1m258s\u001b[0m 38ms/step - accuracy: 0.0956 - loss: 5.8860\n",
      "Epoch 3/100\n",
      "\u001b[1m5272/5272\u001b[0m \u001b[32m━━━━━━━━━━━━━━━━━━━━\u001b[0m\u001b[37m\u001b[0m \u001b[1m207s\u001b[0m 39ms/step - accuracy: 0.1134 - loss: 5.5342\n",
      "Epoch 4/100\n",
      "\u001b[1m5272/5272\u001b[0m \u001b[32m━━━━━━━━━━━━━━━━━━━━\u001b[0m\u001b[37m\u001b[0m \u001b[1m259s\u001b[0m 38ms/step - accuracy: 0.1255 - loss: 5.2535\n",
      "Epoch 5/100\n",
      "\u001b[1m5272/5272\u001b[0m \u001b[32m━━━━━━━━━━━━━━━━━━━━\u001b[0m\u001b[37m\u001b[0m \u001b[1m260s\u001b[0m 38ms/step - accuracy: 0.1407 - loss: 5.0165\n",
      "Epoch 6/100\n",
      "\u001b[1m5272/5272\u001b[0m \u001b[32m━━━━━━━━━━━━━━━━━━━━\u001b[0m\u001b[37m\u001b[0m \u001b[1m200s\u001b[0m 38ms/step - accuracy: 0.1526 - loss: 4.8038\n",
      "Epoch 7/100\n",
      "\u001b[1m5272/5272\u001b[0m \u001b[32m━━━━━━━━━━━━━━━━━━━━\u001b[0m\u001b[37m\u001b[0m \u001b[1m206s\u001b[0m 39ms/step - accuracy: 0.1670 - loss: 4.6163\n",
      "Epoch 8/100\n",
      "\u001b[1m5272/5272\u001b[0m \u001b[32m━━━━━━━━━━━━━━━━━━━━\u001b[0m\u001b[37m\u001b[0m \u001b[1m206s\u001b[0m 39ms/step - accuracy: 0.1863 - loss: 4.4325\n",
      "Epoch 9/100\n",
      "\u001b[1m5272/5272\u001b[0m \u001b[32m━━━━━━━━━━━━━━━━━━━━\u001b[0m\u001b[37m\u001b[0m \u001b[1m207s\u001b[0m 39ms/step - accuracy: 0.2046 - loss: 4.2690\n",
      "Epoch 10/100\n",
      "\u001b[1m5272/5272\u001b[0m \u001b[32m━━━━━━━━━━━━━━━━━━━━\u001b[0m\u001b[37m\u001b[0m \u001b[1m205s\u001b[0m 39ms/step - accuracy: 0.2228 - loss: 4.1189\n",
      "Epoch 11/100\n",
      "\u001b[1m5272/5272\u001b[0m \u001b[32m━━━━━━━━━━━━━━━━━━━━\u001b[0m\u001b[37m\u001b[0m \u001b[1m246s\u001b[0m 36ms/step - accuracy: 0.2403 - loss: 3.9973\n",
      "Epoch 12/100\n",
      "\u001b[1m5272/5272\u001b[0m \u001b[32m━━━━━━━━━━━━━━━━━━━━\u001b[0m\u001b[37m\u001b[0m \u001b[1m202s\u001b[0m 36ms/step - accuracy: 0.2586 - loss: 3.8642\n",
      "Epoch 13/100\n",
      "\u001b[1m5272/5272\u001b[0m \u001b[32m━━━━━━━━━━━━━━━━━━━━\u001b[0m\u001b[37m\u001b[0m \u001b[1m196s\u001b[0m 35ms/step - accuracy: 0.2731 - loss: 3.7670\n",
      "Epoch 14/100\n",
      "\u001b[1m5272/5272\u001b[0m \u001b[32m━━━━━━━━━━━━━━━━━━━━\u001b[0m\u001b[37m\u001b[0m \u001b[1m179s\u001b[0m 34ms/step - accuracy: 0.2914 - loss: 3.6606\n",
      "Epoch 15/100\n",
      "\u001b[1m5272/5272\u001b[0m \u001b[32m━━━━━━━━━━━━━━━━━━━━\u001b[0m\u001b[37m\u001b[0m \u001b[1m234s\u001b[0m 40ms/step - accuracy: 0.2995 - loss: 3.5829\n",
      "Epoch 16/100\n",
      "\u001b[1m5272/5272\u001b[0m \u001b[32m━━━━━━━━━━━━━━━━━━━━\u001b[0m\u001b[37m\u001b[0m \u001b[1m261s\u001b[0m 40ms/step - accuracy: 0.3118 - loss: 3.5233\n",
      "Epoch 17/100\n",
      "\u001b[1m5272/5272\u001b[0m \u001b[32m━━━━━━━━━━━━━━━━━━━━\u001b[0m\u001b[37m\u001b[0m \u001b[1m254s\u001b[0m 38ms/step - accuracy: 0.3201 - loss: 3.4648\n",
      "Epoch 18/100\n",
      "\u001b[1m5272/5272\u001b[0m \u001b[32m━━━━━━━━━━━━━━━━━━━━\u001b[0m\u001b[37m\u001b[0m \u001b[1m204s\u001b[0m 39ms/step - accuracy: 0.3326 - loss: 3.3976\n",
      "Epoch 19/100\n",
      "\u001b[1m5272/5272\u001b[0m \u001b[32m━━━━━━━━━━━━━━━━━━━━\u001b[0m\u001b[37m\u001b[0m \u001b[1m261s\u001b[0m 39ms/step - accuracy: 0.3413 - loss: 3.3385\n",
      "Epoch 20/100\n",
      "\u001b[1m5272/5272\u001b[0m \u001b[32m━━━━━━━━━━━━━━━━━━━━\u001b[0m\u001b[37m\u001b[0m \u001b[1m260s\u001b[0m 38ms/step - accuracy: 0.3499 - loss: 3.2919\n",
      "Epoch 21/100\n",
      "\u001b[1m5272/5272\u001b[0m \u001b[32m━━━━━━━━━━━━━━━━━━━━\u001b[0m\u001b[37m\u001b[0m \u001b[1m202s\u001b[0m 38ms/step - accuracy: 0.3551 - loss: 3.2535\n",
      "Epoch 22/100\n",
      "\u001b[1m5272/5272\u001b[0m \u001b[32m━━━━━━━━━━━━━━━━━━━━\u001b[0m\u001b[37m\u001b[0m \u001b[1m205s\u001b[0m 39ms/step - accuracy: 0.3616 - loss: 3.2151\n",
      "Epoch 23/100\n",
      "\u001b[1m5272/5272\u001b[0m \u001b[32m━━━━━━━━━━━━━━━━━━━━\u001b[0m\u001b[37m\u001b[0m \u001b[1m263s\u001b[0m 39ms/step - accuracy: 0.3664 - loss: 3.1983\n",
      "Epoch 24/100\n",
      "\u001b[1m5272/5272\u001b[0m \u001b[32m━━━━━━━━━━━━━━━━━━━━\u001b[0m\u001b[37m\u001b[0m \u001b[1m263s\u001b[0m 39ms/step - accuracy: 0.3710 - loss: 3.1645\n",
      "Epoch 25/100\n",
      "\u001b[1m5272/5272\u001b[0m \u001b[32m━━━━━━━━━━━━━━━━━━━━\u001b[0m\u001b[37m\u001b[0m \u001b[1m256s\u001b[0m 38ms/step - accuracy: 0.3762 - loss: 3.1284\n",
      "Epoch 26/100\n",
      "\u001b[1m5272/5272\u001b[0m \u001b[32m━━━━━━━━━━━━━━━━━━━━\u001b[0m\u001b[37m\u001b[0m \u001b[1m188s\u001b[0m 36ms/step - accuracy: 0.3800 - loss: 3.1027\n",
      "Epoch 27/100\n",
      "\u001b[1m5272/5272\u001b[0m \u001b[32m━━━━━━━━━━━━━━━━━━━━\u001b[0m\u001b[37m\u001b[0m \u001b[1m195s\u001b[0m 34ms/step - accuracy: 0.3826 - loss: 3.0810\n",
      "Epoch 28/100\n",
      "\u001b[1m5272/5272\u001b[0m \u001b[32m━━━━━━━━━━━━━━━━━━━━\u001b[0m\u001b[37m\u001b[0m \u001b[1m202s\u001b[0m 34ms/step - accuracy: 0.3886 - loss: 3.0527\n",
      "Epoch 29/100\n",
      "\u001b[1m5272/5272\u001b[0m \u001b[32m━━━━━━━━━━━━━━━━━━━━\u001b[0m\u001b[37m\u001b[0m \u001b[1m181s\u001b[0m 34ms/step - accuracy: 0.3124 - loss: 3.5386\n",
      "Epoch 30/100\n",
      "\u001b[1m5272/5272\u001b[0m \u001b[32m━━━━━━━━━━━━━━━━━━━━\u001b[0m\u001b[37m\u001b[0m \u001b[1m201s\u001b[0m 34ms/step - accuracy: 0.3889 - loss: 3.0528\n",
      "Epoch 31/100\n",
      "\u001b[1m5272/5272\u001b[0m \u001b[32m━━━━━━━━━━━━━━━━━━━━\u001b[0m\u001b[37m\u001b[0m \u001b[1m202s\u001b[0m 34ms/step - accuracy: 0.3955 - loss: 3.0139\n",
      "Epoch 32/100\n",
      "\u001b[1m5272/5272\u001b[0m \u001b[32m━━━━━━━━━━━━━━━━━━━━\u001b[0m\u001b[37m\u001b[0m \u001b[1m200s\u001b[0m 34ms/step - accuracy: 0.3984 - loss: 2.9952\n",
      "Epoch 33/100\n",
      "\u001b[1m5272/5272\u001b[0m \u001b[32m━━━━━━━━━━━━━━━━━━━━\u001b[0m\u001b[37m\u001b[0m \u001b[1m202s\u001b[0m 34ms/step - accuracy: 0.4005 - loss: 2.9795\n",
      "Epoch 34/100\n",
      "\u001b[1m5272/5272\u001b[0m \u001b[32m━━━━━━━━━━━━━━━━━━━━\u001b[0m\u001b[37m\u001b[0m \u001b[1m206s\u001b[0m 35ms/step - accuracy: 0.3797 - loss: 3.1425\n",
      "Epoch 35/100\n",
      "\u001b[1m5272/5272\u001b[0m \u001b[32m━━━━━━━━━━━━━━━━━━━━\u001b[0m\u001b[37m\u001b[0m \u001b[1m199s\u001b[0m 34ms/step - accuracy: 0.3392 - loss: 3.3196\n",
      "Epoch 36/100\n",
      "\u001b[1m5272/5272\u001b[0m \u001b[32m━━━━━━━━━━━━━━━━━━━━\u001b[0m\u001b[37m\u001b[0m \u001b[1m202s\u001b[0m 34ms/step - accuracy: 0.3495 - loss: 3.3241\n",
      "Epoch 37/100\n",
      "\u001b[1m5272/5272\u001b[0m \u001b[32m━━━━━━━━━━━━━━━━━━━━\u001b[0m\u001b[37m\u001b[0m \u001b[1m204s\u001b[0m 35ms/step - accuracy: 0.3811 - loss: 3.0808\n",
      "Epoch 38/100\n",
      "\u001b[1m5272/5272\u001b[0m \u001b[32m━━━━━━━━━━━━━━━━━━━━\u001b[0m\u001b[37m\u001b[0m \u001b[1m182s\u001b[0m 34ms/step - accuracy: 0.3968 - loss: 2.9976\n",
      "Epoch 39/100\n",
      "\u001b[1m5272/5272\u001b[0m \u001b[32m━━━━━━━━━━━━━━━━━━━━\u001b[0m\u001b[37m\u001b[0m \u001b[1m185s\u001b[0m 35ms/step - accuracy: 0.4024 - loss: 2.9692\n",
      "Epoch 40/100\n",
      "\u001b[1m5272/5272\u001b[0m \u001b[32m━━━━━━━━━━━━━━━━━━━━\u001b[0m\u001b[37m\u001b[0m \u001b[1m198s\u001b[0m 34ms/step - accuracy: 0.4060 - loss: 2.9437\n",
      "Epoch 41/100\n",
      "\u001b[1m5272/5272\u001b[0m \u001b[32m━━━━━━━━━━━━━━━━━━━━\u001b[0m\u001b[37m\u001b[0m \u001b[1m204s\u001b[0m 35ms/step - accuracy: 0.4115 - loss: 2.9212\n",
      "Epoch 42/100\n",
      "\u001b[1m5272/5272\u001b[0m \u001b[32m━━━━━━━━━━━━━━━━━━━━\u001b[0m\u001b[37m\u001b[0m \u001b[1m181s\u001b[0m 34ms/step - accuracy: 0.4143 - loss: 2.9014\n",
      "Epoch 43/100\n",
      "\u001b[1m5272/5272\u001b[0m \u001b[32m━━━━━━━━━━━━━━━━━━━━\u001b[0m\u001b[37m\u001b[0m \u001b[1m183s\u001b[0m 35ms/step - accuracy: 0.4163 - loss: 2.8915\n",
      "Epoch 44/100\n",
      "\u001b[1m5272/5272\u001b[0m \u001b[32m━━━━━━━━━━━━━━━━━━━━\u001b[0m\u001b[37m\u001b[0m \u001b[1m182s\u001b[0m 34ms/step - accuracy: 0.4180 - loss: 2.8793\n",
      "Epoch 45/100\n",
      "\u001b[1m5272/5272\u001b[0m \u001b[32m━━━━━━━━━━━━━━━━━━━━\u001b[0m\u001b[37m\u001b[0m \u001b[1m200s\u001b[0m 34ms/step - accuracy: 0.4172 - loss: 2.8824\n",
      "Epoch 46/100\n",
      "\u001b[1m5272/5272\u001b[0m \u001b[32m━━━━━━━━━━━━━━━━━━━━\u001b[0m\u001b[37m\u001b[0m \u001b[1m206s\u001b[0m 35ms/step - accuracy: 0.4214 - loss: 2.8593\n",
      "Epoch 47/100\n",
      "\u001b[1m5272/5272\u001b[0m \u001b[32m━━━━━━━━━━━━━━━━━━━━\u001b[0m\u001b[37m\u001b[0m \u001b[1m198s\u001b[0m 34ms/step - accuracy: 0.4231 - loss: 2.8472\n",
      "Epoch 48/100\n",
      "\u001b[1m5272/5272\u001b[0m \u001b[32m━━━━━━━━━━━━━━━━━━━━\u001b[0m\u001b[37m\u001b[0m \u001b[1m180s\u001b[0m 34ms/step - accuracy: 0.4261 - loss: 2.8360\n",
      "Epoch 49/100\n",
      "\u001b[1m5272/5272\u001b[0m \u001b[32m━━━━━━━━━━━━━━━━━━━━\u001b[0m\u001b[37m\u001b[0m \u001b[1m203s\u001b[0m 34ms/step - accuracy: 0.4275 - loss: 2.8287\n",
      "Epoch 50/100\n",
      "\u001b[1m5272/5272\u001b[0m \u001b[32m━━━━━━━━━━━━━━━━━━━━\u001b[0m\u001b[37m\u001b[0m \u001b[1m201s\u001b[0m 34ms/step - accuracy: 0.4262 - loss: 2.8266\n",
      "Epoch 51/100\n",
      "\u001b[1m5272/5272\u001b[0m \u001b[32m━━━━━━━━━━━━━━━━━━━━\u001b[0m\u001b[37m\u001b[0m \u001b[1m203s\u001b[0m 34ms/step - accuracy: 0.4297 - loss: 2.8103\n",
      "Epoch 52/100\n",
      "\u001b[1m5272/5272\u001b[0m \u001b[32m━━━━━━━━━━━━━━━━━━━━\u001b[0m\u001b[37m\u001b[0m \u001b[1m201s\u001b[0m 34ms/step - accuracy: 0.4288 - loss: 2.8078\n",
      "Epoch 53/100\n",
      "\u001b[1m5272/5272\u001b[0m \u001b[32m━━━━━━━━━━━━━━━━━━━━\u001b[0m\u001b[37m\u001b[0m \u001b[1m205s\u001b[0m 35ms/step - accuracy: 0.4306 - loss: 2.8091\n",
      "Epoch 54/100\n",
      "\u001b[1m5272/5272\u001b[0m \u001b[32m━━━━━━━━━━━━━━━━━━━━\u001b[0m\u001b[37m\u001b[0m \u001b[1m201s\u001b[0m 35ms/step - accuracy: 0.4327 - loss: 2.7823\n",
      "Epoch 55/100\n",
      "\u001b[1m5272/5272\u001b[0m \u001b[32m━━━━━━━━━━━━━━━━━━━━\u001b[0m\u001b[37m\u001b[0m \u001b[1m183s\u001b[0m 35ms/step - accuracy: 0.4347 - loss: 2.7819\n",
      "Epoch 56/100\n",
      "\u001b[1m5272/5272\u001b[0m \u001b[32m━━━━━━━━━━━━━━━━━━━━\u001b[0m\u001b[37m\u001b[0m \u001b[1m200s\u001b[0m 34ms/step - accuracy: 0.4337 - loss: 2.7835\n",
      "Epoch 57/100\n",
      "\u001b[1m5272/5272\u001b[0m \u001b[32m━━━━━━━━━━━━━━━━━━━━\u001b[0m\u001b[37m\u001b[0m \u001b[1m182s\u001b[0m 35ms/step - accuracy: 0.4338 - loss: 2.7786\n",
      "Epoch 58/100\n",
      "\u001b[1m5272/5272\u001b[0m \u001b[32m━━━━━━━━━━━━━━━━━━━━\u001b[0m\u001b[37m\u001b[0m \u001b[1m201s\u001b[0m 34ms/step - accuracy: 0.4367 - loss: 2.7619\n",
      "Epoch 59/100\n",
      "\u001b[1m5272/5272\u001b[0m \u001b[32m━━━━━━━━━━━━━━━━━━━━\u001b[0m\u001b[37m\u001b[0m \u001b[1m204s\u001b[0m 35ms/step - accuracy: 0.4367 - loss: 2.7626\n",
      "Epoch 60/100\n",
      "\u001b[1m5272/5272\u001b[0m \u001b[32m━━━━━━━━━━━━━━━━━━━━\u001b[0m\u001b[37m\u001b[0m \u001b[1m202s\u001b[0m 35ms/step - accuracy: 0.4363 - loss: 2.7717\n",
      "Epoch 61/100\n",
      "\u001b[1m5272/5272\u001b[0m \u001b[32m━━━━━━━━━━━━━━━━━━━━\u001b[0m\u001b[37m\u001b[0m \u001b[1m206s\u001b[0m 35ms/step - accuracy: 0.4382 - loss: 2.7548\n",
      "Epoch 62/100\n",
      "\u001b[1m5272/5272\u001b[0m \u001b[32m━━━━━━━━━━━━━━━━━━━━\u001b[0m\u001b[37m\u001b[0m \u001b[1m202s\u001b[0m 35ms/step - accuracy: 0.4350 - loss: 2.7670\n",
      "Epoch 63/100\n",
      "\u001b[1m5272/5272\u001b[0m \u001b[32m━━━━━━━━━━━━━━━━━━━━\u001b[0m\u001b[37m\u001b[0m \u001b[1m205s\u001b[0m 36ms/step - accuracy: 0.4426 - loss: 2.7431\n",
      "Epoch 64/100\n",
      "\u001b[1m5272/5272\u001b[0m \u001b[32m━━━━━━━━━━━━━━━━━━━━\u001b[0m\u001b[37m\u001b[0m \u001b[1m200s\u001b[0m 36ms/step - accuracy: 0.4415 - loss: 2.7382\n",
      "Epoch 65/100\n",
      "\u001b[1m5272/5272\u001b[0m \u001b[32m━━━━━━━━━━━━━━━━━━━━\u001b[0m\u001b[37m\u001b[0m \u001b[1m194s\u001b[0m 37ms/step - accuracy: 0.4416 - loss: 2.7390\n",
      "Epoch 66/100\n",
      "\u001b[1m5272/5272\u001b[0m \u001b[32m━━━━━━━━━━━━━━━━━━━━\u001b[0m\u001b[37m\u001b[0m \u001b[1m201s\u001b[0m 37ms/step - accuracy: 0.4409 - loss: 2.7389\n",
      "Epoch 67/100\n",
      "\u001b[1m5272/5272\u001b[0m \u001b[32m━━━━━━━━━━━━━━━━━━━━\u001b[0m\u001b[37m\u001b[0m \u001b[1m203s\u001b[0m 37ms/step - accuracy: 0.4424 - loss: 2.7297\n",
      "Epoch 68/100\n",
      "\u001b[1m5272/5272\u001b[0m \u001b[32m━━━━━━━━━━━━━━━━━━━━\u001b[0m\u001b[37m\u001b[0m \u001b[1m216s\u001b[0m 40ms/step - accuracy: 0.4408 - loss: 2.7321\n",
      "Epoch 69/100\n",
      "\u001b[1m5272/5272\u001b[0m \u001b[32m━━━━━━━━━━━━━━━━━━━━\u001b[0m\u001b[37m\u001b[0m \u001b[1m261s\u001b[0m 39ms/step - accuracy: 0.4403 - loss: 2.7293\n",
      "Epoch 70/100\n",
      "\u001b[1m5272/5272\u001b[0m \u001b[32m━━━━━━━━━━━━━━━━━━━━\u001b[0m\u001b[37m\u001b[0m \u001b[1m207s\u001b[0m 39ms/step - accuracy: 0.4432 - loss: 2.7194\n",
      "Epoch 71/100\n",
      "\u001b[1m5272/5272\u001b[0m \u001b[32m━━━━━━━━━━━━━━━━━━━━\u001b[0m\u001b[37m\u001b[0m \u001b[1m267s\u001b[0m 40ms/step - accuracy: 0.4447 - loss: 2.7154\n",
      "Epoch 72/100\n",
      "\u001b[1m5272/5272\u001b[0m \u001b[32m━━━━━━━━━━━━━━━━━━━━\u001b[0m\u001b[37m\u001b[0m \u001b[1m215s\u001b[0m 41ms/step - accuracy: 0.4441 - loss: 2.7121\n",
      "Epoch 73/100\n",
      "\u001b[1m5272/5272\u001b[0m \u001b[32m━━━━━━━━━━━━━━━━━━━━\u001b[0m\u001b[37m\u001b[0m \u001b[1m209s\u001b[0m 40ms/step - accuracy: 0.4453 - loss: 2.7099\n",
      "Epoch 74/100\n",
      "\u001b[1m5272/5272\u001b[0m \u001b[32m━━━━━━━━━━━━━━━━━━━━\u001b[0m\u001b[37m\u001b[0m \u001b[1m207s\u001b[0m 39ms/step - accuracy: 0.4458 - loss: 2.7049\n",
      "Epoch 75/100\n",
      "\u001b[1m5272/5272\u001b[0m \u001b[32m━━━━━━━━━━━━━━━━━━━━\u001b[0m\u001b[37m\u001b[0m \u001b[1m263s\u001b[0m 39ms/step - accuracy: 0.4456 - loss: 2.7031\n",
      "Epoch 76/100\n",
      "\u001b[1m5272/5272\u001b[0m \u001b[32m━━━━━━━━━━━━━━━━━━━━\u001b[0m\u001b[37m\u001b[0m \u001b[1m263s\u001b[0m 40ms/step - accuracy: 0.4457 - loss: 2.7101\n",
      "Epoch 77/100\n",
      "\u001b[1m5272/5272\u001b[0m \u001b[32m━━━━━━━━━━━━━━━━━━━━\u001b[0m\u001b[37m\u001b[0m \u001b[1m210s\u001b[0m 40ms/step - accuracy: 0.4447 - loss: 2.7088\n",
      "Epoch 78/100\n",
      "\u001b[1m5272/5272\u001b[0m \u001b[32m━━━━━━━━━━━━━━━━━━━━\u001b[0m\u001b[37m\u001b[0m \u001b[1m260s\u001b[0m 39ms/step - accuracy: 0.4473 - loss: 2.7024\n",
      "Epoch 79/100\n",
      "\u001b[1m5272/5272\u001b[0m \u001b[32m━━━━━━━━━━━━━━━━━━━━\u001b[0m\u001b[37m\u001b[0m \u001b[1m259s\u001b[0m 39ms/step - accuracy: 0.4478 - loss: 2.6951\n",
      "Epoch 80/100\n",
      "\u001b[1m5272/5272\u001b[0m \u001b[32m━━━━━━━━━━━━━━━━━━━━\u001b[0m\u001b[37m\u001b[0m \u001b[1m261s\u001b[0m 39ms/step - accuracy: 0.4461 - loss: 2.6910\n",
      "Epoch 81/100\n",
      "\u001b[1m5272/5272\u001b[0m \u001b[32m━━━━━━━━━━━━━━━━━━━━\u001b[0m\u001b[37m\u001b[0m \u001b[1m263s\u001b[0m 39ms/step - accuracy: 0.4485 - loss: 2.6911\n",
      "Epoch 82/100\n",
      "\u001b[1m5272/5272\u001b[0m \u001b[32m━━━━━━━━━━━━━━━━━━━━\u001b[0m\u001b[37m\u001b[0m \u001b[1m204s\u001b[0m 39ms/step - accuracy: 0.4512 - loss: 2.6799\n",
      "Epoch 83/100\n",
      "\u001b[1m5272/5272\u001b[0m \u001b[32m━━━━━━━━━━━━━━━━━━━━\u001b[0m\u001b[37m\u001b[0m \u001b[1m259s\u001b[0m 38ms/step - accuracy: 0.4479 - loss: 2.6926\n",
      "Epoch 84/100\n",
      "\u001b[1m5272/5272\u001b[0m \u001b[32m━━━━━━━━━━━━━━━━━━━━\u001b[0m\u001b[37m\u001b[0m \u001b[1m263s\u001b[0m 39ms/step - accuracy: 0.4504 - loss: 2.6729\n",
      "Epoch 85/100\n",
      "\u001b[1m5272/5272\u001b[0m \u001b[32m━━━━━━━━━━━━━━━━━━━━\u001b[0m\u001b[37m\u001b[0m \u001b[1m202s\u001b[0m 38ms/step - accuracy: 0.4517 - loss: 2.6734\n",
      "Epoch 86/100\n",
      "\u001b[1m5272/5272\u001b[0m \u001b[32m━━━━━━━━━━━━━━━━━━━━\u001b[0m\u001b[37m\u001b[0m \u001b[1m205s\u001b[0m 39ms/step - accuracy: 0.4490 - loss: 2.6820\n",
      "Epoch 87/100\n",
      "\u001b[1m5272/5272\u001b[0m \u001b[32m━━━━━━━━━━━━━━━━━━━━\u001b[0m\u001b[37m\u001b[0m \u001b[1m206s\u001b[0m 39ms/step - accuracy: 0.4503 - loss: 2.6701\n",
      "Epoch 88/100\n",
      "\u001b[1m5272/5272\u001b[0m \u001b[32m━━━━━━━━━━━━━━━━━━━━\u001b[0m\u001b[37m\u001b[0m \u001b[1m255s\u001b[0m 38ms/step - accuracy: 0.4514 - loss: 2.6753\n",
      "Epoch 89/100\n",
      "\u001b[1m5272/5272\u001b[0m \u001b[32m━━━━━━━━━━━━━━━━━━━━\u001b[0m\u001b[37m\u001b[0m \u001b[1m200s\u001b[0m 37ms/step - accuracy: 0.4510 - loss: 2.6706\n",
      "Epoch 90/100\n",
      "\u001b[1m5272/5272\u001b[0m \u001b[32m━━━━━━━━━━━━━━━━━━━━\u001b[0m\u001b[37m\u001b[0m \u001b[1m203s\u001b[0m 38ms/step - accuracy: 0.4495 - loss: 2.6724\n",
      "Epoch 91/100\n",
      "\u001b[1m5272/5272\u001b[0m \u001b[32m━━━━━━━━━━━━━━━━━━━━\u001b[0m\u001b[37m\u001b[0m \u001b[1m194s\u001b[0m 37ms/step - accuracy: 0.4493 - loss: 2.6723\n",
      "Epoch 92/100\n",
      "\u001b[1m5272/5272\u001b[0m \u001b[32m━━━━━━━━━━━━━━━━━━━━\u001b[0m\u001b[37m\u001b[0m \u001b[1m199s\u001b[0m 36ms/step - accuracy: 0.4525 - loss: 2.6655\n",
      "Epoch 93/100\n",
      "\u001b[1m5272/5272\u001b[0m \u001b[32m━━━━━━━━━━━━━━━━━━━━\u001b[0m\u001b[37m\u001b[0m \u001b[1m191s\u001b[0m 36ms/step - accuracy: 0.4536 - loss: 2.6614\n",
      "Epoch 94/100\n",
      "\u001b[1m5272/5272\u001b[0m \u001b[32m━━━━━━━━━━━━━━━━━━━━\u001b[0m\u001b[37m\u001b[0m \u001b[1m185s\u001b[0m 35ms/step - accuracy: 0.4534 - loss: 2.6612\n",
      "Epoch 95/100\n",
      "\u001b[1m5272/5272\u001b[0m \u001b[32m━━━━━━━━━━━━━━━━━━━━\u001b[0m\u001b[37m\u001b[0m \u001b[1m210s\u001b[0m 37ms/step - accuracy: 0.4517 - loss: 2.6672\n",
      "Epoch 96/100\n",
      "\u001b[1m5272/5272\u001b[0m \u001b[32m━━━━━━━━━━━━━━━━━━━━\u001b[0m\u001b[37m\u001b[0m \u001b[1m208s\u001b[0m 38ms/step - accuracy: 0.4527 - loss: 2.6592\n",
      "Epoch 97/100\n",
      "\u001b[1m5272/5272\u001b[0m \u001b[32m━━━━━━━━━━━━━━━━━━━━\u001b[0m\u001b[37m\u001b[0m \u001b[1m201s\u001b[0m 37ms/step - accuracy: 0.4534 - loss: 2.6510\n",
      "Epoch 98/100\n",
      "\u001b[1m5272/5272\u001b[0m \u001b[32m━━━━━━━━━━━━━━━━━━━━\u001b[0m\u001b[37m\u001b[0m \u001b[1m206s\u001b[0m 38ms/step - accuracy: 0.4538 - loss: 2.6619\n",
      "Epoch 99/100\n",
      "\u001b[1m5272/5272\u001b[0m \u001b[32m━━━━━━━━━━━━━━━━━━━━\u001b[0m\u001b[37m\u001b[0m \u001b[1m196s\u001b[0m 37ms/step - accuracy: 0.4547 - loss: 2.6490\n",
      "Epoch 100/100\n",
      "\u001b[1m5272/5272\u001b[0m \u001b[32m━━━━━━━━━━━━━━━━━━━━\u001b[0m\u001b[37m\u001b[0m \u001b[1m196s\u001b[0m 36ms/step - accuracy: 0.4546 - loss: 2.6529\n"
     ]
    },
    {
     "data": {
      "text/plain": [
       "<keras.src.callbacks.history.History at 0x7843a862ce20>"
      ]
     },
     "execution_count": 6,
     "metadata": {},
     "output_type": "execute_result"
    }
   ],
   "source": [
    "model.fit(X, y, epochs=100, verbose=1)"
   ]
  },
  {
   "cell_type": "markdown",
   "id": "dtKFm1tqyMne",
   "metadata": {
    "id": "dtKFm1tqyMne"
   },
   "source": [
    "The model is taking an excessive amount of time to train, which is not feasible given our current time constraints and computational resources. Prolonged training can lead to diminishing returns, with only marginal improvements in performance while significantly increasing costs and delays. Therefore, I've decided to halt further training. This decision will allow us to allocate resources more efficiently project objectives."
   ]
  },
  {
   "cell_type": "markdown",
   "id": "570bfc8c-76c4-490d-891a-1c6d8cc02b50",
   "metadata": {
    "id": "570bfc8c-76c4-490d-891a-1c6d8cc02b50"
   },
   "source": [
    "## <span style='color:#ff6200'>Predictions</span>"
   ]
  },
  {
   "cell_type": "code",
   "execution_count": 7,
   "id": "4d0d2718-6ace-470e-9a28-1035de467461",
   "metadata": {
    "executionInfo": {
     "elapsed": 4,
     "status": "ok",
     "timestamp": 1724517631187,
     "user": {
      "displayName": "Sabir Hussain",
      "userId": "03641735542153877834"
     },
     "user_tz": -300
    },
    "id": "4d0d2718-6ace-470e-9a28-1035de467461"
   },
   "outputs": [],
   "source": [
    "def predict_next_word(model, tokenizer, text, max_sequence_length):\n",
    "\n",
    "    sequence = tokenizer.texts_to_sequences([text])[0]\n",
    "    sequence = pad_sequences([sequence], maxlen=max_sequence_length-1, padding='pre')\n",
    "\n",
    "    predicted_probabilities = model.predict(sequence, verbose=0)\n",
    "    predicted_word_index = np.argmax(predicted_probabilities, axis=-1)\n",
    "\n",
    "    index_to_word = {index: word for word, index in tokenizer.word_index.items()}\n",
    "    predicted_word = index_to_word[predicted_word_index[0]]\n",
    "\n",
    "    return predicted_word"
   ]
  },
  {
   "cell_type": "code",
   "execution_count": 8,
   "id": "03e41cb9-4752-4d1f-b956-496da3f7a641",
   "metadata": {
    "colab": {
     "base_uri": "https://localhost:8080/"
    },
    "executionInfo": {
     "elapsed": 647,
     "status": "ok",
     "timestamp": 1724517631831,
     "user": {
      "displayName": "Sabir Hussain",
      "userId": "03641735542153877834"
     },
     "user_tz": -300
    },
    "id": "03e41cb9-4752-4d1f-b956-496da3f7a641",
    "outputId": "ff8621c1-405d-4825-c75d-406bc638dc38"
   },
   "outputs": [
    {
     "name": "stdout",
     "output_type": "stream",
     "text": [
      "Next word prediction: the\n"
     ]
    }
   ],
   "source": [
    "input_text = 'to be'\n",
    "predicted_word = predict_next_word(model, tokenizer, input_text, max_sequence_length)\n",
    "print(f\"Next word prediction: {predicted_word}\")"
   ]
  },
  {
   "cell_type": "code",
   "execution_count": 9,
   "id": "LfOWLdNMM5Kw",
   "metadata": {
    "executionInfo": {
     "elapsed": 4,
     "status": "ok",
     "timestamp": 1724517631831,
     "user": {
      "displayName": "Sabir Hussain",
      "userId": "03641735542153877834"
     },
     "user_tz": -300
    },
    "id": "LfOWLdNMM5Kw"
   },
   "outputs": [],
   "source": [
    "def generate_text(model, tokenizer, seed_text, max_sequence_length, num_words):\n",
    "    generated_text = seed_text\n",
    "    for _ in range(num_words):\n",
    "        next_word = predict_next_word(model, tokenizer, generated_text, max_sequence_length)\n",
    "        if next_word:\n",
    "            generated_text += ' ' + next_word\n",
    "        else:\n",
    "            break\n",
    "    return generated_text"
   ]
  },
  {
   "cell_type": "code",
   "execution_count": 10,
   "id": "1KeUIIqFM7wy",
   "metadata": {
    "colab": {
     "base_uri": "https://localhost:8080/"
    },
    "executionInfo": {
     "elapsed": 1132,
     "status": "ok",
     "timestamp": 1724517632959,
     "user": {
      "displayName": "Sabir Hussain",
      "userId": "03641735542153877834"
     },
     "user_tz": -300
    },
    "id": "1KeUIIqFM7wy",
    "outputId": "3a100923-58c4-4460-e564-194b8bc0c67d"
   },
   "outputs": [
    {
     "name": "stdout",
     "output_type": "stream",
     "text": [
      "Generated line: to be the matter that we may have it so the mayor\n"
     ]
    }
   ],
   "source": [
    "seed_text = 'to be'\n",
    "num_words_to_generate = 10\n",
    "generated_line = generate_text(model, tokenizer, seed_text, max_sequence_length, num_words_to_generate)\n",
    "print(f\"Generated line: {generated_line}\")"
   ]
  },
  {
   "cell_type": "code",
   "execution_count": null,
   "id": "s2Ky1NmAPnk8",
   "metadata": {
    "id": "s2Ky1NmAPnk8"
   },
   "outputs": [],
   "source": []
  }
 ],
 "metadata": {
  "colab": {
   "provenance": []
  },
  "kernelspec": {
   "display_name": "Python 3 (ipykernel)",
   "language": "python",
   "name": "python3"
  },
  "language_info": {
   "codemirror_mode": {
    "name": "ipython",
    "version": 3
   },
   "file_extension": ".py",
   "mimetype": "text/x-python",
   "name": "python",
   "nbconvert_exporter": "python",
   "pygments_lexer": "ipython3",
   "version": "3.12.1"
  },
  "widgets": {
   "application/vnd.jupyter.widget-state+json": {
    "state": {},
    "version_major": 2,
    "version_minor": 0
   }
  }
 },
 "nbformat": 4,
 "nbformat_minor": 5
}
