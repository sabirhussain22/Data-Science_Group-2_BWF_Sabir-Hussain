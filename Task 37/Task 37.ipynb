{
 "cells": [
  {
   "cell_type": "markdown",
   "id": "7b0749bd-1d0c-401f-8519-1e1afd1b4c76",
   "metadata": {},
   "source": [
    "# <b><p style=\"background-color: #ff6200; font-family:calibri; color:white; font-size:100%; font-family:Verdana; text-align:center; border-radius:15px 50px;\">Task 37-> NLP Preprocessing</p>"
   ]
  },
  {
   "cell_type": "markdown",
   "id": "b885b3b4-dac2-44a8-88b1-9906a979c569",
   "metadata": {},
   "source": [
    "# What is Natural Language Processing (NLP)?\n",
    "Natural Language Processing (NLP) is a subfield of artificial intelligence (AI) that focuses on the interaction between computers and humans through natural language. The ultimate objective of NLP is to enable computers to understand, interpret, and generate human language in a way that is both meaningful and useful. This involves several complex processes, including the understanding of context, semantics, sentiment, and intent within the text or speech."
   ]
  },
  {
   "cell_type": "markdown",
   "id": "51b87b15-a159-4f50-8c06-d499376ba8f7",
   "metadata": {},
   "source": [
    "## <span style='color:#ff6200'> Importing Libraries</span>"
   ]
  },
  {
   "cell_type": "code",
   "execution_count": 13,
   "id": "0ad698f2-dee5-4678-96bf-289d6b00037b",
   "metadata": {
    "id": "0ad698f2-dee5-4678-96bf-289d6b00037b"
   },
   "outputs": [],
   "source": [
    "import pandas as pd\n",
    "import nltk\n",
    "import re\n",
    "\n",
    "from nltk.corpus import stopwords\n",
    "from nltk.tokenize import word_tokenize\n",
    "from nltk.stem import PorterStemmer, WordNetLemmatizer\n",
    "from datasets import load_dataset\n"
   ]
  },
  {
   "cell_type": "code",
   "execution_count": 14,
   "id": "ab7b60d3-4cd7-453a-ad97-1b1df20f8839",
   "metadata": {},
   "outputs": [
    {
     "name": "stderr",
     "output_type": "stream",
     "text": [
      "[nltk_data] Downloading package punkt to\n",
      "[nltk_data]     C:\\Users\\user\\AppData\\Roaming\\nltk_data...\n",
      "[nltk_data]   Package punkt is already up-to-date!\n",
      "[nltk_data] Downloading package stopwords to\n",
      "[nltk_data]     C:\\Users\\user\\AppData\\Roaming\\nltk_data...\n",
      "[nltk_data]   Package stopwords is already up-to-date!\n",
      "[nltk_data] Downloading package wordnet to\n",
      "[nltk_data]     C:\\Users\\user\\AppData\\Roaming\\nltk_data...\n",
      "[nltk_data]   Package wordnet is already up-to-date!\n"
     ]
    },
    {
     "data": {
      "text/plain": [
       "True"
      ]
     },
     "execution_count": 14,
     "metadata": {},
     "output_type": "execute_result"
    }
   ],
   "source": [
    "nltk.download('punkt')\n",
    "nltk.download('stopwords')\n",
    "nltk.download('wordnet')"
   ]
  },
  {
   "cell_type": "markdown",
   "id": "66411ca1-e462-4e90-abed-e15ae303e0a1",
   "metadata": {},
   "source": [
    "### <span style='color:#ff6200'> Common Text Preprocessing Techniques</span>"
   ]
  },
  {
   "cell_type": "code",
   "execution_count": 15,
   "id": "5a1df649-ac97-49bc-a78d-bfdca5b661f3",
   "metadata": {},
   "outputs": [],
   "source": [
    "def preprocess_text(text):\n",
    "    # Lowercasing\n",
    "    text = text.lower()\n",
    "    \n",
    "    # Removing Punctuation\n",
    "    text = re.sub(r'[^\\w\\s]', '', text)\n",
    "    \n",
    "    # Removing Stop Words\n",
    "    stop_words = set(stopwords.words('english'))\n",
    "    text = ' '.join(word for word in text.split() if word not in stop_words)\n",
    "    \n",
    "    # Removing Special Characters\n",
    "    text = re.sub(r'[^a-zA-Z0-9\\s]', '', text)\n",
    "    \n",
    "    # Removing Numbers\n",
    "    text = re.sub(r'\\d+', '', text)\n",
    "    \n",
    "    # Tokenization\n",
    "    tokens = word_tokenize(text)\n",
    "    \n",
    "    # Stemming\n",
    "    stemmer = PorterStemmer()\n",
    "    tokens = [stemmer.stem(word) for word in tokens]\n",
    "    \n",
    "    # Lemmatization\n",
    "    lemmatizer = WordNetLemmatizer()\n",
    "    tokens = [lemmatizer.lemmatize(word) for word in tokens]\n",
    "    \n",
    "    return tokens"
   ]
  },
  {
   "cell_type": "markdown",
   "id": "190c58be-561e-47e0-af8a-72593143e644",
   "metadata": {},
   "source": [
    "## <span style='color:#ff6200'> Movie Reviews Dataset</span>"
   ]
  },
  {
   "cell_type": "code",
   "execution_count": 16,
   "id": "ea5c45ff-610c-4b29-b06c-fa60941db193",
   "metadata": {},
   "outputs": [
    {
     "name": "stdout",
     "output_type": "stream",
     "text": [
      "\n",
      "Movie Reviews Dataset Preprocessing:\n"
     ]
    },
    {
     "data": {
      "application/vnd.jupyter.widget-view+json": {
       "model_id": "f565de1849304e8fa308bf5aecb1443b",
       "version_major": 2,
       "version_minor": 0
      },
      "text/plain": [
       "Downloading readme:   0%|          | 0.00/7.81k [00:00<?, ?B/s]"
      ]
     },
     "metadata": {},
     "output_type": "display_data"
    },
    {
     "data": {
      "application/vnd.jupyter.widget-view+json": {
       "model_id": "990693b475304dab91d0079af4a8692a",
       "version_major": 2,
       "version_minor": 0
      },
      "text/plain": [
       "Downloading data:   0%|          | 0.00/21.0M [00:00<?, ?B/s]"
      ]
     },
     "metadata": {},
     "output_type": "display_data"
    },
    {
     "data": {
      "application/vnd.jupyter.widget-view+json": {
       "model_id": "79773b8d040340dfb51a200d67915207",
       "version_major": 2,
       "version_minor": 0
      },
      "text/plain": [
       "Downloading data:   0%|          | 0.00/20.5M [00:00<?, ?B/s]"
      ]
     },
     "metadata": {},
     "output_type": "display_data"
    },
    {
     "data": {
      "application/vnd.jupyter.widget-view+json": {
       "model_id": "e3f8da4fddbc483ca7287363d1c4c58c",
       "version_major": 2,
       "version_minor": 0
      },
      "text/plain": [
       "Downloading data:   0%|          | 0.00/42.0M [00:00<?, ?B/s]"
      ]
     },
     "metadata": {},
     "output_type": "display_data"
    },
    {
     "data": {
      "application/vnd.jupyter.widget-view+json": {
       "model_id": "8d9440cc21f545cbafe95a79f957adf6",
       "version_major": 2,
       "version_minor": 0
      },
      "text/plain": [
       "Generating train split:   0%|          | 0/25000 [00:00<?, ? examples/s]"
      ]
     },
     "metadata": {},
     "output_type": "display_data"
    },
    {
     "data": {
      "application/vnd.jupyter.widget-view+json": {
       "model_id": "1d1d130cb43a4b5da8bb89ef91b6393b",
       "version_major": 2,
       "version_minor": 0
      },
      "text/plain": [
       "Generating test split:   0%|          | 0/25000 [00:00<?, ? examples/s]"
      ]
     },
     "metadata": {},
     "output_type": "display_data"
    },
    {
     "data": {
      "application/vnd.jupyter.widget-view+json": {
       "model_id": "7581bd573c384048b0eaaee6ae96a2c5",
       "version_major": 2,
       "version_minor": 0
      },
      "text/plain": [
       "Generating unsupervised split:   0%|          | 0/50000 [00:00<?, ? examples/s]"
      ]
     },
     "metadata": {},
     "output_type": "display_data"
    }
   ],
   "source": [
    "print(\"\\nMovie Reviews Dataset Preprocessing:\")\n",
    "movie_reviews = load_dataset('imdb', split='train').select(range(10))  \n",
    "movie_reviews_df = pd.DataFrame(movie_reviews)"
   ]
  },
  {
   "cell_type": "code",
   "execution_count": 19,
   "id": "c6cfbf50-115b-48e0-9c7a-350b68e3071e",
   "metadata": {},
   "outputs": [
    {
     "data": {
      "text/html": [
       "<div>\n",
       "<style scoped>\n",
       "    .dataframe tbody tr th:only-of-type {\n",
       "        vertical-align: middle;\n",
       "    }\n",
       "\n",
       "    .dataframe tbody tr th {\n",
       "        vertical-align: top;\n",
       "    }\n",
       "\n",
       "    .dataframe thead th {\n",
       "        text-align: right;\n",
       "    }\n",
       "</style>\n",
       "<table border=\"1\" class=\"dataframe\">\n",
       "  <thead>\n",
       "    <tr style=\"text-align: right;\">\n",
       "      <th></th>\n",
       "      <th>text</th>\n",
       "      <th>preprocessed_text</th>\n",
       "    </tr>\n",
       "  </thead>\n",
       "  <tbody>\n",
       "    <tr>\n",
       "      <th>0</th>\n",
       "      <td>I rented I AM CURIOUS-YELLOW from my video sto...</td>\n",
       "      <td>[rent, curiousyellow, video, store, controvers...</td>\n",
       "    </tr>\n",
       "    <tr>\n",
       "      <th>1</th>\n",
       "      <td>\"I Am Curious: Yellow\" is a risible and preten...</td>\n",
       "      <td>[curiou, yellow, risibl, pretenti, steam, pile...</td>\n",
       "    </tr>\n",
       "    <tr>\n",
       "      <th>2</th>\n",
       "      <td>If only to avoid making this type of film in t...</td>\n",
       "      <td>[avoid, make, type, film, futur, film, interes...</td>\n",
       "    </tr>\n",
       "    <tr>\n",
       "      <th>3</th>\n",
       "      <td>This film was probably inspired by Godard's Ma...</td>\n",
       "      <td>[film, probabl, inspir, godard, masculin, fmin...</td>\n",
       "    </tr>\n",
       "    <tr>\n",
       "      <th>4</th>\n",
       "      <td>Oh, brother...after hearing about this ridicul...</td>\n",
       "      <td>[oh, brotheraft, hear, ridicul, film, umpteen,...</td>\n",
       "    </tr>\n",
       "  </tbody>\n",
       "</table>\n",
       "</div>"
      ],
      "text/plain": [
       "                                                text  \\\n",
       "0  I rented I AM CURIOUS-YELLOW from my video sto...   \n",
       "1  \"I Am Curious: Yellow\" is a risible and preten...   \n",
       "2  If only to avoid making this type of film in t...   \n",
       "3  This film was probably inspired by Godard's Ma...   \n",
       "4  Oh, brother...after hearing about this ridicul...   \n",
       "\n",
       "                                   preprocessed_text  \n",
       "0  [rent, curiousyellow, video, store, controvers...  \n",
       "1  [curiou, yellow, risibl, pretenti, steam, pile...  \n",
       "2  [avoid, make, type, film, futur, film, interes...  \n",
       "3  [film, probabl, inspir, godard, masculin, fmin...  \n",
       "4  [oh, brotheraft, hear, ridicul, film, umpteen,...  "
      ]
     },
     "execution_count": 19,
     "metadata": {},
     "output_type": "execute_result"
    }
   ],
   "source": [
    "movie_reviews_df['preprocessed_text'] = movie_reviews_df['text'].apply(preprocess_text)\n",
    "movie_reviews_df[['text', 'preprocessed_text']].head()"
   ]
  },
  {
   "cell_type": "markdown",
   "id": "0b3a664e-5d12-488a-a9a6-aa8e59310eee",
   "metadata": {},
   "source": [
    "## <span style='color:#ff6200'> Tweets Dataset</span>"
   ]
  },
  {
   "cell_type": "code",
   "execution_count": 18,
   "id": "57a7ce93-f95c-4efa-962c-08443ee71cf1",
   "metadata": {},
   "outputs": [
    {
     "name": "stdout",
     "output_type": "stream",
     "text": [
      "\n",
      "Tweets Dataset Preprocessing:\n"
     ]
    },
    {
     "data": {
      "application/vnd.jupyter.widget-view+json": {
       "model_id": "287e0bd16885430593712431ad8802e9",
       "version_major": 2,
       "version_minor": 0
      },
      "text/plain": [
       "Downloading readme:   0%|          | 0.00/5.58k [00:00<?, ?B/s]"
      ]
     },
     "metadata": {},
     "output_type": "display_data"
    },
    {
     "data": {
      "application/vnd.jupyter.widget-view+json": {
       "model_id": "ab00ab956db845048cdf3dc58e601fbe",
       "version_major": 2,
       "version_minor": 0
      },
      "text/plain": [
       "Downloading data:   0%|          | 0.00/2.07M [00:00<?, ?B/s]"
      ]
     },
     "metadata": {},
     "output_type": "display_data"
    },
    {
     "data": {
      "application/vnd.jupyter.widget-view+json": {
       "model_id": "5ed331968ad24d68be14715c60ff5a5a",
       "version_major": 2,
       "version_minor": 0
      },
      "text/plain": [
       "Downloading data:   0%|          | 0.00/1.11M [00:00<?, ?B/s]"
      ]
     },
     "metadata": {},
     "output_type": "display_data"
    },
    {
     "data": {
      "application/vnd.jupyter.widget-view+json": {
       "model_id": "f628e18c77d1480fb75f15a5a544c059",
       "version_major": 2,
       "version_minor": 0
      },
      "text/plain": [
       "Generating train split:   0%|          | 0/31962 [00:00<?, ? examples/s]"
      ]
     },
     "metadata": {},
     "output_type": "display_data"
    },
    {
     "data": {
      "application/vnd.jupyter.widget-view+json": {
       "model_id": "0174f8b39b8149259567e117228a3bdf",
       "version_major": 2,
       "version_minor": 0
      },
      "text/plain": [
       "Generating test split:   0%|          | 0/17197 [00:00<?, ? examples/s]"
      ]
     },
     "metadata": {},
     "output_type": "display_data"
    }
   ],
   "source": [
    "print(\"\\nTweets Dataset Preprocessing:\")\n",
    "tweets_dataset = load_dataset('tweets_hate_speech_detection', split='train').select(range(10))  \n",
    "tweets_df = pd.DataFrame(tweets_dataset)"
   ]
  },
  {
   "cell_type": "code",
   "execution_count": 20,
   "id": "f3a0b44c-de3b-47bd-8d06-68ec75d503f2",
   "metadata": {},
   "outputs": [
    {
     "data": {
      "text/html": [
       "<div>\n",
       "<style scoped>\n",
       "    .dataframe tbody tr th:only-of-type {\n",
       "        vertical-align: middle;\n",
       "    }\n",
       "\n",
       "    .dataframe tbody tr th {\n",
       "        vertical-align: top;\n",
       "    }\n",
       "\n",
       "    .dataframe thead th {\n",
       "        text-align: right;\n",
       "    }\n",
       "</style>\n",
       "<table border=\"1\" class=\"dataframe\">\n",
       "  <thead>\n",
       "    <tr style=\"text-align: right;\">\n",
       "      <th></th>\n",
       "      <th>tweet</th>\n",
       "      <th>preprocessed_text</th>\n",
       "    </tr>\n",
       "  </thead>\n",
       "  <tbody>\n",
       "    <tr>\n",
       "      <th>0</th>\n",
       "      <td>@user when a father is dysfunctional and is so...</td>\n",
       "      <td>[user, father, dysfunct, selfish, drag, kid, d...</td>\n",
       "    </tr>\n",
       "    <tr>\n",
       "      <th>1</th>\n",
       "      <td>@user @user thanks for #lyft credit i can't us...</td>\n",
       "      <td>[user, user, thank, lyft, credit, cant, use, c...</td>\n",
       "    </tr>\n",
       "    <tr>\n",
       "      <th>2</th>\n",
       "      <td>bihday your majesty</td>\n",
       "      <td>[bihday, majesti]</td>\n",
       "    </tr>\n",
       "    <tr>\n",
       "      <th>3</th>\n",
       "      <td>#model   i love u take with u all the time in ...</td>\n",
       "      <td>[model, love, u, take, u, time, ur]</td>\n",
       "    </tr>\n",
       "    <tr>\n",
       "      <th>4</th>\n",
       "      <td>factsguide: society now    #motivation</td>\n",
       "      <td>[factsguid, societi, motiv]</td>\n",
       "    </tr>\n",
       "  </tbody>\n",
       "</table>\n",
       "</div>"
      ],
      "text/plain": [
       "                                               tweet  \\\n",
       "0  @user when a father is dysfunctional and is so...   \n",
       "1  @user @user thanks for #lyft credit i can't us...   \n",
       "2                                bihday your majesty   \n",
       "3  #model   i love u take with u all the time in ...   \n",
       "4             factsguide: society now    #motivation   \n",
       "\n",
       "                                   preprocessed_text  \n",
       "0  [user, father, dysfunct, selfish, drag, kid, d...  \n",
       "1  [user, user, thank, lyft, credit, cant, use, c...  \n",
       "2                                  [bihday, majesti]  \n",
       "3                [model, love, u, take, u, time, ur]  \n",
       "4                        [factsguid, societi, motiv]  "
      ]
     },
     "execution_count": 20,
     "metadata": {},
     "output_type": "execute_result"
    }
   ],
   "source": [
    "tweets_df['preprocessed_text'] = tweets_df['tweet'].apply(preprocess_text)\n",
    "tweets_df[['tweet', 'preprocessed_text']].head()"
   ]
  },
  {
   "cell_type": "markdown",
   "id": "457b146b-1560-4041-9011-8867a1e0bd69",
   "metadata": {},
   "source": [
    "## <span style='color:#ff6200'> News Articles Dataset</span>"
   ]
  },
  {
   "cell_type": "code",
   "execution_count": 22,
   "id": "ce37627a-d09a-48b3-99de-32e3804a1005",
   "metadata": {},
   "outputs": [
    {
     "name": "stdout",
     "output_type": "stream",
     "text": [
      "\n",
      "News Articles Dataset Preprocessing:\n"
     ]
    }
   ],
   "source": [
    "print(\"\\nNews Articles Dataset Preprocessing:\")\n",
    "news_articles = load_dataset('ag_news', split='train').select(range(10))  \n",
    "news_df = pd.DataFrame(news_articles)"
   ]
  },
  {
   "cell_type": "code",
   "execution_count": 23,
   "id": "472634d2-bc7f-4f14-9015-f27ae82e06be",
   "metadata": {},
   "outputs": [
    {
     "data": {
      "text/html": [
       "<div>\n",
       "<style scoped>\n",
       "    .dataframe tbody tr th:only-of-type {\n",
       "        vertical-align: middle;\n",
       "    }\n",
       "\n",
       "    .dataframe tbody tr th {\n",
       "        vertical-align: top;\n",
       "    }\n",
       "\n",
       "    .dataframe thead th {\n",
       "        text-align: right;\n",
       "    }\n",
       "</style>\n",
       "<table border=\"1\" class=\"dataframe\">\n",
       "  <thead>\n",
       "    <tr style=\"text-align: right;\">\n",
       "      <th></th>\n",
       "      <th>text</th>\n",
       "      <th>preprocessed_text</th>\n",
       "    </tr>\n",
       "  </thead>\n",
       "  <tbody>\n",
       "    <tr>\n",
       "      <th>0</th>\n",
       "      <td>Wall St. Bears Claw Back Into the Black (Reute...</td>\n",
       "      <td>[wall, st, bear, claw, back, black, reuter, re...</td>\n",
       "    </tr>\n",
       "    <tr>\n",
       "      <th>1</th>\n",
       "      <td>Carlyle Looks Toward Commercial Aerospace (Reu...</td>\n",
       "      <td>[carlyl, look, toward, commerci, aerospac, reu...</td>\n",
       "    </tr>\n",
       "    <tr>\n",
       "      <th>2</th>\n",
       "      <td>Oil and Economy Cloud Stocks' Outlook (Reuters...</td>\n",
       "      <td>[oil, economi, cloud, stock, outlook, reuter, ...</td>\n",
       "    </tr>\n",
       "    <tr>\n",
       "      <th>3</th>\n",
       "      <td>Iraq Halts Oil Exports from Main Southern Pipe...</td>\n",
       "      <td>[iraq, halt, oil, export, main, southern, pipe...</td>\n",
       "    </tr>\n",
       "    <tr>\n",
       "      <th>4</th>\n",
       "      <td>Oil prices soar to all-time record, posing new...</td>\n",
       "      <td>[oil, price, soar, alltim, record, pose, new, ...</td>\n",
       "    </tr>\n",
       "  </tbody>\n",
       "</table>\n",
       "</div>"
      ],
      "text/plain": [
       "                                                text  \\\n",
       "0  Wall St. Bears Claw Back Into the Black (Reute...   \n",
       "1  Carlyle Looks Toward Commercial Aerospace (Reu...   \n",
       "2  Oil and Economy Cloud Stocks' Outlook (Reuters...   \n",
       "3  Iraq Halts Oil Exports from Main Southern Pipe...   \n",
       "4  Oil prices soar to all-time record, posing new...   \n",
       "\n",
       "                                   preprocessed_text  \n",
       "0  [wall, st, bear, claw, back, black, reuter, re...  \n",
       "1  [carlyl, look, toward, commerci, aerospac, reu...  \n",
       "2  [oil, economi, cloud, stock, outlook, reuter, ...  \n",
       "3  [iraq, halt, oil, export, main, southern, pipe...  \n",
       "4  [oil, price, soar, alltim, record, pose, new, ...  "
      ]
     },
     "execution_count": 23,
     "metadata": {},
     "output_type": "execute_result"
    }
   ],
   "source": [
    "news_df['preprocessed_text'] = news_df['text'].apply(preprocess_text)\n",
    "news_df[['text', 'preprocessed_text']].head()"
   ]
  },
  {
   "cell_type": "code",
   "execution_count": null,
   "id": "41500e20-a12d-4eb6-9b17-cc448c33f7f4",
   "metadata": {},
   "outputs": [],
   "source": []
  }
 ],
 "metadata": {
  "colab": {
   "provenance": []
  },
  "kernelspec": {
   "display_name": "Python 3 (ipykernel)",
   "language": "python",
   "name": "python3"
  },
  "language_info": {
   "codemirror_mode": {
    "name": "ipython",
    "version": 3
   },
   "file_extension": ".py",
   "mimetype": "text/x-python",
   "name": "python",
   "nbconvert_exporter": "python",
   "pygments_lexer": "ipython3",
   "version": "3.12.1"
  },
  "widgets": {
   "application/vnd.jupyter.widget-state+json": {
    "state": {
     "0064e2bb7961414a8bed0114366f84dd": {
      "model_module": "@jupyter-widgets/controls",
      "model_module_version": "2.0.0",
      "model_name": "HTMLModel",
      "state": {
       "layout": "IPY_MODEL_662bd7b850cc4d46ba82c86d6d35a150",
       "style": "IPY_MODEL_ddd41cf43f9e4119a92b9a580683651d",
       "value": " 1.23M/1.23M [00:02&lt;00:00, 467kB/s]"
      }
     },
     "008b2b0cf1724a02ac2d7634c3befdfc": {
      "model_module": "@jupyter-widgets/base",
      "model_module_version": "2.0.0",
      "model_name": "LayoutModel",
      "state": {}
     },
     "00bbc6dcbb1f4eaead9c635f2750025a": {
      "model_module": "@jupyter-widgets/controls",
      "model_module_version": "2.0.0",
      "model_name": "HTMLStyleModel",
      "state": {
       "description_width": "",
       "font_size": null,
       "text_color": null
      }
     },
     "0174f8b39b8149259567e117228a3bdf": {
      "model_module": "@jupyter-widgets/controls",
      "model_module_version": "2.0.0",
      "model_name": "HBoxModel",
      "state": {
       "children": [
        "IPY_MODEL_c2766dca1f11436c873097da11818877",
        "IPY_MODEL_716553b42a6f439389a4ba9302c86c5d",
        "IPY_MODEL_9ac01d086ebd4e9da4822f28482ea436"
       ],
       "layout": "IPY_MODEL_0a445bad2da2422b830572449609289b"
      }
     },
     "044bb042aeea49a7950e2f8672f5b4ca": {
      "model_module": "@jupyter-widgets/controls",
      "model_module_version": "2.0.0",
      "model_name": "FloatProgressModel",
      "state": {
       "bar_style": "success",
       "layout": "IPY_MODEL_51302b3a25d8441892c979295f0b75e8",
       "max": 8070,
       "style": "IPY_MODEL_362b20c542a44b409910603451a90863",
       "value": 8070
      }
     },
     "098919378c534037ac13302bda2e956f": {
      "model_module": "@jupyter-widgets/controls",
      "model_module_version": "2.0.0",
      "model_name": "ProgressStyleModel",
      "state": {
       "description_width": ""
      }
     },
     "0a445bad2da2422b830572449609289b": {
      "model_module": "@jupyter-widgets/base",
      "model_module_version": "2.0.0",
      "model_name": "LayoutModel",
      "state": {}
     },
     "0bf5c5c52307454b845cad54a4f8e8cb": {
      "model_module": "@jupyter-widgets/controls",
      "model_module_version": "2.0.0",
      "model_name": "HTMLStyleModel",
      "state": {
       "description_width": "",
       "font_size": null,
       "text_color": null
      }
     },
     "0fdafa0f46e24fc5b3bdf4b00d352633": {
      "model_module": "@jupyter-widgets/controls",
      "model_module_version": "2.0.0",
      "model_name": "HTMLStyleModel",
      "state": {
       "description_width": "",
       "font_size": null,
       "text_color": null
      }
     },
     "1074c1ee3ba545559f8dbca4d5f1e8ef": {
      "model_module": "@jupyter-widgets/controls",
      "model_module_version": "2.0.0",
      "model_name": "FloatProgressModel",
      "state": {
       "bar_style": "success",
       "layout": "IPY_MODEL_a4254e0d2bc84d7488f50d3390a043d9",
       "max": 18585438,
       "style": "IPY_MODEL_c47e5f6f61494897abc4d7ff19351b53",
       "value": 18585438
      }
     },
     "12190d971992421980bb8eb6b382e2e6": {
      "model_module": "@jupyter-widgets/controls",
      "model_module_version": "2.0.0",
      "model_name": "HTMLStyleModel",
      "state": {
       "description_width": "",
       "font_size": null,
       "text_color": null
      }
     },
     "151ea2b43c334e79b9a3f8cfc80d91d3": {
      "model_module": "@jupyter-widgets/base",
      "model_module_version": "2.0.0",
      "model_name": "LayoutModel",
      "state": {}
     },
     "15648f2954ee443d9d9266b872e3dfce": {
      "model_module": "@jupyter-widgets/base",
      "model_module_version": "2.0.0",
      "model_name": "LayoutModel",
      "state": {}
     },
     "169cc6daee2845028488a2b52a3f4c2d": {
      "model_module": "@jupyter-widgets/base",
      "model_module_version": "2.0.0",
      "model_name": "LayoutModel",
      "state": {}
     },
     "18fe0421e1a246aab49d8da78614b776": {
      "model_module": "@jupyter-widgets/controls",
      "model_module_version": "2.0.0",
      "model_name": "HBoxModel",
      "state": {
       "children": [
        "IPY_MODEL_73772a2a5edb44f3a656dc4988134b29",
        "IPY_MODEL_61cd396a85a44e5faf263ef9951d13a1",
        "IPY_MODEL_f1b5ff1148034f2a9da0310dc3758664"
       ],
       "layout": "IPY_MODEL_22051b919abd4f528288cff3e43a2540"
      }
     },
     "195325fb3b724e27975e1ad1be095e99": {
      "model_module": "@jupyter-widgets/controls",
      "model_module_version": "2.0.0",
      "model_name": "HTMLStyleModel",
      "state": {
       "description_width": "",
       "font_size": null,
       "text_color": null
      }
     },
     "1a43cbb4b52f49af894d7c4964a17f06": {
      "model_module": "@jupyter-widgets/controls",
      "model_module_version": "2.0.0",
      "model_name": "FloatProgressModel",
      "state": {
       "bar_style": "success",
       "layout": "IPY_MODEL_1ebbf79eddc2488a9ea0ba9911512972",
       "max": 2068237,
       "style": "IPY_MODEL_63c97ab3a830458caf36fff5b5159bd1",
       "value": 2068237
      }
     },
     "1aee679dee724edab8a708019a1220c5": {
      "model_module": "@jupyter-widgets/base",
      "model_module_version": "2.0.0",
      "model_name": "LayoutModel",
      "state": {}
     },
     "1bb4e783dbde4dbd81f3cad8bab7e234": {
      "model_module": "@jupyter-widgets/base",
      "model_module_version": "2.0.0",
      "model_name": "LayoutModel",
      "state": {}
     },
     "1c87a8eae02345609ca2bb33c00c6856": {
      "model_module": "@jupyter-widgets/base",
      "model_module_version": "2.0.0",
      "model_name": "LayoutModel",
      "state": {}
     },
     "1d1d130cb43a4b5da8bb89ef91b6393b": {
      "model_module": "@jupyter-widgets/controls",
      "model_module_version": "2.0.0",
      "model_name": "HBoxModel",
      "state": {
       "children": [
        "IPY_MODEL_528243d3880c4997b4578f2d4051bb8f",
        "IPY_MODEL_cc244b2c31354c349192d74433fad5c1",
        "IPY_MODEL_32e4e29ca9b6487bbe8ad6147134e903"
       ],
       "layout": "IPY_MODEL_8243a57bb3784d408e59ac3a6a5bf481"
      }
     },
     "1df2a348094b481c96e3fe9c3207adfd": {
      "model_module": "@jupyter-widgets/controls",
      "model_module_version": "2.0.0",
      "model_name": "ProgressStyleModel",
      "state": {
       "description_width": ""
      }
     },
     "1ebbf79eddc2488a9ea0ba9911512972": {
      "model_module": "@jupyter-widgets/base",
      "model_module_version": "2.0.0",
      "model_name": "LayoutModel",
      "state": {}
     },
     "20624df2082c4f02ad9c7d2a138a20f8": {
      "model_module": "@jupyter-widgets/controls",
      "model_module_version": "2.0.0",
      "model_name": "HBoxModel",
      "state": {
       "children": [
        "IPY_MODEL_e18d87d5ae83405caaccfbbc475cac20",
        "IPY_MODEL_1074c1ee3ba545559f8dbca4d5f1e8ef",
        "IPY_MODEL_cb7087b227674b1db17b72f8cac8de77"
       ],
       "layout": "IPY_MODEL_008b2b0cf1724a02ac2d7634c3befdfc"
      }
     },
     "20ae1bf40fe94f6da6f97cbdaaf68230": {
      "model_module": "@jupyter-widgets/base",
      "model_module_version": "2.0.0",
      "model_name": "LayoutModel",
      "state": {}
     },
     "22051b919abd4f528288cff3e43a2540": {
      "model_module": "@jupyter-widgets/base",
      "model_module_version": "2.0.0",
      "model_name": "LayoutModel",
      "state": {}
     },
     "2205fab184594717ba9c800cd2bf48b1": {
      "model_module": "@jupyter-widgets/base",
      "model_module_version": "2.0.0",
      "model_name": "LayoutModel",
      "state": {}
     },
     "23f9aafc7da146cda8e31cd11380e60f": {
      "model_module": "@jupyter-widgets/controls",
      "model_module_version": "2.0.0",
      "model_name": "HBoxModel",
      "state": {
       "children": [
        "IPY_MODEL_ca3e2cec76ed49aeabc9b9a4b31196d0",
        "IPY_MODEL_38fcc84be2214656bbbec485acf5ee71",
        "IPY_MODEL_4b5731d0ad4c485d9adec3bd5626d093"
       ],
       "layout": "IPY_MODEL_151ea2b43c334e79b9a3f8cfc80d91d3"
      }
     },
     "24a3ae59c8d945d0b2761ac0446fcff6": {
      "model_module": "@jupyter-widgets/controls",
      "model_module_version": "2.0.0",
      "model_name": "HTMLModel",
      "state": {
       "layout": "IPY_MODEL_872f631c3b3a4ad1abc815b09c994aec",
       "style": "IPY_MODEL_5fdc5bf8ec8a44c78a84546947f10cdf",
       "value": "Downloading data: 100%"
      }
     },
     "27364cc781cf4544b044b2bcb751ade7": {
      "model_module": "@jupyter-widgets/base",
      "model_module_version": "2.0.0",
      "model_name": "LayoutModel",
      "state": {}
     },
     "287e0bd16885430593712431ad8802e9": {
      "model_module": "@jupyter-widgets/controls",
      "model_module_version": "2.0.0",
      "model_name": "HBoxModel",
      "state": {
       "children": [
        "IPY_MODEL_35dbb8aca8534c01842c10bb88af7805",
        "IPY_MODEL_32c26c743f71499bb91e7e2adbb86471",
        "IPY_MODEL_b687d64d83354bfe909e1cf4099f6740"
       ],
       "layout": "IPY_MODEL_2bdc1c3df4bd44a0996c3227c1567b19"
      }
     },
     "2ab2729318ab45b89f59c27539e0966f": {
      "model_module": "@jupyter-widgets/base",
      "model_module_version": "2.0.0",
      "model_name": "LayoutModel",
      "state": {}
     },
     "2bdc1c3df4bd44a0996c3227c1567b19": {
      "model_module": "@jupyter-widgets/base",
      "model_module_version": "2.0.0",
      "model_name": "LayoutModel",
      "state": {}
     },
     "2c5d393e8834456faabc4c7a049b85c1": {
      "model_module": "@jupyter-widgets/base",
      "model_module_version": "2.0.0",
      "model_name": "LayoutModel",
      "state": {}
     },
     "2d303efe1efc423eb6ca10613feae4bc": {
      "model_module": "@jupyter-widgets/controls",
      "model_module_version": "2.0.0",
      "model_name": "FloatProgressModel",
      "state": {
       "bar_style": "success",
       "layout": "IPY_MODEL_2205fab184594717ba9c800cd2bf48b1",
       "max": 25000,
       "style": "IPY_MODEL_c456b018d318436db79f50fc1f4be43c",
       "value": 25000
      }
     },
     "2da87135f71c4200872762a015fbbb01": {
      "model_module": "@jupyter-widgets/base",
      "model_module_version": "2.0.0",
      "model_name": "LayoutModel",
      "state": {}
     },
     "300a681937ae4337beaf1620dc6c770e": {
      "model_module": "@jupyter-widgets/controls",
      "model_module_version": "2.0.0",
      "model_name": "HTMLStyleModel",
      "state": {
       "description_width": "",
       "font_size": null,
       "text_color": null
      }
     },
     "329f379635454db4bd95dcff35acd1e0": {
      "model_module": "@jupyter-widgets/base",
      "model_module_version": "2.0.0",
      "model_name": "LayoutModel",
      "state": {}
     },
     "32c26c743f71499bb91e7e2adbb86471": {
      "model_module": "@jupyter-widgets/controls",
      "model_module_version": "2.0.0",
      "model_name": "FloatProgressModel",
      "state": {
       "bar_style": "success",
       "layout": "IPY_MODEL_15648f2954ee443d9d9266b872e3dfce",
       "max": 5580,
       "style": "IPY_MODEL_510fdaad837b44bca3d80a36974c0d01",
       "value": 5580
      }
     },
     "32e4e29ca9b6487bbe8ad6147134e903": {
      "model_module": "@jupyter-widgets/controls",
      "model_module_version": "2.0.0",
      "model_name": "HTMLModel",
      "state": {
       "layout": "IPY_MODEL_50bc1bd0497244029c20017b7abc198c",
       "style": "IPY_MODEL_9fd0f225c7fc497fa062b6f1da397bda",
       "value": " 25000/25000 [00:00&lt;00:00, 118706.64 examples/s]"
      }
     },
     "3357d485f55b4889b26c59b2f60e69c0": {
      "model_module": "@jupyter-widgets/controls",
      "model_module_version": "2.0.0",
      "model_name": "HTMLStyleModel",
      "state": {
       "description_width": "",
       "font_size": null,
       "text_color": null
      }
     },
     "34550e9ef7774ae2aabafc3437e62c6a": {
      "model_module": "@jupyter-widgets/controls",
      "model_module_version": "2.0.0",
      "model_name": "HTMLStyleModel",
      "state": {
       "description_width": "",
       "font_size": null,
       "text_color": null
      }
     },
     "352a63dc3eb646a18d44f3001e48d4c7": {
      "model_module": "@jupyter-widgets/base",
      "model_module_version": "2.0.0",
      "model_name": "LayoutModel",
      "state": {}
     },
     "35dbb8aca8534c01842c10bb88af7805": {
      "model_module": "@jupyter-widgets/controls",
      "model_module_version": "2.0.0",
      "model_name": "HTMLModel",
      "state": {
       "layout": "IPY_MODEL_e3391e6e3eba4d6d9c797762a985384a",
       "style": "IPY_MODEL_b5f4a840f6f442a780af31b0c053ead6",
       "value": "Downloading readme: 100%"
      }
     },
     "35ef368039aa4c1ab5af3d76d8dc8f38": {
      "model_module": "@jupyter-widgets/base",
      "model_module_version": "2.0.0",
      "model_name": "LayoutModel",
      "state": {}
     },
     "362b20c542a44b409910603451a90863": {
      "model_module": "@jupyter-widgets/controls",
      "model_module_version": "2.0.0",
      "model_name": "ProgressStyleModel",
      "state": {
       "description_width": ""
      }
     },
     "371f38fb60034696a0a665aa1c221298": {
      "model_module": "@jupyter-widgets/controls",
      "model_module_version": "2.0.0",
      "model_name": "ProgressStyleModel",
      "state": {
       "description_width": ""
      }
     },
     "38ec244b99b7428abc1cd6fb495039d2": {
      "model_module": "@jupyter-widgets/controls",
      "model_module_version": "2.0.0",
      "model_name": "HTMLStyleModel",
      "state": {
       "description_width": "",
       "font_size": null,
       "text_color": null
      }
     },
     "38fcc84be2214656bbbec485acf5ee71": {
      "model_module": "@jupyter-widgets/controls",
      "model_module_version": "2.0.0",
      "model_name": "FloatProgressModel",
      "state": {
       "bar_style": "success",
       "layout": "IPY_MODEL_7ed7653e3b074074962ac307c1089adc",
       "max": 2,
       "style": "IPY_MODEL_c14115a1e8f04939b542cf9a74c7cda2",
       "value": 2
      }
     },
     "3d782ff4234d4d5da26d9d4636787423": {
      "model_module": "@jupyter-widgets/controls",
      "model_module_version": "2.0.0",
      "model_name": "HTMLStyleModel",
      "state": {
       "description_width": "",
       "font_size": null,
       "text_color": null
      }
     },
     "3e333ae4b8dc44319990d4ed84844c48": {
      "model_module": "@jupyter-widgets/base",
      "model_module_version": "2.0.0",
      "model_name": "LayoutModel",
      "state": {}
     },
     "3fd10dfa0da54afe815da9ec117dabfe": {
      "model_module": "@jupyter-widgets/controls",
      "model_module_version": "2.0.0",
      "model_name": "ProgressStyleModel",
      "state": {
       "description_width": ""
      }
     },
     "411492cc27ec47ffb91330abcd3d45bd": {
      "model_module": "@jupyter-widgets/controls",
      "model_module_version": "2.0.0",
      "model_name": "HTMLModel",
      "state": {
       "layout": "IPY_MODEL_a7335acab85847bfb44d61011a55e21a",
       "style": "IPY_MODEL_450d67a1433049ce9f87fc5cb1f31cb0",
       "value": "Generating unsupervised split: 100%"
      }
     },
     "41bb02a47a8e4fd0b00ff9c768aed5f5": {
      "model_module": "@jupyter-widgets/controls",
      "model_module_version": "2.0.0",
      "model_name": "HTMLModel",
      "state": {
       "layout": "IPY_MODEL_81f9025498c742d3ae45fe60dd6d22ec",
       "style": "IPY_MODEL_f12788c350aa4a59a2a0dc15f1c26d0f",
       "value": " 2.07M/2.07M [00:03&lt;00:00, 655kB/s]"
      }
     },
     "4402dcb8bab44c9b9d2358f77af066c4": {
      "model_module": "@jupyter-widgets/controls",
      "model_module_version": "2.0.0",
      "model_name": "FloatProgressModel",
      "state": {
       "bar_style": "success",
       "layout": "IPY_MODEL_5ab9af8c4602478db44e3d911776fa8c",
       "max": 41996509,
       "style": "IPY_MODEL_a8face3633e14e278955813af9ba039b",
       "value": 41996509
      }
     },
     "450d67a1433049ce9f87fc5cb1f31cb0": {
      "model_module": "@jupyter-widgets/controls",
      "model_module_version": "2.0.0",
      "model_name": "HTMLStyleModel",
      "state": {
       "description_width": "",
       "font_size": null,
       "text_color": null
      }
     },
     "4791a84cff9745cdb7c9105416ae2eb4": {
      "model_module": "@jupyter-widgets/controls",
      "model_module_version": "2.0.0",
      "model_name": "HTMLModel",
      "state": {
       "layout": "IPY_MODEL_c0e9d398ca3444bb90683eaef02415b6",
       "style": "IPY_MODEL_12190d971992421980bb8eb6b382e2e6",
       "value": " 2/2 [00:00&lt;00:00, 566.84it/s]"
      }
     },
     "49cce2beb5f34425a0cd8a3805428163": {
      "model_module": "@jupyter-widgets/controls",
      "model_module_version": "2.0.0",
      "model_name": "HTMLStyleModel",
      "state": {
       "description_width": "",
       "font_size": null,
       "text_color": null
      }
     },
     "4b1884e1a48647449b10009a5fc582ac": {
      "model_module": "@jupyter-widgets/base",
      "model_module_version": "2.0.0",
      "model_name": "LayoutModel",
      "state": {}
     },
     "4b5731d0ad4c485d9adec3bd5626d093": {
      "model_module": "@jupyter-widgets/controls",
      "model_module_version": "2.0.0",
      "model_name": "HTMLModel",
      "state": {
       "layout": "IPY_MODEL_2c5d393e8834456faabc4c7a049b85c1",
       "style": "IPY_MODEL_00bbc6dcbb1f4eaead9c635f2750025a",
       "value": " 2/2 [00:00&lt;?, ?it/s]"
      }
     },
     "4bf8ffe3b1db4cb096368c611169cb49": {
      "model_module": "@jupyter-widgets/controls",
      "model_module_version": "2.0.0",
      "model_name": "FloatProgressModel",
      "state": {
       "bar_style": "success",
       "layout": "IPY_MODEL_6338f21017c641efb3879781b038eb02",
       "max": 50000,
       "style": "IPY_MODEL_098919378c534037ac13302bda2e956f",
       "value": 50000
      }
     },
     "4d255bd0f96d42baa1de4a85795a3acc": {
      "model_module": "@jupyter-widgets/base",
      "model_module_version": "2.0.0",
      "model_name": "LayoutModel",
      "state": {}
     },
     "50bc1bd0497244029c20017b7abc198c": {
      "model_module": "@jupyter-widgets/base",
      "model_module_version": "2.0.0",
      "model_name": "LayoutModel",
      "state": {}
     },
     "510fdaad837b44bca3d80a36974c0d01": {
      "model_module": "@jupyter-widgets/controls",
      "model_module_version": "2.0.0",
      "model_name": "ProgressStyleModel",
      "state": {
       "description_width": ""
      }
     },
     "51302b3a25d8441892c979295f0b75e8": {
      "model_module": "@jupyter-widgets/base",
      "model_module_version": "2.0.0",
      "model_name": "LayoutModel",
      "state": {}
     },
     "5133686de84a492db59fa80edf763f65": {
      "model_module": "@jupyter-widgets/controls",
      "model_module_version": "2.0.0",
      "model_name": "HTMLModel",
      "state": {
       "layout": "IPY_MODEL_9b0ab0dca9cd4733a3aa85f8fec875ab",
       "style": "IPY_MODEL_b5466786e39c43c3913a853a1c2c4cd9",
       "value": "Downloading data: 100%"
      }
     },
     "51fae531127941adba9fc5a77f9e6bc6": {
      "model_module": "@jupyter-widgets/controls",
      "model_module_version": "2.0.0",
      "model_name": "HTMLModel",
      "state": {
       "layout": "IPY_MODEL_55049828ae7a44c19721f8a062ceeb74",
       "style": "IPY_MODEL_6e7d06f32f6941c7b0ddb28d24dcba3b",
       "value": " 42.0M/42.0M [00:05&lt;00:00, 8.68MB/s]"
      }
     },
     "52255e65554b4db899850aaf4a1728ab": {
      "model_module": "@jupyter-widgets/controls",
      "model_module_version": "2.0.0",
      "model_name": "HBoxModel",
      "state": {
       "children": [
        "IPY_MODEL_7e72b98b35a643e8a3ea2599394628bc",
        "IPY_MODEL_b8ba081bd0b64f5d836acc6f48a0f56e",
        "IPY_MODEL_dcb05e6e74c04f968e9cac1e70dcdd1a"
       ],
       "layout": "IPY_MODEL_a6f3741766974631bb5432cd1f2feb65"
      }
     },
     "528243d3880c4997b4578f2d4051bb8f": {
      "model_module": "@jupyter-widgets/controls",
      "model_module_version": "2.0.0",
      "model_name": "HTMLModel",
      "state": {
       "layout": "IPY_MODEL_d4b3b2f3b14846cd87a76c99b5712fb6",
       "style": "IPY_MODEL_195325fb3b724e27975e1ad1be095e99",
       "value": "Generating test split: 100%"
      }
     },
     "5354ebffa4294896a5f02cb7b542aa4b": {
      "model_module": "@jupyter-widgets/base",
      "model_module_version": "2.0.0",
      "model_name": "LayoutModel",
      "state": {}
     },
     "5378377039a245e4aea2242d9285cf46": {
      "model_module": "@jupyter-widgets/base",
      "model_module_version": "2.0.0",
      "model_name": "LayoutModel",
      "state": {}
     },
     "53925586dd584436bd0aa513def54a05": {
      "model_module": "@jupyter-widgets/controls",
      "model_module_version": "2.0.0",
      "model_name": "HTMLStyleModel",
      "state": {
       "description_width": "",
       "font_size": null,
       "text_color": null
      }
     },
     "54cad8bed8054fe8b0563cfa31b30480": {
      "model_module": "@jupyter-widgets/controls",
      "model_module_version": "2.0.0",
      "model_name": "ProgressStyleModel",
      "state": {
       "description_width": ""
      }
     },
     "55049828ae7a44c19721f8a062ceeb74": {
      "model_module": "@jupyter-widgets/base",
      "model_module_version": "2.0.0",
      "model_name": "LayoutModel",
      "state": {}
     },
     "5781ef90b7a04f10a9d30ea1de73c56c": {
      "model_module": "@jupyter-widgets/controls",
      "model_module_version": "2.0.0",
      "model_name": "ProgressStyleModel",
      "state": {
       "description_width": ""
      }
     },
     "59f8ad27d3cc4214aeacd733fae1d43d": {
      "model_module": "@jupyter-widgets/base",
      "model_module_version": "2.0.0",
      "model_name": "LayoutModel",
      "state": {}
     },
     "5ab9af8c4602478db44e3d911776fa8c": {
      "model_module": "@jupyter-widgets/base",
      "model_module_version": "2.0.0",
      "model_name": "LayoutModel",
      "state": {}
     },
     "5b00f85e97804c5585008ed19d27ce61": {
      "model_module": "@jupyter-widgets/base",
      "model_module_version": "2.0.0",
      "model_name": "LayoutModel",
      "state": {}
     },
     "5e139b31fc5a4d78bce0ac01ba91775b": {
      "model_module": "@jupyter-widgets/base",
      "model_module_version": "2.0.0",
      "model_name": "LayoutModel",
      "state": {}
     },
     "5ed331968ad24d68be14715c60ff5a5a": {
      "model_module": "@jupyter-widgets/controls",
      "model_module_version": "2.0.0",
      "model_name": "HBoxModel",
      "state": {
       "children": [
        "IPY_MODEL_5133686de84a492db59fa80edf763f65",
        "IPY_MODEL_8ea5c5cd38fc4d359d5f1801898f6f4b",
        "IPY_MODEL_619fd8617f1c41d58181ea370fb31491"
       ],
       "layout": "IPY_MODEL_ccdcb698866d4d189557165868171d24"
      }
     },
     "5efe3996717a49108594891f60c29f18": {
      "model_module": "@jupyter-widgets/controls",
      "model_module_version": "2.0.0",
      "model_name": "ProgressStyleModel",
      "state": {
       "description_width": ""
      }
     },
     "5fdc5bf8ec8a44c78a84546947f10cdf": {
      "model_module": "@jupyter-widgets/controls",
      "model_module_version": "2.0.0",
      "model_name": "HTMLStyleModel",
      "state": {
       "description_width": "",
       "font_size": null,
       "text_color": null
      }
     },
     "604dacdf5b644536800a0fb62ea42df4": {
      "model_module": "@jupyter-widgets/controls",
      "model_module_version": "2.0.0",
      "model_name": "FloatProgressModel",
      "state": {
       "bar_style": "success",
       "layout": "IPY_MODEL_b08b8efc7cb7407f8071c5936a16c353",
       "max": 7600,
       "style": "IPY_MODEL_fca40bc2e1fb4790a248344692ddffb7",
       "value": 7600
      }
     },
     "614881071e65412f84e35193b4f03d12": {
      "model_module": "@jupyter-widgets/controls",
      "model_module_version": "2.0.0",
      "model_name": "HTMLModel",
      "state": {
       "layout": "IPY_MODEL_5b00f85e97804c5585008ed19d27ce61",
       "style": "IPY_MODEL_d48b63ecb0af4f228dda6de1ae4fdbf2",
       "value": "Generating train split: 100%"
      }
     },
     "619c053590fe490b80499bd734247add": {
      "model_module": "@jupyter-widgets/base",
      "model_module_version": "2.0.0",
      "model_name": "LayoutModel",
      "state": {}
     },
     "619fd8617f1c41d58181ea370fb31491": {
      "model_module": "@jupyter-widgets/controls",
      "model_module_version": "2.0.0",
      "model_name": "HTMLModel",
      "state": {
       "layout": "IPY_MODEL_bfe230f9bbf74bb895c32f37f00d8ea8",
       "style": "IPY_MODEL_bf351e0205a2417488a947ef72eab22b",
       "value": " 1.11M/1.11M [00:05&lt;00:00, 194kB/s]"
      }
     },
     "61cd396a85a44e5faf263ef9951d13a1": {
      "model_module": "@jupyter-widgets/controls",
      "model_module_version": "2.0.0",
      "model_name": "FloatProgressModel",
      "state": {
       "bar_style": "success",
       "layout": "IPY_MODEL_6b70e585214b4f409bbecafb9129fee2",
       "max": 120000,
       "style": "IPY_MODEL_ae5d78cb735e4f1bb7a0d177ecacbae4",
       "value": 120000
      }
     },
     "6338f21017c641efb3879781b038eb02": {
      "model_module": "@jupyter-widgets/base",
      "model_module_version": "2.0.0",
      "model_name": "LayoutModel",
      "state": {}
     },
     "63c97ab3a830458caf36fff5b5159bd1": {
      "model_module": "@jupyter-widgets/controls",
      "model_module_version": "2.0.0",
      "model_name": "ProgressStyleModel",
      "state": {
       "description_width": ""
      }
     },
     "643a6de02d074d039f9423441928f6ae": {
      "model_module": "@jupyter-widgets/controls",
      "model_module_version": "2.0.0",
      "model_name": "HTMLModel",
      "state": {
       "layout": "IPY_MODEL_ef85752fb16e4f1fab6b793b69ed5962",
       "style": "IPY_MODEL_0fdafa0f46e24fc5b3bdf4b00d352633",
       "value": " 50000/50000 [00:00&lt;00:00, 119451.81 examples/s]"
      }
     },
     "6547f48b8941476585bdb9ffbe95b2ac": {
      "model_module": "@jupyter-widgets/controls",
      "model_module_version": "2.0.0",
      "model_name": "FloatProgressModel",
      "state": {
       "bar_style": "success",
       "layout": "IPY_MODEL_dc2de8c7d5a94a5b98e4017ab863db66",
       "max": 20979968,
       "style": "IPY_MODEL_1df2a348094b481c96e3fe9c3207adfd",
       "value": 20979968
      }
     },
     "662bd7b850cc4d46ba82c86d6d35a150": {
      "model_module": "@jupyter-widgets/base",
      "model_module_version": "2.0.0",
      "model_name": "LayoutModel",
      "state": {}
     },
     "66991c361eb34105bef2b56fa3816019": {
      "model_module": "@jupyter-widgets/controls",
      "model_module_version": "2.0.0",
      "model_name": "HTMLModel",
      "state": {
       "layout": "IPY_MODEL_fe471ea4f5f84a68bca41bf7d299d973",
       "style": "IPY_MODEL_49cce2beb5f34425a0cd8a3805428163",
       "value": "Generating test split: 100%"
      }
     },
     "66dcc2f8a8714e3cb35bf500bdba996b": {
      "model_module": "@jupyter-widgets/controls",
      "model_module_version": "2.0.0",
      "model_name": "HTMLStyleModel",
      "state": {
       "description_width": "",
       "font_size": null,
       "text_color": null
      }
     },
     "6b70e585214b4f409bbecafb9129fee2": {
      "model_module": "@jupyter-widgets/base",
      "model_module_version": "2.0.0",
      "model_name": "LayoutModel",
      "state": {}
     },
     "6b8949add78d49dd98fdf8ae4b53d219": {
      "model_module": "@jupyter-widgets/controls",
      "model_module_version": "2.0.0",
      "model_name": "HTMLModel",
      "state": {
       "layout": "IPY_MODEL_963906982b6f4bbf8a2c12e0eca3f736",
       "style": "IPY_MODEL_300a681937ae4337beaf1620dc6c770e",
       "value": "Downloading data: 100%"
      }
     },
     "6c994256595a40beb5ef420969670fa9": {
      "model_module": "@jupyter-widgets/controls",
      "model_module_version": "2.0.0",
      "model_name": "FloatProgressModel",
      "state": {
       "bar_style": "success",
       "layout": "IPY_MODEL_7673c6aa97a640e7a81da20417814161",
       "max": 2,
       "style": "IPY_MODEL_e9f0426df52f4068a0eece0d41be1f88",
       "value": 2
      }
     },
     "6cfbc1ec5fc94b1094bfb9350160dc8e": {
      "model_module": "@jupyter-widgets/controls",
      "model_module_version": "2.0.0",
      "model_name": "HTMLModel",
      "state": {
       "layout": "IPY_MODEL_7a8c507370eb4e8aa51bd8f53deafc11",
       "style": "IPY_MODEL_e1cf1d855d564f4fadf9bbc3657457be",
       "value": " 7600/7600 [00:00&lt;00:00, 771945.33 examples/s]"
      }
     },
     "6d849f39355f44eaa43afe5b3896e977": {
      "model_module": "@jupyter-widgets/controls",
      "model_module_version": "2.0.0",
      "model_name": "HTMLStyleModel",
      "state": {
       "description_width": "",
       "font_size": null,
       "text_color": null
      }
     },
     "6e7d06f32f6941c7b0ddb28d24dcba3b": {
      "model_module": "@jupyter-widgets/controls",
      "model_module_version": "2.0.0",
      "model_name": "HTMLStyleModel",
      "state": {
       "description_width": "",
       "font_size": null,
       "text_color": null
      }
     },
     "6f291c97f10e4e4aa5da8b1816e6633b": {
      "model_module": "@jupyter-widgets/controls",
      "model_module_version": "2.0.0",
      "model_name": "HTMLStyleModel",
      "state": {
       "description_width": "",
       "font_size": null,
       "text_color": null
      }
     },
     "716553b42a6f439389a4ba9302c86c5d": {
      "model_module": "@jupyter-widgets/controls",
      "model_module_version": "2.0.0",
      "model_name": "FloatProgressModel",
      "state": {
       "bar_style": "success",
       "layout": "IPY_MODEL_8964785e4a2844e89241706785c491d2",
       "max": 17197,
       "style": "IPY_MODEL_3fd10dfa0da54afe815da9ec117dabfe",
       "value": 17197
      }
     },
     "73772a2a5edb44f3a656dc4988134b29": {
      "model_module": "@jupyter-widgets/controls",
      "model_module_version": "2.0.0",
      "model_name": "HTMLModel",
      "state": {
       "layout": "IPY_MODEL_7fb92841a5b84d47b36a1ea77e83a7d1",
       "style": "IPY_MODEL_fee080d4fadc48ca9610410bb6ba4b1b",
       "value": "Generating train split: 100%"
      }
     },
     "7581bd573c384048b0eaaee6ae96a2c5": {
      "model_module": "@jupyter-widgets/controls",
      "model_module_version": "2.0.0",
      "model_name": "HBoxModel",
      "state": {
       "children": [
        "IPY_MODEL_411492cc27ec47ffb91330abcd3d45bd",
        "IPY_MODEL_4bf8ffe3b1db4cb096368c611169cb49",
        "IPY_MODEL_643a6de02d074d039f9423441928f6ae"
       ],
       "layout": "IPY_MODEL_8c35afa362084f86badb3fe87ae2a935"
      }
     },
     "7673c6aa97a640e7a81da20417814161": {
      "model_module": "@jupyter-widgets/base",
      "model_module_version": "2.0.0",
      "model_name": "LayoutModel",
      "state": {}
     },
     "79773b8d040340dfb51a200d67915207": {
      "model_module": "@jupyter-widgets/controls",
      "model_module_version": "2.0.0",
      "model_name": "HBoxModel",
      "state": {
       "children": [
        "IPY_MODEL_24a3ae59c8d945d0b2761ac0446fcff6",
        "IPY_MODEL_dfbb740f6a434dd39d23df976d1eb0d5",
        "IPY_MODEL_dd0e7f3fdbb34b968766065bd9c3cf4d"
       ],
       "layout": "IPY_MODEL_5e139b31fc5a4d78bce0ac01ba91775b"
      }
     },
     "7a8c507370eb4e8aa51bd8f53deafc11": {
      "model_module": "@jupyter-widgets/base",
      "model_module_version": "2.0.0",
      "model_name": "LayoutModel",
      "state": {}
     },
     "7c5add62d8ee489d96cf61aa39653c34": {
      "model_module": "@jupyter-widgets/base",
      "model_module_version": "2.0.0",
      "model_name": "LayoutModel",
      "state": {}
     },
     "7e72b98b35a643e8a3ea2599394628bc": {
      "model_module": "@jupyter-widgets/controls",
      "model_module_version": "2.0.0",
      "model_name": "HTMLModel",
      "state": {
       "layout": "IPY_MODEL_ce728abef27944e5bb4b517cfc4da4a6",
       "style": "IPY_MODEL_b329070395be4616a86dabe629d5e275",
       "value": "Computing checksums: 100%"
      }
     },
     "7ed7653e3b074074962ac307c1089adc": {
      "model_module": "@jupyter-widgets/base",
      "model_module_version": "2.0.0",
      "model_name": "LayoutModel",
      "state": {}
     },
     "7fb92841a5b84d47b36a1ea77e83a7d1": {
      "model_module": "@jupyter-widgets/base",
      "model_module_version": "2.0.0",
      "model_name": "LayoutModel",
      "state": {}
     },
     "81f9025498c742d3ae45fe60dd6d22ec": {
      "model_module": "@jupyter-widgets/base",
      "model_module_version": "2.0.0",
      "model_name": "LayoutModel",
      "state": {}
     },
     "8243a57bb3784d408e59ac3a6a5bf481": {
      "model_module": "@jupyter-widgets/base",
      "model_module_version": "2.0.0",
      "model_name": "LayoutModel",
      "state": {}
     },
     "827779f5dc4d4e729588e4655259aa40": {
      "model_module": "@jupyter-widgets/controls",
      "model_module_version": "2.0.0",
      "model_name": "HBoxModel",
      "state": {
       "children": [
        "IPY_MODEL_8cd9f3a5e7334c7ab0b2f6a541da4672",
        "IPY_MODEL_6c994256595a40beb5ef420969670fa9",
        "IPY_MODEL_4791a84cff9745cdb7c9105416ae2eb4"
       ],
       "layout": "IPY_MODEL_e1f844603fed425d91e5e61c359b2a88"
      }
     },
     "8403f50fc5494d359438c3c75bd55234": {
      "model_module": "@jupyter-widgets/controls",
      "model_module_version": "2.0.0",
      "model_name": "HTMLStyleModel",
      "state": {
       "description_width": "",
       "font_size": null,
       "text_color": null
      }
     },
     "872f631c3b3a4ad1abc815b09c994aec": {
      "model_module": "@jupyter-widgets/base",
      "model_module_version": "2.0.0",
      "model_name": "LayoutModel",
      "state": {}
     },
     "8964785e4a2844e89241706785c491d2": {
      "model_module": "@jupyter-widgets/base",
      "model_module_version": "2.0.0",
      "model_name": "LayoutModel",
      "state": {}
     },
     "8c35afa362084f86badb3fe87ae2a935": {
      "model_module": "@jupyter-widgets/base",
      "model_module_version": "2.0.0",
      "model_name": "LayoutModel",
      "state": {}
     },
     "8cd9f3a5e7334c7ab0b2f6a541da4672": {
      "model_module": "@jupyter-widgets/controls",
      "model_module_version": "2.0.0",
      "model_name": "HTMLModel",
      "state": {
       "layout": "IPY_MODEL_9323af89c652405185c71242c52bafa2",
       "style": "IPY_MODEL_8403f50fc5494d359438c3c75bd55234",
       "value": "Computing checksums: 100%"
      }
     },
     "8d9440cc21f545cbafe95a79f957adf6": {
      "model_module": "@jupyter-widgets/controls",
      "model_module_version": "2.0.0",
      "model_name": "HBoxModel",
      "state": {
       "children": [
        "IPY_MODEL_98c9cf54c98f42ccb23db41b1a9294f5",
        "IPY_MODEL_2d303efe1efc423eb6ca10613feae4bc",
        "IPY_MODEL_cd64add467034b019108014a69df6b37"
       ],
       "layout": "IPY_MODEL_c5147b9a77be435ea774ac9b4ec2ea18"
      }
     },
     "8ea5c5cd38fc4d359d5f1801898f6f4b": {
      "model_module": "@jupyter-widgets/controls",
      "model_module_version": "2.0.0",
      "model_name": "FloatProgressModel",
      "state": {
       "bar_style": "success",
       "layout": "IPY_MODEL_3e333ae4b8dc44319990d4ed84844c48",
       "max": 1112032,
       "style": "IPY_MODEL_5efe3996717a49108594891f60c29f18",
       "value": 1112032
      }
     },
     "8ed71f84e49e47829f416757daac302e": {
      "model_module": "@jupyter-widgets/controls",
      "model_module_version": "2.0.0",
      "model_name": "HTMLStyleModel",
      "state": {
       "description_width": "",
       "font_size": null,
       "text_color": null
      }
     },
     "9323af89c652405185c71242c52bafa2": {
      "model_module": "@jupyter-widgets/base",
      "model_module_version": "2.0.0",
      "model_name": "LayoutModel",
      "state": {}
     },
     "94c66bac091e436ba77b367348a7a0e8": {
      "model_module": "@jupyter-widgets/controls",
      "model_module_version": "2.0.0",
      "model_name": "HBoxModel",
      "state": {
       "children": [
        "IPY_MODEL_66991c361eb34105bef2b56fa3816019",
        "IPY_MODEL_604dacdf5b644536800a0fb62ea42df4",
        "IPY_MODEL_6cfbc1ec5fc94b1094bfb9350160dc8e"
       ],
       "layout": "IPY_MODEL_2da87135f71c4200872762a015fbbb01"
      }
     },
     "963906982b6f4bbf8a2c12e0eca3f736": {
      "model_module": "@jupyter-widgets/base",
      "model_module_version": "2.0.0",
      "model_name": "LayoutModel",
      "state": {}
     },
     "98c9cf54c98f42ccb23db41b1a9294f5": {
      "model_module": "@jupyter-widgets/controls",
      "model_module_version": "2.0.0",
      "model_name": "HTMLModel",
      "state": {
       "layout": "IPY_MODEL_27364cc781cf4544b044b2bcb751ade7",
       "style": "IPY_MODEL_e3b4d185bd694114bcce308ba6cb80f5",
       "value": "Generating train split: 100%"
      }
     },
     "990693b475304dab91d0079af4a8692a": {
      "model_module": "@jupyter-widgets/controls",
      "model_module_version": "2.0.0",
      "model_name": "HBoxModel",
      "state": {
       "children": [
        "IPY_MODEL_6b8949add78d49dd98fdf8ae4b53d219",
        "IPY_MODEL_6547f48b8941476585bdb9ffbe95b2ac",
        "IPY_MODEL_f761b011c746479fb18e98648b6e7ca8"
       ],
       "layout": "IPY_MODEL_4d255bd0f96d42baa1de4a85795a3acc"
      }
     },
     "9ac01d086ebd4e9da4822f28482ea436": {
      "model_module": "@jupyter-widgets/controls",
      "model_module_version": "2.0.0",
      "model_name": "HTMLModel",
      "state": {
       "layout": "IPY_MODEL_c47b8e8444824056886ebcaa9f2c4673",
       "style": "IPY_MODEL_3357d485f55b4889b26c59b2f60e69c0",
       "value": " 17197/17197 [00:00&lt;00:00, 698225.10 examples/s]"
      }
     },
     "9b0ab0dca9cd4733a3aa85f8fec875ab": {
      "model_module": "@jupyter-widgets/base",
      "model_module_version": "2.0.0",
      "model_name": "LayoutModel",
      "state": {}
     },
     "9b3e8b99de56471c85bd8bcb992a6327": {
      "model_module": "@jupyter-widgets/controls",
      "model_module_version": "2.0.0",
      "model_name": "HTMLModel",
      "state": {
       "layout": "IPY_MODEL_169cc6daee2845028488a2b52a3f4c2d",
       "style": "IPY_MODEL_38ec244b99b7428abc1cd6fb495039d2",
       "value": "Downloading data: 100%"
      }
     },
     "9d23ca2b35884f57becd16f1df69a9a7": {
      "model_module": "@jupyter-widgets/base",
      "model_module_version": "2.0.0",
      "model_name": "LayoutModel",
      "state": {}
     },
     "9fd0f225c7fc497fa062b6f1da397bda": {
      "model_module": "@jupyter-widgets/controls",
      "model_module_version": "2.0.0",
      "model_name": "HTMLStyleModel",
      "state": {
       "description_width": "",
       "font_size": null,
       "text_color": null
      }
     },
     "a1f503c9a9104b98b6418b4af860a347": {
      "model_module": "@jupyter-widgets/controls",
      "model_module_version": "2.0.0",
      "model_name": "HTMLStyleModel",
      "state": {
       "description_width": "",
       "font_size": null,
       "text_color": null
      }
     },
     "a1fbea5be7794373a6c705bb5220d876": {
      "model_module": "@jupyter-widgets/controls",
      "model_module_version": "2.0.0",
      "model_name": "HTMLStyleModel",
      "state": {
       "description_width": "",
       "font_size": null,
       "text_color": null
      }
     },
     "a4254e0d2bc84d7488f50d3390a043d9": {
      "model_module": "@jupyter-widgets/base",
      "model_module_version": "2.0.0",
      "model_name": "LayoutModel",
      "state": {}
     },
     "a49cdd3e66d746fbb1b774e75991358e": {
      "model_module": "@jupyter-widgets/controls",
      "model_module_version": "2.0.0",
      "model_name": "FloatProgressModel",
      "state": {
       "bar_style": "success",
       "layout": "IPY_MODEL_5378377039a245e4aea2242d9285cf46",
       "max": 31962,
       "style": "IPY_MODEL_d57b1890698b4024bd4de7c34d08783c",
       "value": 31962
      }
     },
     "a6f3741766974631bb5432cd1f2feb65": {
      "model_module": "@jupyter-widgets/base",
      "model_module_version": "2.0.0",
      "model_name": "LayoutModel",
      "state": {}
     },
     "a7335acab85847bfb44d61011a55e21a": {
      "model_module": "@jupyter-widgets/base",
      "model_module_version": "2.0.0",
      "model_name": "LayoutModel",
      "state": {}
     },
     "a8a9a32da19047108e292328bd5f56e4": {
      "model_module": "@jupyter-widgets/controls",
      "model_module_version": "2.0.0",
      "model_name": "HTMLStyleModel",
      "state": {
       "description_width": "",
       "font_size": null,
       "text_color": null
      }
     },
     "a8d02d3b19a647839f97d65a0a1cb26d": {
      "model_module": "@jupyter-widgets/base",
      "model_module_version": "2.0.0",
      "model_name": "LayoutModel",
      "state": {}
     },
     "a8face3633e14e278955813af9ba039b": {
      "model_module": "@jupyter-widgets/controls",
      "model_module_version": "2.0.0",
      "model_name": "ProgressStyleModel",
      "state": {
       "description_width": ""
      }
     },
     "a905daea3c9a49f996ecc899f4264164": {
      "model_module": "@jupyter-widgets/controls",
      "model_module_version": "2.0.0",
      "model_name": "HTMLStyleModel",
      "state": {
       "description_width": "",
       "font_size": null,
       "text_color": null
      }
     },
     "ab00ab956db845048cdf3dc58e601fbe": {
      "model_module": "@jupyter-widgets/controls",
      "model_module_version": "2.0.0",
      "model_name": "HBoxModel",
      "state": {
       "children": [
        "IPY_MODEL_f896216302074d44b53d287a360d0176",
        "IPY_MODEL_1a43cbb4b52f49af894d7c4964a17f06",
        "IPY_MODEL_41bb02a47a8e4fd0b00ff9c768aed5f5"
       ],
       "layout": "IPY_MODEL_352a63dc3eb646a18d44f3001e48d4c7"
      }
     },
     "ab8cafa2fa37431fa81de023fd10b69d": {
      "model_module": "@jupyter-widgets/controls",
      "model_module_version": "2.0.0",
      "model_name": "HTMLModel",
      "state": {
       "layout": "IPY_MODEL_35ef368039aa4c1ab5af3d76d8dc8f38",
       "style": "IPY_MODEL_c986770b43ee4e93a0fde252667cf210",
       "value": "Downloading readme: 100%"
      }
     },
     "ae5d78cb735e4f1bb7a0d177ecacbae4": {
      "model_module": "@jupyter-widgets/controls",
      "model_module_version": "2.0.0",
      "model_name": "ProgressStyleModel",
      "state": {
       "description_width": ""
      }
     },
     "b00db4ce59cd405080457990f99bfe3e": {
      "model_module": "@jupyter-widgets/base",
      "model_module_version": "2.0.0",
      "model_name": "LayoutModel",
      "state": {}
     },
     "b08b8efc7cb7407f8071c5936a16c353": {
      "model_module": "@jupyter-widgets/base",
      "model_module_version": "2.0.0",
      "model_name": "LayoutModel",
      "state": {}
     },
     "b329070395be4616a86dabe629d5e275": {
      "model_module": "@jupyter-widgets/controls",
      "model_module_version": "2.0.0",
      "model_name": "HTMLStyleModel",
      "state": {
       "description_width": "",
       "font_size": null,
       "text_color": null
      }
     },
     "b4454411801845398136501e7fa6cdc8": {
      "model_module": "@jupyter-widgets/controls",
      "model_module_version": "2.0.0",
      "model_name": "HTMLModel",
      "state": {
       "layout": "IPY_MODEL_9d23ca2b35884f57becd16f1df69a9a7",
       "style": "IPY_MODEL_66dcc2f8a8714e3cb35bf500bdba996b",
       "value": " 8.07k/8.07k [00:00&lt;00:00, 11.2kB/s]"
      }
     },
     "b537522dff464e6a86c159efd34e03ab": {
      "model_module": "@jupyter-widgets/controls",
      "model_module_version": "2.0.0",
      "model_name": "HTMLStyleModel",
      "state": {
       "description_width": "",
       "font_size": null,
       "text_color": null
      }
     },
     "b5466786e39c43c3913a853a1c2c4cd9": {
      "model_module": "@jupyter-widgets/controls",
      "model_module_version": "2.0.0",
      "model_name": "HTMLStyleModel",
      "state": {
       "description_width": "",
       "font_size": null,
       "text_color": null
      }
     },
     "b5f4a840f6f442a780af31b0c053ead6": {
      "model_module": "@jupyter-widgets/controls",
      "model_module_version": "2.0.0",
      "model_name": "HTMLStyleModel",
      "state": {
       "description_width": "",
       "font_size": null,
       "text_color": null
      }
     },
     "b687d64d83354bfe909e1cf4099f6740": {
      "model_module": "@jupyter-widgets/controls",
      "model_module_version": "2.0.0",
      "model_name": "HTMLModel",
      "state": {
       "layout": "IPY_MODEL_ee5b0dc5a30a4c80a3ba5f0347905dfa",
       "style": "IPY_MODEL_53925586dd584436bd0aa513def54a05",
       "value": " 5.58k/5.58k [00:00&lt;00:00, 7.87kB/s]"
      }
     },
     "b8ba081bd0b64f5d836acc6f48a0f56e": {
      "model_module": "@jupyter-widgets/controls",
      "model_module_version": "2.0.0",
      "model_name": "FloatProgressModel",
      "state": {
       "bar_style": "success",
       "layout": "IPY_MODEL_ecbb347a8623462597ca4ed40021471d",
       "max": 3,
       "style": "IPY_MODEL_5781ef90b7a04f10a9d30ea1de73c56c",
       "value": 3
      }
     },
     "bbadded383444a50a54f9feec8db3231": {
      "model_module": "@jupyter-widgets/controls",
      "model_module_version": "2.0.0",
      "model_name": "HTMLStyleModel",
      "state": {
       "description_width": "",
       "font_size": null,
       "text_color": null
      }
     },
     "bc2cf4987c3a43308ba3ab9bc677f104": {
      "model_module": "@jupyter-widgets/controls",
      "model_module_version": "2.0.0",
      "model_name": "HBoxModel",
      "state": {
       "children": [
        "IPY_MODEL_fbc2b2fd2bd14d29956b9af00f3f9c3d",
        "IPY_MODEL_044bb042aeea49a7950e2f8672f5b4ca",
        "IPY_MODEL_b4454411801845398136501e7fa6cdc8"
       ],
       "layout": "IPY_MODEL_c7f40aa849ad4148a862c504ab54930a"
      }
     },
     "bf351e0205a2417488a947ef72eab22b": {
      "model_module": "@jupyter-widgets/controls",
      "model_module_version": "2.0.0",
      "model_name": "HTMLStyleModel",
      "state": {
       "description_width": "",
       "font_size": null,
       "text_color": null
      }
     },
     "bfe230f9bbf74bb895c32f37f00d8ea8": {
      "model_module": "@jupyter-widgets/base",
      "model_module_version": "2.0.0",
      "model_name": "LayoutModel",
      "state": {}
     },
     "c047450f91de41c795aae37183078d83": {
      "model_module": "@jupyter-widgets/controls",
      "model_module_version": "2.0.0",
      "model_name": "HTMLModel",
      "state": {
       "layout": "IPY_MODEL_fe3d887680a04f368de943561ef0b5b5",
       "style": "IPY_MODEL_ccc634adfca5460199598245d1c8a37a",
       "value": " 31962/31962 [00:00&lt;00:00, 838220.90 examples/s]"
      }
     },
     "c0e9d398ca3444bb90683eaef02415b6": {
      "model_module": "@jupyter-widgets/base",
      "model_module_version": "2.0.0",
      "model_name": "LayoutModel",
      "state": {}
     },
     "c14115a1e8f04939b542cf9a74c7cda2": {
      "model_module": "@jupyter-widgets/controls",
      "model_module_version": "2.0.0",
      "model_name": "ProgressStyleModel",
      "state": {
       "description_width": ""
      }
     },
     "c1da38594d3b419ea3b8e3dc5c2b6593": {
      "model_module": "@jupyter-widgets/base",
      "model_module_version": "2.0.0",
      "model_name": "LayoutModel",
      "state": {}
     },
     "c2766dca1f11436c873097da11818877": {
      "model_module": "@jupyter-widgets/controls",
      "model_module_version": "2.0.0",
      "model_name": "HTMLModel",
      "state": {
       "layout": "IPY_MODEL_59f8ad27d3cc4214aeacd733fae1d43d",
       "style": "IPY_MODEL_6f291c97f10e4e4aa5da8b1816e6633b",
       "value": "Generating test split: 100%"
      }
     },
     "c456b018d318436db79f50fc1f4be43c": {
      "model_module": "@jupyter-widgets/controls",
      "model_module_version": "2.0.0",
      "model_name": "ProgressStyleModel",
      "state": {
       "description_width": ""
      }
     },
     "c47b8e8444824056886ebcaa9f2c4673": {
      "model_module": "@jupyter-widgets/base",
      "model_module_version": "2.0.0",
      "model_name": "LayoutModel",
      "state": {}
     },
     "c47e5f6f61494897abc4d7ff19351b53": {
      "model_module": "@jupyter-widgets/controls",
      "model_module_version": "2.0.0",
      "model_name": "ProgressStyleModel",
      "state": {
       "description_width": ""
      }
     },
     "c48970543bfd438b963d2565d34502f6": {
      "model_module": "@jupyter-widgets/base",
      "model_module_version": "2.0.0",
      "model_name": "LayoutModel",
      "state": {}
     },
     "c4b7a4866ebe44d88e58a88945af93d0": {
      "model_module": "@jupyter-widgets/controls",
      "model_module_version": "2.0.0",
      "model_name": "HTMLModel",
      "state": {
       "layout": "IPY_MODEL_4b1884e1a48647449b10009a5fc582ac",
       "style": "IPY_MODEL_a1f503c9a9104b98b6418b4af860a347",
       "value": "Downloading data: 100%"
      }
     },
     "c5147b9a77be435ea774ac9b4ec2ea18": {
      "model_module": "@jupyter-widgets/base",
      "model_module_version": "2.0.0",
      "model_name": "LayoutModel",
      "state": {}
     },
     "c7f40aa849ad4148a862c504ab54930a": {
      "model_module": "@jupyter-widgets/base",
      "model_module_version": "2.0.0",
      "model_name": "LayoutModel",
      "state": {}
     },
     "c986770b43ee4e93a0fde252667cf210": {
      "model_module": "@jupyter-widgets/controls",
      "model_module_version": "2.0.0",
      "model_name": "HTMLStyleModel",
      "state": {
       "description_width": "",
       "font_size": null,
       "text_color": null
      }
     },
     "ca3e2cec76ed49aeabc9b9a4b31196d0": {
      "model_module": "@jupyter-widgets/controls",
      "model_module_version": "2.0.0",
      "model_name": "HTMLModel",
      "state": {
       "layout": "IPY_MODEL_2ab2729318ab45b89f59c27539e0966f",
       "style": "IPY_MODEL_a905daea3c9a49f996ecc899f4264164",
       "value": "Computing checksums: 100%"
      }
     },
     "cb7087b227674b1db17b72f8cac8de77": {
      "model_module": "@jupyter-widgets/controls",
      "model_module_version": "2.0.0",
      "model_name": "HTMLModel",
      "state": {
       "layout": "IPY_MODEL_1c87a8eae02345609ca2bb33c00c6856",
       "style": "IPY_MODEL_e470f3735b9748fcb6b791827c64098a",
       "value": " 18.6M/18.6M [00:04&lt;00:00, 4.67MB/s]"
      }
     },
     "cc244b2c31354c349192d74433fad5c1": {
      "model_module": "@jupyter-widgets/controls",
      "model_module_version": "2.0.0",
      "model_name": "FloatProgressModel",
      "state": {
       "bar_style": "success",
       "layout": "IPY_MODEL_7c5add62d8ee489d96cf61aa39653c34",
       "max": 25000,
       "style": "IPY_MODEL_54cad8bed8054fe8b0563cfa31b30480",
       "value": 25000
      }
     },
     "ccc634adfca5460199598245d1c8a37a": {
      "model_module": "@jupyter-widgets/controls",
      "model_module_version": "2.0.0",
      "model_name": "HTMLStyleModel",
      "state": {
       "description_width": "",
       "font_size": null,
       "text_color": null
      }
     },
     "ccdcb698866d4d189557165868171d24": {
      "model_module": "@jupyter-widgets/base",
      "model_module_version": "2.0.0",
      "model_name": "LayoutModel",
      "state": {}
     },
     "cd64add467034b019108014a69df6b37": {
      "model_module": "@jupyter-widgets/controls",
      "model_module_version": "2.0.0",
      "model_name": "HTMLModel",
      "state": {
       "layout": "IPY_MODEL_20ae1bf40fe94f6da6f97cbdaaf68230",
       "style": "IPY_MODEL_bbadded383444a50a54f9feec8db3231",
       "value": " 25000/25000 [00:00&lt;00:00, 95318.79 examples/s]"
      }
     },
     "ce728abef27944e5bb4b517cfc4da4a6": {
      "model_module": "@jupyter-widgets/base",
      "model_module_version": "2.0.0",
      "model_name": "LayoutModel",
      "state": {}
     },
     "d1a0e08cc86e4b6083e8d66634ec536d": {
      "model_module": "@jupyter-widgets/controls",
      "model_module_version": "2.0.0",
      "model_name": "HTMLModel",
      "state": {
       "layout": "IPY_MODEL_5354ebffa4294896a5f02cb7b542aa4b",
       "style": "IPY_MODEL_a8a9a32da19047108e292328bd5f56e4",
       "value": " 7.81k/7.81k [00:00&lt;00:00, 11.3kB/s]"
      }
     },
     "d48b63ecb0af4f228dda6de1ae4fdbf2": {
      "model_module": "@jupyter-widgets/controls",
      "model_module_version": "2.0.0",
      "model_name": "HTMLStyleModel",
      "state": {
       "description_width": "",
       "font_size": null,
       "text_color": null
      }
     },
     "d4b3b2f3b14846cd87a76c99b5712fb6": {
      "model_module": "@jupyter-widgets/base",
      "model_module_version": "2.0.0",
      "model_name": "LayoutModel",
      "state": {}
     },
     "d57b1890698b4024bd4de7c34d08783c": {
      "model_module": "@jupyter-widgets/controls",
      "model_module_version": "2.0.0",
      "model_name": "ProgressStyleModel",
      "state": {
       "description_width": ""
      }
     },
     "d693fb725287455fbcbbccd3af255030": {
      "model_module": "@jupyter-widgets/controls",
      "model_module_version": "2.0.0",
      "model_name": "FloatProgressModel",
      "state": {
       "bar_style": "success",
       "layout": "IPY_MODEL_dc6880ac2c364347961860ebb5b5658a",
       "max": 1234829,
       "style": "IPY_MODEL_efb71a0e16354e40a846c3c022799669",
       "value": 1234829
      }
     },
     "da7d8337120a498da707e153a91e1883": {
      "model_module": "@jupyter-widgets/base",
      "model_module_version": "2.0.0",
      "model_name": "LayoutModel",
      "state": {}
     },
     "dc2de8c7d5a94a5b98e4017ab863db66": {
      "model_module": "@jupyter-widgets/base",
      "model_module_version": "2.0.0",
      "model_name": "LayoutModel",
      "state": {}
     },
     "dc6880ac2c364347961860ebb5b5658a": {
      "model_module": "@jupyter-widgets/base",
      "model_module_version": "2.0.0",
      "model_name": "LayoutModel",
      "state": {}
     },
     "dcb05e6e74c04f968e9cac1e70dcdd1a": {
      "model_module": "@jupyter-widgets/controls",
      "model_module_version": "2.0.0",
      "model_name": "HTMLModel",
      "state": {
       "layout": "IPY_MODEL_1bb4e783dbde4dbd81f3cad8bab7e234",
       "style": "IPY_MODEL_a1fbea5be7794373a6c705bb5220d876",
       "value": " 3/3 [00:00&lt;00:00, 182.62it/s]"
      }
     },
     "dd0e7f3fdbb34b968766065bd9c3cf4d": {
      "model_module": "@jupyter-widgets/controls",
      "model_module_version": "2.0.0",
      "model_name": "HTMLModel",
      "state": {
       "layout": "IPY_MODEL_1aee679dee724edab8a708019a1220c5",
       "style": "IPY_MODEL_8ed71f84e49e47829f416757daac302e",
       "value": " 20.5M/20.5M [00:03&lt;00:00, 6.72MB/s]"
      }
     },
     "ddd41cf43f9e4119a92b9a580683651d": {
      "model_module": "@jupyter-widgets/controls",
      "model_module_version": "2.0.0",
      "model_name": "HTMLStyleModel",
      "state": {
       "description_width": "",
       "font_size": null,
       "text_color": null
      }
     },
     "de2121217f2b42a584aa401f1c63093e": {
      "model_module": "@jupyter-widgets/controls",
      "model_module_version": "2.0.0",
      "model_name": "FloatProgressModel",
      "state": {
       "bar_style": "success",
       "layout": "IPY_MODEL_f344a17661bb48109aa2a26e8628d8ee",
       "max": 7809,
       "style": "IPY_MODEL_f9603e94ed614f5eac50627974576136",
       "value": 7809
      }
     },
     "dfbb740f6a434dd39d23df976d1eb0d5": {
      "model_module": "@jupyter-widgets/controls",
      "model_module_version": "2.0.0",
      "model_name": "FloatProgressModel",
      "state": {
       "bar_style": "success",
       "layout": "IPY_MODEL_ff0cfb26abe642f896f1fc739cd77379",
       "max": 20470363,
       "style": "IPY_MODEL_371f38fb60034696a0a665aa1c221298",
       "value": 20470363
      }
     },
     "e18d87d5ae83405caaccfbbc475cac20": {
      "model_module": "@jupyter-widgets/controls",
      "model_module_version": "2.0.0",
      "model_name": "HTMLModel",
      "state": {
       "layout": "IPY_MODEL_b00db4ce59cd405080457990f99bfe3e",
       "style": "IPY_MODEL_34550e9ef7774ae2aabafc3437e62c6a",
       "value": "Downloading data: 100%"
      }
     },
     "e1cf1d855d564f4fadf9bbc3657457be": {
      "model_module": "@jupyter-widgets/controls",
      "model_module_version": "2.0.0",
      "model_name": "HTMLStyleModel",
      "state": {
       "description_width": "",
       "font_size": null,
       "text_color": null
      }
     },
     "e1f844603fed425d91e5e61c359b2a88": {
      "model_module": "@jupyter-widgets/base",
      "model_module_version": "2.0.0",
      "model_name": "LayoutModel",
      "state": {}
     },
     "e254fcdaa0aa4e00b100482f92fe9a11": {
      "model_module": "@jupyter-widgets/base",
      "model_module_version": "2.0.0",
      "model_name": "LayoutModel",
      "state": {}
     },
     "e3391e6e3eba4d6d9c797762a985384a": {
      "model_module": "@jupyter-widgets/base",
      "model_module_version": "2.0.0",
      "model_name": "LayoutModel",
      "state": {}
     },
     "e3b4d185bd694114bcce308ba6cb80f5": {
      "model_module": "@jupyter-widgets/controls",
      "model_module_version": "2.0.0",
      "model_name": "HTMLStyleModel",
      "state": {
       "description_width": "",
       "font_size": null,
       "text_color": null
      }
     },
     "e3f8da4fddbc483ca7287363d1c4c58c": {
      "model_module": "@jupyter-widgets/controls",
      "model_module_version": "2.0.0",
      "model_name": "HBoxModel",
      "state": {
       "children": [
        "IPY_MODEL_9b3e8b99de56471c85bd8bcb992a6327",
        "IPY_MODEL_4402dcb8bab44c9b9d2358f77af066c4",
        "IPY_MODEL_51fae531127941adba9fc5a77f9e6bc6"
       ],
       "layout": "IPY_MODEL_c1da38594d3b419ea3b8e3dc5c2b6593"
      }
     },
     "e470f3735b9748fcb6b791827c64098a": {
      "model_module": "@jupyter-widgets/controls",
      "model_module_version": "2.0.0",
      "model_name": "HTMLStyleModel",
      "state": {
       "description_width": "",
       "font_size": null,
       "text_color": null
      }
     },
     "e9f0426df52f4068a0eece0d41be1f88": {
      "model_module": "@jupyter-widgets/controls",
      "model_module_version": "2.0.0",
      "model_name": "ProgressStyleModel",
      "state": {
       "description_width": ""
      }
     },
     "ecbb347a8623462597ca4ed40021471d": {
      "model_module": "@jupyter-widgets/base",
      "model_module_version": "2.0.0",
      "model_name": "LayoutModel",
      "state": {}
     },
     "ee5b0dc5a30a4c80a3ba5f0347905dfa": {
      "model_module": "@jupyter-widgets/base",
      "model_module_version": "2.0.0",
      "model_name": "LayoutModel",
      "state": {}
     },
     "ef85752fb16e4f1fab6b793b69ed5962": {
      "model_module": "@jupyter-widgets/base",
      "model_module_version": "2.0.0",
      "model_name": "LayoutModel",
      "state": {}
     },
     "efb71a0e16354e40a846c3c022799669": {
      "model_module": "@jupyter-widgets/controls",
      "model_module_version": "2.0.0",
      "model_name": "ProgressStyleModel",
      "state": {
       "description_width": ""
      }
     },
     "f12788c350aa4a59a2a0dc15f1c26d0f": {
      "model_module": "@jupyter-widgets/controls",
      "model_module_version": "2.0.0",
      "model_name": "HTMLStyleModel",
      "state": {
       "description_width": "",
       "font_size": null,
       "text_color": null
      }
     },
     "f1b5ff1148034f2a9da0310dc3758664": {
      "model_module": "@jupyter-widgets/controls",
      "model_module_version": "2.0.0",
      "model_name": "HTMLModel",
      "state": {
       "layout": "IPY_MODEL_329f379635454db4bd95dcff35acd1e0",
       "style": "IPY_MODEL_b537522dff464e6a86c159efd34e03ab",
       "value": " 120000/120000 [00:00&lt;00:00, 954105.30 examples/s]"
      }
     },
     "f344a17661bb48109aa2a26e8628d8ee": {
      "model_module": "@jupyter-widgets/base",
      "model_module_version": "2.0.0",
      "model_name": "LayoutModel",
      "state": {}
     },
     "f347cc4d66134fd8acc464d2d336e2c1": {
      "model_module": "@jupyter-widgets/base",
      "model_module_version": "2.0.0",
      "model_name": "LayoutModel",
      "state": {}
     },
     "f565de1849304e8fa308bf5aecb1443b": {
      "model_module": "@jupyter-widgets/controls",
      "model_module_version": "2.0.0",
      "model_name": "HBoxModel",
      "state": {
       "children": [
        "IPY_MODEL_ab8cafa2fa37431fa81de023fd10b69d",
        "IPY_MODEL_de2121217f2b42a584aa401f1c63093e",
        "IPY_MODEL_d1a0e08cc86e4b6083e8d66634ec536d"
       ],
       "layout": "IPY_MODEL_e254fcdaa0aa4e00b100482f92fe9a11"
      }
     },
     "f628e18c77d1480fb75f15a5a544c059": {
      "model_module": "@jupyter-widgets/controls",
      "model_module_version": "2.0.0",
      "model_name": "HBoxModel",
      "state": {
       "children": [
        "IPY_MODEL_614881071e65412f84e35193b4f03d12",
        "IPY_MODEL_a49cdd3e66d746fbb1b774e75991358e",
        "IPY_MODEL_c047450f91de41c795aae37183078d83"
       ],
       "layout": "IPY_MODEL_a8d02d3b19a647839f97d65a0a1cb26d"
      }
     },
     "f761b011c746479fb18e98648b6e7ca8": {
      "model_module": "@jupyter-widgets/controls",
      "model_module_version": "2.0.0",
      "model_name": "HTMLModel",
      "state": {
       "layout": "IPY_MODEL_f347cc4d66134fd8acc464d2d336e2c1",
       "style": "IPY_MODEL_6d849f39355f44eaa43afe5b3896e977",
       "value": " 21.0M/21.0M [00:03&lt;00:00, 6.03MB/s]"
      }
     },
     "f896216302074d44b53d287a360d0176": {
      "model_module": "@jupyter-widgets/controls",
      "model_module_version": "2.0.0",
      "model_name": "HTMLModel",
      "state": {
       "layout": "IPY_MODEL_c48970543bfd438b963d2565d34502f6",
       "style": "IPY_MODEL_3d782ff4234d4d5da26d9d4636787423",
       "value": "Downloading data: 100%"
      }
     },
     "f9603e94ed614f5eac50627974576136": {
      "model_module": "@jupyter-widgets/controls",
      "model_module_version": "2.0.0",
      "model_name": "ProgressStyleModel",
      "state": {
       "description_width": ""
      }
     },
     "f9f856e3c1d84997a841aa446e48d1dc": {
      "model_module": "@jupyter-widgets/controls",
      "model_module_version": "2.0.0",
      "model_name": "HBoxModel",
      "state": {
       "children": [
        "IPY_MODEL_c4b7a4866ebe44d88e58a88945af93d0",
        "IPY_MODEL_d693fb725287455fbcbbccd3af255030",
        "IPY_MODEL_0064e2bb7961414a8bed0114366f84dd"
       ],
       "layout": "IPY_MODEL_619c053590fe490b80499bd734247add"
      }
     },
     "fbc2b2fd2bd14d29956b9af00f3f9c3d": {
      "model_module": "@jupyter-widgets/controls",
      "model_module_version": "2.0.0",
      "model_name": "HTMLModel",
      "state": {
       "layout": "IPY_MODEL_da7d8337120a498da707e153a91e1883",
       "style": "IPY_MODEL_0bf5c5c52307454b845cad54a4f8e8cb",
       "value": "Downloading readme: 100%"
      }
     },
     "fca40bc2e1fb4790a248344692ddffb7": {
      "model_module": "@jupyter-widgets/controls",
      "model_module_version": "2.0.0",
      "model_name": "ProgressStyleModel",
      "state": {
       "description_width": ""
      }
     },
     "fe3d887680a04f368de943561ef0b5b5": {
      "model_module": "@jupyter-widgets/base",
      "model_module_version": "2.0.0",
      "model_name": "LayoutModel",
      "state": {}
     },
     "fe471ea4f5f84a68bca41bf7d299d973": {
      "model_module": "@jupyter-widgets/base",
      "model_module_version": "2.0.0",
      "model_name": "LayoutModel",
      "state": {}
     },
     "fee080d4fadc48ca9610410bb6ba4b1b": {
      "model_module": "@jupyter-widgets/controls",
      "model_module_version": "2.0.0",
      "model_name": "HTMLStyleModel",
      "state": {
       "description_width": "",
       "font_size": null,
       "text_color": null
      }
     },
     "ff0cfb26abe642f896f1fc739cd77379": {
      "model_module": "@jupyter-widgets/base",
      "model_module_version": "2.0.0",
      "model_name": "LayoutModel",
      "state": {}
     }
    },
    "version_major": 2,
    "version_minor": 0
   }
  }
 },
 "nbformat": 4,
 "nbformat_minor": 5
}
