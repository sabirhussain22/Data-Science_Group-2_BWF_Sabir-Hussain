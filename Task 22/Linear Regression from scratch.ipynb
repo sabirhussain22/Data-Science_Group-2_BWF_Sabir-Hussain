{
 "cells": [
  {
   "cell_type": "markdown",
   "id": "e54996ee-2cdb-40ad-9f7a-d8169bd8a9c9",
   "metadata": {},
   "source": [
    "# <b><p style=\"background-color: #ff6200; font-family:calibri; color:white; font-size:100%; font-family:Verdana; text-align:center; border-radius:15px 50px;\">Task 22-> Linear Regression from scratch</p>"
   ]
  },
  {
   "cell_type": "markdown",
   "id": "ec71d5a9-a1d0-4339-9c70-4df8c5f13d34",
   "metadata": {},
   "source": [
    "## Linear Regresssion\n",
    "Linear regression is a statistical method used to model the relationship between a dependent variable and one or more independent variables. The goal of linear regression is to find the best-fitting straight line (the regression line) that describes how the dependent variable changes as the independent variables change. Which is simply written as :\n",
    "\\begin{align}\n",
    "        \\mathbf{Y} = \\mathbf{W} \\cdot \\mathbf{X} + \\mathbf{B}\n",
    "\\end{align}\n",
    "Where Y is the dependent variable, W is the scale factor or coefficient, B being the bias coefficient and X being the independent variable. The bias coefficient gives an extra degree of freedom to this model. The goal is to draw the line of best fit between X and Y which estimates the relationship between X and Y.\n",
    "\n",
    "### Assumptions of Linear Regression\n",
    "Linear regression relies on several key assumptions:\n",
    "- Linearity: The relationship between the dependent and independent variables is linear.\n",
    "- Independence: The observations are independent of each other.\n",
    "- Homoscedasticity: The residuals (errors) have constant variance at all levels of X.\n",
    "- Normality: The residuals are normally distributed."
   ]
  },
  {
   "cell_type": "code",
   "execution_count": 12,
   "id": "46e67558-431e-43d0-93f3-ebe8b95d1b92",
   "metadata": {},
   "outputs": [],
   "source": [
    "import pandas as pd\n",
    "import numpy as np"
   ]
  },
  {
   "cell_type": "markdown",
   "id": "2bdb2ef7-e554-4909-ae0d-9522cf92dd15",
   "metadata": {},
   "source": [
    "### <b><span style='color:#ff6200'> Generating sample data</span>"
   ]
  },
  {
   "cell_type": "code",
   "execution_count": 13,
   "id": "ee2962dd-3ffe-4ea1-8c06-1bc3450045f3",
   "metadata": {},
   "outputs": [],
   "source": [
    "num_samples = 100\n",
    "num_features = 2 \n",
    "\n",
    "np.random.seed(42)  \n",
    "X = np.random.rand(num_samples, num_features)\n",
    "\n",
    "true_weights = np.array([3.5, -2.0])\n",
    "true_bias = 4.0\n",
    "\n",
    "noise = np.random.randn(num_samples) * 0.5\n",
    "y = X @ true_weights + true_bias + noise"
   ]
  },
  {
   "cell_type": "code",
   "execution_count": 14,
   "id": "60544740-b754-47c5-a5c1-12bf5a8d2d0f",
   "metadata": {},
   "outputs": [
    {
     "data": {
      "text/plain": [
       "((100, 2), (100,))"
      ]
     },
     "execution_count": 14,
     "metadata": {},
     "output_type": "execute_result"
    }
   ],
   "source": [
    "X.shape, y.shape"
   ]
  },
  {
   "cell_type": "markdown",
   "id": "2b6bb6d8-f0f8-4d22-bd96-7185b1b84325",
   "metadata": {},
   "source": [
    "### <b><span style='color:#ff6200'> Linear Regression Implementation</span>"
   ]
  },
  {
   "cell_type": "code",
   "execution_count": 15,
   "id": "8268e49d-fbbd-424c-948e-8c14bf78e3d7",
   "metadata": {},
   "outputs": [],
   "source": [
    "class LinearRegression:\n",
    "    \n",
    "    def __init__(self, learning_rate=0.01, epochs=10):\n",
    "        self.learning_rate = learning_rate\n",
    "        self.epochs = epochs\n",
    "        self.weights = None\n",
    "        self.bias = None\n",
    "\n",
    "    def fit(self, X, y):\n",
    "        self.weights = np.zeros(X.shape[1])\n",
    "        self.bias = 0\n",
    "        m = X.shape[0]  \n",
    "\n",
    "        for _ in range(self.epochs):\n",
    "            y_pred = self.predict(X)\n",
    "            \n",
    "            dw = (2/m) * np.dot(X.T, (y_pred - y))\n",
    "            db = (2/m) * np.sum(y_pred - y)\n",
    "\n",
    "            self.weights -= self.learning_rate * dw\n",
    "            self.bias -= self.learning_rate * db\n",
    "\n",
    "    def predict(self, X):\n",
    "        return np.dot(X, self.weights) + self.bias"
   ]
  },
  {
   "cell_type": "markdown",
   "id": "69766b79-5156-4857-87db-b010064a9c48",
   "metadata": {},
   "source": [
    "### <b><span style='color:#ff6200'> Applying linear model on data</span>"
   ]
  },
  {
   "cell_type": "code",
   "execution_count": 16,
   "id": "56c14ae0-d4f8-42d7-9add-dceb5ce47de4",
   "metadata": {},
   "outputs": [
    {
     "name": "stdout",
     "output_type": "stream",
     "text": [
      "Bias = 3.595572283462462\n",
      "Weights = [ 3.47331465 -1.06146738]\n"
     ]
    }
   ],
   "source": [
    "model = LinearRegression(learning_rate=0.01, epochs=1000)\n",
    "model.fit(X, y)\n",
    "\n",
    "print(f\"Bias = {model.bias}\")\n",
    "print(f\"Weights = {model.weights}\")"
   ]
  },
  {
   "cell_type": "code",
   "execution_count": 17,
   "id": "902b57d6-0fbe-403a-96b5-4ac1de5a03a6",
   "metadata": {},
   "outputs": [
    {
     "data": {
      "text/plain": [
       "array([3.88731574, 5.50256111, 3.97189102, 2.87789722, 4.93183791,\n",
       "       2.63754103, 6.26151647, 4.0324297 , 4.09528949, 4.78672301,\n",
       "       5.57266172, 4.22140142, 4.34620817, 3.74325907, 5.60390889,\n",
       "       5.52476092, 2.81430588, 6.09142875, 4.54991599, 5.50492136,\n",
       "       3.49383533, 2.74980049, 3.79115079, 4.12620769, 5.29825213,\n",
       "       6.14046657, 5.90891768, 4.69372761, 3.69490517, 3.40733335,\n",
       "       4.65754266, 6.0953564 , 3.99529204, 3.23354053, 2.80696183,\n",
       "       6.06689114, 2.74916662, 5.27689292, 6.1958409 , 4.71764532,\n",
       "       5.93179143, 4.67742013, 4.33054025, 5.45297765, 6.17590056,\n",
       "       3.25387465, 5.6422407 , 5.74923597, 4.95736703, 3.56933768,\n",
       "       3.02920684, 4.14759832, 6.48322065, 4.21896841, 4.30854864,\n",
       "       4.43083911, 5.96691134, 4.87055584, 6.18894025, 6.12321633,\n",
       "       5.44889432, 4.58328188, 3.93390184, 5.52315751, 3.07757762,\n",
       "       4.80961184, 3.65353493, 6.527525  , 4.65126366, 3.82705732,\n",
       "       6.67119588, 5.00330029, 4.54575865, 5.17920363, 3.47860005,\n",
       "       6.49597836, 3.57929962, 6.76211267, 5.12167615, 3.64798434,\n",
       "       4.20182681, 5.22731296, 3.02253071, 4.51175907, 3.10998359,\n",
       "       5.93135907, 5.13381473, 5.65137611, 5.5849095 , 6.70315628,\n",
       "       4.6597546 , 5.87605707, 3.79093318, 5.84471457, 5.17849708,\n",
       "       2.96658223, 6.05099097, 4.40245485, 5.1647915 , 5.8488901 ])"
      ]
     },
     "execution_count": 17,
     "metadata": {},
     "output_type": "execute_result"
    }
   ],
   "source": [
    "predictions = model.predict(X)\n",
    "predictions"
   ]
  },
  {
   "cell_type": "code",
   "execution_count": null,
   "id": "06c3d381-cccc-42bd-a012-2204e03f5971",
   "metadata": {},
   "outputs": [],
   "source": []
  }
 ],
 "metadata": {
  "kernelspec": {
   "display_name": "Python 3 (ipykernel)",
   "language": "python",
   "name": "python3"
  },
  "language_info": {
   "codemirror_mode": {
    "name": "ipython",
    "version": 3
   },
   "file_extension": ".py",
   "mimetype": "text/x-python",
   "name": "python",
   "nbconvert_exporter": "python",
   "pygments_lexer": "ipython3",
   "version": "3.12.1"
  }
 },
 "nbformat": 4,
 "nbformat_minor": 5
}
