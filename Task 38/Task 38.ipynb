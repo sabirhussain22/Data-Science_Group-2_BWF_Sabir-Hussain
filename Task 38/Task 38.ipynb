{
 "cells": [
  {
   "cell_type": "markdown",
   "id": "7b0749bd-1d0c-401f-8519-1e1afd1b4c76",
   "metadata": {},
   "source": [
    "# <b><p style=\"background-color: #ff6200; font-family:calibri; color:white; font-size:100%; font-family:Verdana; text-align:center; border-radius:15px 50px;\">Task 38-> Advanced NLP Techniques (NER, Sentiment Analysis)</p>"
   ]
  },
  {
   "cell_type": "markdown",
   "id": "b885b3b4-dac2-44a8-88b1-9906a979c569",
   "metadata": {},
   "source": [
    "# What is Natural Language Processing (NLP)?\n",
    "Natural Language Processing (NLP) is a subfield of artificial intelligence (AI) that focuses on the interaction between computers and humans through natural language. The ultimate objective of NLP is to enable computers to understand, interpret, and generate human language in a way that is both meaningful and useful. This involves several complex processes, including the understanding of context, semantics, sentiment, and intent within the text or speech."
   ]
  },
  {
   "cell_type": "markdown",
   "id": "51b87b15-a159-4f50-8c06-d499376ba8f7",
   "metadata": {},
   "source": [
    "## <span style='color:#ff6200'> Importing Libraries</span>"
   ]
  },
  {
   "cell_type": "code",
   "execution_count": 1,
   "id": "0ad698f2-dee5-4678-96bf-289d6b00037b",
   "metadata": {
    "id": "0ad698f2-dee5-4678-96bf-289d6b00037b"
   },
   "outputs": [],
   "source": [
    "import pandas as pd\n",
    "import spacy\n",
    "\n",
    "from vaderSentiment.vaderSentiment import SentimentIntensityAnalyzer"
   ]
  },
  {
   "cell_type": "markdown",
   "id": "c000e941-63c6-4a15-bd29-eb8a8166b8e5",
   "metadata": {},
   "source": [
    "## <span style='color:#ff6200'> Sample Data</span>"
   ]
  },
  {
   "cell_type": "code",
   "execution_count": 2,
   "id": "05eadf54-798f-4e9a-b18d-1e05490911bb",
   "metadata": {},
   "outputs": [],
   "source": [
    "data_ner = {\n",
    "    'text': [\n",
    "        'John Doe is planning to visit the Grand Canyon next month.',\n",
    "        'Alice Johnson works at Microsoft in Seattle.',\n",
    "        'Yesterday, I met with Dr. Emily Clark at the hospital.',\n",
    "        'Michael Jordan was a legendary basketball player.',\n",
    "        'Emma Watson starred in the Harry Potter series.',\n",
    "        'Barack Obama was the 44th President of the United States.',\n",
    "        'Elon Musk is the CEO of SpaceX and Tesla.'\n",
    "    ]\n",
    "}\n",
    "\n",
    "df_ner = pd.DataFrame(data_ner)"
   ]
  },
  {
   "cell_type": "code",
   "execution_count": 3,
   "id": "df31ef5d-beba-4df9-93bb-0f15c3ed3056",
   "metadata": {},
   "outputs": [
    {
     "data": {
      "text/html": [
       "<div>\n",
       "<style scoped>\n",
       "    .dataframe tbody tr th:only-of-type {\n",
       "        vertical-align: middle;\n",
       "    }\n",
       "\n",
       "    .dataframe tbody tr th {\n",
       "        vertical-align: top;\n",
       "    }\n",
       "\n",
       "    .dataframe thead th {\n",
       "        text-align: right;\n",
       "    }\n",
       "</style>\n",
       "<table border=\"1\" class=\"dataframe\">\n",
       "  <thead>\n",
       "    <tr style=\"text-align: right;\">\n",
       "      <th></th>\n",
       "      <th>text</th>\n",
       "    </tr>\n",
       "  </thead>\n",
       "  <tbody>\n",
       "    <tr>\n",
       "      <th>0</th>\n",
       "      <td>John Doe is planning to visit the Grand Canyon...</td>\n",
       "    </tr>\n",
       "    <tr>\n",
       "      <th>1</th>\n",
       "      <td>Alice Johnson works at Microsoft in Seattle.</td>\n",
       "    </tr>\n",
       "    <tr>\n",
       "      <th>2</th>\n",
       "      <td>Yesterday, I met with Dr. Emily Clark at the h...</td>\n",
       "    </tr>\n",
       "    <tr>\n",
       "      <th>3</th>\n",
       "      <td>Michael Jordan was a legendary basketball player.</td>\n",
       "    </tr>\n",
       "    <tr>\n",
       "      <th>4</th>\n",
       "      <td>Emma Watson starred in the Harry Potter series.</td>\n",
       "    </tr>\n",
       "  </tbody>\n",
       "</table>\n",
       "</div>"
      ],
      "text/plain": [
       "                                                text\n",
       "0  John Doe is planning to visit the Grand Canyon...\n",
       "1       Alice Johnson works at Microsoft in Seattle.\n",
       "2  Yesterday, I met with Dr. Emily Clark at the h...\n",
       "3  Michael Jordan was a legendary basketball player.\n",
       "4    Emma Watson starred in the Harry Potter series."
      ]
     },
     "execution_count": 3,
     "metadata": {},
     "output_type": "execute_result"
    }
   ],
   "source": [
    "df_ner.head()"
   ]
  },
  {
   "cell_type": "code",
   "execution_count": 4,
   "id": "0f614959-9dc5-4345-aebd-05a789cf1939",
   "metadata": {
    "scrolled": true
   },
   "outputs": [],
   "source": [
    "#!pip install spacy\n",
    "#!python -m spacy download en_core_web_sm\n",
    "\n",
    "#!pip install pandas spacy\n",
    "#!pip install vaderSentiment"
   ]
  },
  {
   "cell_type": "code",
   "execution_count": 5,
   "id": "ee684c54-009b-493e-8afa-8c04756d68cf",
   "metadata": {},
   "outputs": [],
   "source": [
    "nlp = spacy.load(\"en_core_web_sm\")"
   ]
  },
  {
   "cell_type": "markdown",
   "id": "66411ca1-e462-4e90-abed-e15ae303e0a1",
   "metadata": {},
   "source": [
    "### <span style='color:#ff6200'>Named Entity Recognition (NER)</span>"
   ]
  },
  {
   "cell_type": "code",
   "execution_count": 6,
   "id": "5a1df649-ac97-49bc-a78d-bfdca5b661f3",
   "metadata": {},
   "outputs": [],
   "source": [
    "def perform_ner(text):\n",
    "    \"\"\"\n",
    "    Perform Named Entity Recognition (NER) using SpaCy.\n",
    "\n",
    "    Args:\n",
    "    - text (str): Input text for NER.\n",
    "\n",
    "    Returns:\n",
    "    - entities (list): A list of named entities detected in the text.\n",
    "    \"\"\"\n",
    "    doc = nlp(text)\n",
    "    entities = [(entity.text, entity.label_) for entity in doc.ents]\n",
    "    return entities"
   ]
  },
  {
   "cell_type": "code",
   "execution_count": 7,
   "id": "2870a09c-9ff2-4ca5-ae13-77d9e6bbc635",
   "metadata": {},
   "outputs": [
    {
     "data": {
      "text/html": [
       "<div>\n",
       "<style scoped>\n",
       "    .dataframe tbody tr th:only-of-type {\n",
       "        vertical-align: middle;\n",
       "    }\n",
       "\n",
       "    .dataframe tbody tr th {\n",
       "        vertical-align: top;\n",
       "    }\n",
       "\n",
       "    .dataframe thead th {\n",
       "        text-align: right;\n",
       "    }\n",
       "</style>\n",
       "<table border=\"1\" class=\"dataframe\">\n",
       "  <thead>\n",
       "    <tr style=\"text-align: right;\">\n",
       "      <th></th>\n",
       "      <th>text</th>\n",
       "      <th>entities</th>\n",
       "    </tr>\n",
       "  </thead>\n",
       "  <tbody>\n",
       "    <tr>\n",
       "      <th>0</th>\n",
       "      <td>John Doe is planning to visit the Grand Canyon...</td>\n",
       "      <td>[(John Doe, PERSON), (the Grand Canyon, LOC), ...</td>\n",
       "    </tr>\n",
       "    <tr>\n",
       "      <th>1</th>\n",
       "      <td>Alice Johnson works at Microsoft in Seattle.</td>\n",
       "      <td>[(Alice Johnson, PERSON), (Microsoft, ORG), (S...</td>\n",
       "    </tr>\n",
       "    <tr>\n",
       "      <th>2</th>\n",
       "      <td>Yesterday, I met with Dr. Emily Clark at the h...</td>\n",
       "      <td>[(Yesterday, DATE), (Emily Clark, PERSON)]</td>\n",
       "    </tr>\n",
       "    <tr>\n",
       "      <th>3</th>\n",
       "      <td>Michael Jordan was a legendary basketball player.</td>\n",
       "      <td>[(Michael Jordan, PERSON)]</td>\n",
       "    </tr>\n",
       "    <tr>\n",
       "      <th>4</th>\n",
       "      <td>Emma Watson starred in the Harry Potter series.</td>\n",
       "      <td>[(Emma Watson, PERSON), (Harry Potter, PERSON)]</td>\n",
       "    </tr>\n",
       "    <tr>\n",
       "      <th>5</th>\n",
       "      <td>Barack Obama was the 44th President of the Uni...</td>\n",
       "      <td>[(Barack Obama, PERSON), (44th, ORDINAL), (the...</td>\n",
       "    </tr>\n",
       "    <tr>\n",
       "      <th>6</th>\n",
       "      <td>Elon Musk is the CEO of SpaceX and Tesla.</td>\n",
       "      <td>[(Elon Musk, PERSON), (SpaceX, NORP), (Tesla, ...</td>\n",
       "    </tr>\n",
       "  </tbody>\n",
       "</table>\n",
       "</div>"
      ],
      "text/plain": [
       "                                                text  \\\n",
       "0  John Doe is planning to visit the Grand Canyon...   \n",
       "1       Alice Johnson works at Microsoft in Seattle.   \n",
       "2  Yesterday, I met with Dr. Emily Clark at the h...   \n",
       "3  Michael Jordan was a legendary basketball player.   \n",
       "4    Emma Watson starred in the Harry Potter series.   \n",
       "5  Barack Obama was the 44th President of the Uni...   \n",
       "6          Elon Musk is the CEO of SpaceX and Tesla.   \n",
       "\n",
       "                                            entities  \n",
       "0  [(John Doe, PERSON), (the Grand Canyon, LOC), ...  \n",
       "1  [(Alice Johnson, PERSON), (Microsoft, ORG), (S...  \n",
       "2         [(Yesterday, DATE), (Emily Clark, PERSON)]  \n",
       "3                         [(Michael Jordan, PERSON)]  \n",
       "4    [(Emma Watson, PERSON), (Harry Potter, PERSON)]  \n",
       "5  [(Barack Obama, PERSON), (44th, ORDINAL), (the...  \n",
       "6  [(Elon Musk, PERSON), (SpaceX, NORP), (Tesla, ...  "
      ]
     },
     "execution_count": 7,
     "metadata": {},
     "output_type": "execute_result"
    }
   ],
   "source": [
    "df_ner['entities'] = df_ner['text'].apply(perform_ner)\n",
    "\n",
    "df_ner[['text', 'entities']]"
   ]
  },
  {
   "cell_type": "markdown",
   "id": "4242d00f-7141-40bb-8e8c-269913899e66",
   "metadata": {},
   "source": [
    "### <span style='color:#ff6200'>Sentiment Analysis</span>"
   ]
  },
  {
   "cell_type": "code",
   "execution_count": 8,
   "id": "41500e20-a12d-4eb6-9b17-cc448c33f7f4",
   "metadata": {},
   "outputs": [
    {
     "data": {
      "text/html": [
       "<div>\n",
       "<style scoped>\n",
       "    .dataframe tbody tr th:only-of-type {\n",
       "        vertical-align: middle;\n",
       "    }\n",
       "\n",
       "    .dataframe tbody tr th {\n",
       "        vertical-align: top;\n",
       "    }\n",
       "\n",
       "    .dataframe thead th {\n",
       "        text-align: right;\n",
       "    }\n",
       "</style>\n",
       "<table border=\"1\" class=\"dataframe\">\n",
       "  <thead>\n",
       "    <tr style=\"text-align: right;\">\n",
       "      <th></th>\n",
       "      <th>text</th>\n",
       "    </tr>\n",
       "  </thead>\n",
       "  <tbody>\n",
       "    <tr>\n",
       "      <th>0</th>\n",
       "      <td>I love this product! It is amazing and works p...</td>\n",
       "    </tr>\n",
       "    <tr>\n",
       "      <th>1</th>\n",
       "      <td>This is the worst service I have ever experien...</td>\n",
       "    </tr>\n",
       "    <tr>\n",
       "      <th>2</th>\n",
       "      <td>The food was great, but the service was very s...</td>\n",
       "    </tr>\n",
       "    <tr>\n",
       "      <th>3</th>\n",
       "      <td>I am so happy with my new phone; it has excell...</td>\n",
       "    </tr>\n",
       "    <tr>\n",
       "      <th>4</th>\n",
       "      <td>I am disappointed with the quality of this item.</td>\n",
       "    </tr>\n",
       "  </tbody>\n",
       "</table>\n",
       "</div>"
      ],
      "text/plain": [
       "                                                text\n",
       "0  I love this product! It is amazing and works p...\n",
       "1  This is the worst service I have ever experien...\n",
       "2  The food was great, but the service was very s...\n",
       "3  I am so happy with my new phone; it has excell...\n",
       "4   I am disappointed with the quality of this item."
      ]
     },
     "execution_count": 8,
     "metadata": {},
     "output_type": "execute_result"
    }
   ],
   "source": [
    "data_sa = {\n",
    "    'text': [\n",
    "        'I love this product! It is amazing and works perfectly.',\n",
    "        'This is the worst service I have ever experienced.',\n",
    "        'The food was great, but the service was very slow.',\n",
    "        'I am so happy with my new phone; it has excellent features.',\n",
    "        'I am disappointed with the quality of this item.',\n",
    "        'Absolutely fantastic! I couldn’t be more satisfied.',\n",
    "        'The movie was okay, not great, but not terrible either.',\n",
    "        'I hate the new update, it’s full of bugs and glitches.',\n",
    "        'The weather today is fantastic, I am feeling so good!',\n",
    "        'I am not sure if I like this new design.'\n",
    "    ]\n",
    "}\n",
    "\n",
    "df_sa = pd.DataFrame(data_sa)\n",
    "\n",
    "df_sa.head()"
   ]
  },
  {
   "cell_type": "code",
   "execution_count": 9,
   "id": "7d8a2576-6007-451c-b3cc-963b3a315bf3",
   "metadata": {},
   "outputs": [],
   "source": [
    "analyzer = SentimentIntensityAnalyzer()"
   ]
  },
  {
   "cell_type": "code",
   "execution_count": 10,
   "id": "4d0d2718-6ace-470e-9a28-1035de467461",
   "metadata": {},
   "outputs": [],
   "source": [
    "def analyze_sentiment(text):\n",
    "    \"\"\"\n",
    "    Perform sentiment analysis using VADER.\n",
    "\n",
    "    Args:\n",
    "    - text (str): Input text for sentiment analysis.\n",
    "\n",
    "    Returns:\n",
    "    - sentiment (dict): A dictionary of sentiment scores (compound, pos, neu, neg).\n",
    "    \"\"\"\n",
    "    sentiment = analyzer.polarity_scores(text)\n",
    "    return sentiment\n"
   ]
  },
  {
   "cell_type": "code",
   "execution_count": 12,
   "id": "03e41cb9-4752-4d1f-b956-496da3f7a641",
   "metadata": {},
   "outputs": [
    {
     "data": {
      "text/html": [
       "<div>\n",
       "<style scoped>\n",
       "    .dataframe tbody tr th:only-of-type {\n",
       "        vertical-align: middle;\n",
       "    }\n",
       "\n",
       "    .dataframe tbody tr th {\n",
       "        vertical-align: top;\n",
       "    }\n",
       "\n",
       "    .dataframe thead th {\n",
       "        text-align: right;\n",
       "    }\n",
       "</style>\n",
       "<table border=\"1\" class=\"dataframe\">\n",
       "  <thead>\n",
       "    <tr style=\"text-align: right;\">\n",
       "      <th></th>\n",
       "      <th>text</th>\n",
       "      <th>sentiment</th>\n",
       "      <th>sentiment_label</th>\n",
       "    </tr>\n",
       "  </thead>\n",
       "  <tbody>\n",
       "    <tr>\n",
       "      <th>0</th>\n",
       "      <td>I love this product! It is amazing and works p...</td>\n",
       "      <td>{'neg': 0.0, 'neu': 0.359, 'pos': 0.641, 'comp...</td>\n",
       "      <td>Positive</td>\n",
       "    </tr>\n",
       "    <tr>\n",
       "      <th>1</th>\n",
       "      <td>This is the worst service I have ever experien...</td>\n",
       "      <td>{'neg': 0.339, 'neu': 0.661, 'pos': 0.0, 'comp...</td>\n",
       "      <td>Negative</td>\n",
       "    </tr>\n",
       "    <tr>\n",
       "      <th>2</th>\n",
       "      <td>The food was great, but the service was very s...</td>\n",
       "      <td>{'neg': 0.0, 'neu': 0.779, 'pos': 0.221, 'comp...</td>\n",
       "      <td>Positive</td>\n",
       "    </tr>\n",
       "    <tr>\n",
       "      <th>3</th>\n",
       "      <td>I am so happy with my new phone; it has excell...</td>\n",
       "      <td>{'neg': 0.0, 'neu': 0.542, 'pos': 0.458, 'comp...</td>\n",
       "      <td>Positive</td>\n",
       "    </tr>\n",
       "    <tr>\n",
       "      <th>4</th>\n",
       "      <td>I am disappointed with the quality of this item.</td>\n",
       "      <td>{'neg': 0.279, 'neu': 0.721, 'pos': 0.0, 'comp...</td>\n",
       "      <td>Negative</td>\n",
       "    </tr>\n",
       "    <tr>\n",
       "      <th>5</th>\n",
       "      <td>Absolutely fantastic! I couldn’t be more satis...</td>\n",
       "      <td>{'neg': 0.0, 'neu': 0.407, 'pos': 0.593, 'comp...</td>\n",
       "      <td>Positive</td>\n",
       "    </tr>\n",
       "    <tr>\n",
       "      <th>6</th>\n",
       "      <td>The movie was okay, not great, but not terribl...</td>\n",
       "      <td>{'neg': 0.154, 'neu': 0.503, 'pos': 0.343, 'co...</td>\n",
       "      <td>Positive</td>\n",
       "    </tr>\n",
       "    <tr>\n",
       "      <th>7</th>\n",
       "      <td>I hate the new update, it’s full of bugs and g...</td>\n",
       "      <td>{'neg': 0.27, 'neu': 0.73, 'pos': 0.0, 'compou...</td>\n",
       "      <td>Negative</td>\n",
       "    </tr>\n",
       "    <tr>\n",
       "      <th>8</th>\n",
       "      <td>The weather today is fantastic, I am feeling s...</td>\n",
       "      <td>{'neg': 0.0, 'neu': 0.434, 'pos': 0.566, 'comp...</td>\n",
       "      <td>Positive</td>\n",
       "    </tr>\n",
       "    <tr>\n",
       "      <th>9</th>\n",
       "      <td>I am not sure if I like this new design.</td>\n",
       "      <td>{'neg': 0.157, 'neu': 0.642, 'pos': 0.201, 'co...</td>\n",
       "      <td>Positive</td>\n",
       "    </tr>\n",
       "  </tbody>\n",
       "</table>\n",
       "</div>"
      ],
      "text/plain": [
       "                                                text  \\\n",
       "0  I love this product! It is amazing and works p...   \n",
       "1  This is the worst service I have ever experien...   \n",
       "2  The food was great, but the service was very s...   \n",
       "3  I am so happy with my new phone; it has excell...   \n",
       "4   I am disappointed with the quality of this item.   \n",
       "5  Absolutely fantastic! I couldn’t be more satis...   \n",
       "6  The movie was okay, not great, but not terribl...   \n",
       "7  I hate the new update, it’s full of bugs and g...   \n",
       "8  The weather today is fantastic, I am feeling s...   \n",
       "9           I am not sure if I like this new design.   \n",
       "\n",
       "                                           sentiment sentiment_label  \n",
       "0  {'neg': 0.0, 'neu': 0.359, 'pos': 0.641, 'comp...        Positive  \n",
       "1  {'neg': 0.339, 'neu': 0.661, 'pos': 0.0, 'comp...        Negative  \n",
       "2  {'neg': 0.0, 'neu': 0.779, 'pos': 0.221, 'comp...        Positive  \n",
       "3  {'neg': 0.0, 'neu': 0.542, 'pos': 0.458, 'comp...        Positive  \n",
       "4  {'neg': 0.279, 'neu': 0.721, 'pos': 0.0, 'comp...        Negative  \n",
       "5  {'neg': 0.0, 'neu': 0.407, 'pos': 0.593, 'comp...        Positive  \n",
       "6  {'neg': 0.154, 'neu': 0.503, 'pos': 0.343, 'co...        Positive  \n",
       "7  {'neg': 0.27, 'neu': 0.73, 'pos': 0.0, 'compou...        Negative  \n",
       "8  {'neg': 0.0, 'neu': 0.434, 'pos': 0.566, 'comp...        Positive  \n",
       "9  {'neg': 0.157, 'neu': 0.642, 'pos': 0.201, 'co...        Positive  "
      ]
     },
     "execution_count": 12,
     "metadata": {},
     "output_type": "execute_result"
    }
   ],
   "source": [
    "df_sa['sentiment'] = df_sa['text'].apply(analyze_sentiment)\n",
    "\n",
    "df_sa['sentiment_label'] = df_sa['sentiment'].apply(lambda x: 'Positive' if x['compound'] > 0.05 else ('Negative' if x['compound'] < -0.05 else 'Neutral'))\n",
    "\n",
    "df_sa[['text', 'sentiment', 'sentiment_label']]"
   ]
  }
 ],
 "metadata": {
  "colab": {
   "provenance": []
  },
  "kernelspec": {
   "display_name": "Python 3 (ipykernel)",
   "language": "python",
   "name": "python3"
  },
  "language_info": {
   "codemirror_mode": {
    "name": "ipython",
    "version": 3
   },
   "file_extension": ".py",
   "mimetype": "text/x-python",
   "name": "python",
   "nbconvert_exporter": "python",
   "pygments_lexer": "ipython3",
   "version": "3.12.1"
  },
  "widgets": {
   "application/vnd.jupyter.widget-state+json": {
    "state": {},
    "version_major": 2,
    "version_minor": 0
   }
  }
 },
 "nbformat": 4,
 "nbformat_minor": 5
}
